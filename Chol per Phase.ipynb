{
 "cells": [
  {
   "cell_type": "markdown",
   "metadata": {},
   "source": [
    "# Identify Chol in Lo or Ld Phase for Symmetric and Asymmetric Systems"
   ]
  },
  {
   "cell_type": "code",
   "execution_count": 298,
   "metadata": {},
   "outputs": [],
   "source": [
    "from __future__ import print_function\n",
    "%matplotlib inline\n",
    "import mdtraj as md\n",
    "import numpy as np\n",
    "import matplotlib.pyplot as plt\n",
    "from matplotlib.collections import PatchCollection\n",
    "from matplotlib.patches import Polygon\n",
    "#import scipy.cluster.hierarchy\n",
    "import scipy.spatial"
   ]
  },
  {
   "cell_type": "code",
   "execution_count": 299,
   "metadata": {},
   "outputs": [],
   "source": [
    "traj=md.load('Rho=one_10us.xtc',top='Rho=one_10us.gro',stride=8)"
   ]
  },
  {
   "cell_type": "code",
   "execution_count": 300,
   "metadata": {},
   "outputs": [],
   "source": [
    "name2=\"1\""
   ]
  },
  {
   "cell_type": "code",
   "execution_count": null,
   "metadata": {},
   "outputs": [],
   "source": []
  },
  {
   "cell_type": "code",
   "execution_count": 301,
   "metadata": {},
   "outputs": [
    {
     "data": {
      "text/plain": [
       "28"
      ]
     },
     "execution_count": 301,
     "metadata": {},
     "output_type": "execute_result"
    }
   ],
   "source": [
    "traj.n_frames"
   ]
  },
  {
   "cell_type": "code",
   "execution_count": 302,
   "metadata": {},
   "outputs": [],
   "source": [
    "topology=traj.topology\n",
    "allhead=topology.select('name PO4 or name ROH')"
   ]
  },
  {
   "cell_type": "code",
   "execution_count": 303,
   "metadata": {},
   "outputs": [],
   "source": [
    "resnames=[atom.residue.name for atom in topology.atoms]"
   ]
  },
  {
   "cell_type": "code",
   "execution_count": 304,
   "metadata": {},
   "outputs": [],
   "source": [
    "#x,y coordinates of all for finding neighbors to determine local midplane z-value\n",
    "# here, best to use xy radius of neighbors, since Voronoi across 2 leaflets could have complications\n",
    "\n",
    "allheadxy=list([] for _ in xrange(traj.n_frames))\n",
    "allheadz=list([] for _ in xrange(traj.n_frames))\n",
    "for nn in range(traj.n_frames):\n",
    "    for i in range(len(allhead)):\n",
    "        allheadi=allhead[i]\n",
    "        allheadxy[nn].append(traj.xyz[nn][allheadi][0:2:1])\n",
    "        allheadz[nn].append(traj.xyz[nn][allheadi][2])\n"
   ]
  },
  {
   "cell_type": "code",
   "execution_count": 305,
   "metadata": {},
   "outputs": [],
   "source": [
    "# mdtraj can't handle neighbors for gro (rather than xtc) inputs, so do it myself\n",
    "#cutoffsq = 2.4**2; #square of maximum xy distance for neighbors\n",
    "cutoffsq=1.0**2\n",
    "neigh=list([] for _ in xrange(traj.n_frames))\n",
    "for nn in range(traj.n_frames):\n",
    "    neigh[nn]=list([] for _ in xrange(len(allhead)))\n",
    "    for i in range(len(allheadxy[nn])):\n",
    "        xyi=allheadxy[nn][i]\n",
    "        for j in range(len(allhead)-i-1): #not self, but will add for midplane finding\n",
    "            xyj=allheadxy[nn][j+i+1]\n",
    "            distsq=(xyi[0]-xyj[0])**2 + (xyi[1]-xyj[1])**2\n",
    "            if (distsq < cutoffsq):\n",
    "                neigh[nn][i].append(j+i+1)\n",
    "                neigh[nn][j+i+1].append(i)\n",
    "  "
   ]
  },
  {
   "cell_type": "code",
   "execution_count": 306,
   "metadata": {},
   "outputs": [],
   "source": [
    "#new leaflet id method based on tilt angles; PO4-C4A or ROH-C1 (both +6 beads)\n",
    "num_head=len(allhead)\n",
    "tiltvectors=list([] for _ in xrange(traj.n_frames))\n",
    "\n",
    "for nn in range(traj.n_frames):\n",
    "    tiltvectors[nn]=list([] for _ in xrange(num_head)) #store vector roh-c1 or po4-c4a\n",
    "    \n",
    "    for i in range(num_head):\n",
    "        tiltvectors[nn][i]=traj.xyz[nn][allhead[i]]-traj.xyz[nn][allhead[i]+6]\n"
   ]
  },
  {
   "cell_type": "code",
   "execution_count": 307,
   "metadata": {},
   "outputs": [],
   "source": [
    "# must fix periodic boundary condition errors in tiltvectors, then calculate tiltangle\n",
    "norms=list([] for _ in xrange(traj.n_frames))\n",
    "for nn in range(traj.n_frames):\n",
    "    norms[nn]=list([] for _ in xrange(len(allhead)))\n",
    "    halfx=0.5*traj.unitcell_lengths[nn][0]\n",
    "    halfy=0.5*traj.unitcell_lengths[nn][1]\n",
    "    halfz=0.5*traj.unitcell_lengths[nn][2]\n",
    "    for i in range(len(allhead)):\n",
    "        norms[nn][i]=np.linalg.norm(tiltvectors[nn][i])\n",
    "        if (norms[nn][i] > halfz):\n",
    "            if (np.abs(tiltvectors[nn][i][0]) > halfx):\n",
    "                if (tiltvectors[nn][i][0]>0): \n",
    "                    tiltvectors[nn][i][0]=tiltvectors[nn][i][0]-2*halfx\n",
    "                else:\n",
    "                    tiltvectors[nn][i][0]=tiltvectors[nn][i][0]+2*halfx\n",
    "            if (np.abs(tiltvectors[nn][i][1]) > halfy):\n",
    "                if (tiltvectors[nn][i][1]>0): \n",
    "                    tiltvectors[nn][i][1]=tiltvectors[nn][i][1]-2*halfy\n",
    "                else:\n",
    "                    tiltvectors[nn][i][1]=tiltvectors[nn][i][1]+2*halfy\n",
    "            if (np.abs(tiltvectors[nn][i][2]) > halfz):\n",
    "                if (tiltvectors[nn][i][2]>0): \n",
    "                    tiltvectors[nn][i][2]=tiltvectors[nn][i][2]-2*halfz\n",
    "                else:\n",
    "                    tiltvectors[nn][i][2]=tiltvectors[nn][i][2]+2*halfz\n",
    "\n",
    "    for i in range(len(allhead)):\n",
    "        norms[nn][i]=np.linalg.norm(tiltvectors[nn][i])\n"
   ]
  },
  {
   "cell_type": "code",
   "execution_count": 308,
   "metadata": {},
   "outputs": [],
   "source": [
    "# use neigh to find local average tilt vector, outliers are not in a leaflet\n",
    "# if pointing neg in z, flip in x,y,z for making average in outer leaflet\n",
    "localvector=list([] for _ in xrange(traj.n_frames))\n",
    "for nn in range(traj.n_frames):\n",
    "    localvector[nn]=list([] for _ in xrange(len(allhead)))\n",
    "    for i in range(len(allhead)):\n",
    "        localvectorsx=[]\n",
    "        localvectorsy=[]\n",
    "        localvectorsz=[]\n",
    "        sgn=np.sign(tiltvectors[nn][i][2])\n",
    "        localvectorsx.append(sgn*tiltvectors[nn][i][0]) #include self\n",
    "        localvectorsy.append(sgn*tiltvectors[nn][i][1]) #include self\n",
    "        localvectorsz.append(sgn*tiltvectors[nn][i][2]) #include self\n",
    "        for j in range(len(neigh[nn][i])):\n",
    "            sgn=np.sign(tiltvectors[nn][neigh[nn][i][j]][2])\n",
    "            localvectorsx.append(sgn*tiltvectors[nn][neigh[nn][i][j]][0])\n",
    "            localvectorsy.append(sgn*tiltvectors[nn][neigh[nn][i][j]][1])\n",
    "            localvectorsz.append(sgn*tiltvectors[nn][neigh[nn][i][j]][2])\n",
    "        localvector[nn][i]=[np.mean(localvectorsx),np.mean(localvectorsy),np.mean(localvectorsz)]\n",
    "       "
   ]
  },
  {
   "cell_type": "code",
   "execution_count": 309,
   "metadata": {},
   "outputs": [
    {
     "name": "stderr",
     "output_type": "stream",
     "text": [
      "/Users/naveen/anaconda3/envs/ipykernel_py2/lib/python2.7/site-packages/ipykernel_launcher.py:17: RuntimeWarning: invalid value encountered in arccos\n"
     ]
    }
   ],
   "source": [
    "# find angle between orientation vector and local average orientation vector for each lipid\n",
    "# in range [0,180]\n",
    "diffangle=list([] for _ in xrange(traj.n_frames))\n",
    "for nn in range(traj.n_frames):\n",
    "    diffangle[nn]=list([] for _ in xrange(len(allhead)))\n",
    "    for i in range(len(allhead)):\n",
    "        normlv=np.linalg.norm(localvector[nn][i])\n",
    "        normtv=np.linalg.norm(tiltvectors[nn][i])\n",
    "        cos=np.dot(localvector[nn][i],tiltvectors[nn][i])/(normlv*normtv)\n",
    "        if (cos==0):\n",
    "            diffangle[nn][i]=90\n",
    "        elif (cos==1 and np.sign(localvector[nn][i][2])==np.sign(tiltvectors[nn][i][2])):\n",
    "            diffangle[nn][i]=0\n",
    "        elif (cos==1 and np.sign(localvector[nn][i][2])==np.sign(tiltvectors[nn][i][2])):\n",
    "            diffangle[nn][i]=180\n",
    "        else:\n",
    "            diffangle[nn][i]=np.arccos(cos)*180./np.pi\n"
   ]
  },
  {
   "cell_type": "code",
   "execution_count": 310,
   "metadata": {},
   "outputs": [],
   "source": [
    "#have array with values placing each head in one leaflet: 0=lower, 1=upper, 2=between\n",
    "head_leaflet=list([] for _ in xrange(traj.n_frames))\n",
    "for nn in range(traj.n_frames):\n",
    "    head_leaflet[nn]=list([] for _ in xrange(len(allhead)))\n",
    "    for i in range(len(allhead)):\n",
    "        if (diffangle[nn][i]>120):\n",
    "            head_leaflet[nn][i]=0\n",
    "        elif (diffangle[nn][i]<60):\n",
    "            head_leaflet[nn][i]=1\n",
    "        else:\n",
    "            head_leaflet[nn][i]=2"
   ]
  },
  {
   "cell_type": "code",
   "execution_count": 311,
   "metadata": {},
   "outputs": [],
   "source": [
    "# want to identify all midplane chol and remove all \"midplane\" phospholipids\n",
    "# tilt angle insufficient\n",
    "# chol: find distance from ROH to nearest PO4; if beyond threshold, then in midplane; \n",
    "# else, copy leaflet ID (do for all phospholipids); only if copying non-midplane\n",
    "\n",
    "for nn in range(traj.n_frames):\n",
    "    fixedchol=0\n",
    "    fixedphos=0\n",
    "    midplanechol=0\n",
    "    for i in range(len(allhead)):\n",
    "        mindist=100.0\n",
    "        if (head_leaflet[nn][i]==2 and (not resnames[allhead[i]]=='CHOL')): #phospholipids, must assign\n",
    "            for j in range(len(neigh[nn][i])):\n",
    "                if (not resnames[allhead[neigh[nn][i][j]]]=='CHOL'):\n",
    "                    dist=np.linalg.norm(traj.xyz[nn][allhead[i]]-traj.xyz[nn][allhead[neigh[nn][i][j]]])\n",
    "                    if (dist < mindist and (not head_leaflet[nn][neigh[nn][i][j]]==2)):\n",
    "                        mindist=dist\n",
    "                        correct_leaflet=head_leaflet[nn][neigh[nn][i][j]]\n",
    "            head_leaflet[nn][i]=correct_leaflet\n",
    "            fixedphos=fixedphos+1\n",
    "    #must fix all phospholipids before all chols, since some may use fixed phospholipid leaflet id\n",
    "    # so, must go through allhead twice\n",
    "    for i in range(len(allhead)):\n",
    "        mindist=100.0\n",
    "        if (resnames[allhead[i]]=='CHOL'): #all chol, ignoring angle\n",
    "            for j in range(len(neigh[nn][i])):\n",
    "                if (not resnames[allhead[neigh[nn][i][j]]]=='CHOL'):\n",
    "                    dist=np.linalg.norm(traj.xyz[nn][allhead[i]]-traj.xyz[nn][allhead[neigh[nn][i][j]]])\n",
    "                    if (dist < mindist and (not head_leaflet[nn][neigh[nn][i][j]]==2)):\n",
    "                        mindist=dist\n",
    "                        correct_leaflet=head_leaflet[nn][neigh[nn][i][j]]\n",
    "            if (mindist<1.4): #close to a headgroup, so in a leaflet\n",
    "                head_leaflet[nn][i]=correct_leaflet\n",
    "                fixedchol=fixedchol+1\n",
    "            else:\n",
    "                head_leaflet[nn][i]=2\n",
    "                midplanechol=midplanechol+1"
   ]
  },
  {
   "cell_type": "code",
   "execution_count": 312,
   "metadata": {},
   "outputs": [],
   "source": [
    "# only need upper leaflet heads for this situation\n",
    "upperheads=list([] for _ in xrange(traj.n_frames))\n",
    "lowerheads=list([] for _ in xrange(traj.n_frames))\n",
    "middle=list([] for _ in xrange(traj.n_frames))\n",
    "for nn in range(traj.n_frames):\n",
    "#    upperheads[nn]=[]\n",
    "    for i in range(len(allhead)):\n",
    "        if head_leaflet[nn][i]==1:\n",
    "            upperheads[nn].append(allhead[i])\n",
    "        if head_leaflet[nn][i]==0:\n",
    "            lowerheads[nn].append(allhead[i])\n",
    "        if head_leaflet[nn][i]==2:\n",
    "            middle[nn].append(allhead[i])\n",
    "            "
   ]
  },
  {
   "cell_type": "code",
   "execution_count": 313,
   "metadata": {},
   "outputs": [],
   "source": [
    "#count DPPC as fraction of upper total, to find global concentration of DPPC\n",
    "upperdppc=list([] for _ in xrange(traj.n_frames))\n",
    "#uppertotal=list([] for _ in xrange(traj.n_frames))\n",
    "globalconc=list([] for _ in xrange(traj.n_frames))\n",
    "\n",
    "for nn in range(traj.n_frames):\n",
    "    upperdppc[nn]=0\n",
    "    for j in range(len(upperheads[nn])):\n",
    "        if(resnames[upperheads[nn][j]]=='DXPC' or resnames[upperheads[nn][j]]=='DBPC' or resnames[upperheads[nn][j]]=='DPPC' or resnames[upperheads[nn][j]]=='CHOL'):\n",
    "            upperdppc[nn]=upperdppc[nn]+1\n",
    "    globalconc[nn]=float(upperdppc[nn])/len(upperheads[nn])"
   ]
  },
  {
   "cell_type": "code",
   "execution_count": 314,
   "metadata": {},
   "outputs": [],
   "source": [
    "#track number of cholesterol per leaflet \n",
    "upperChol=list([] for _ in xrange(traj.n_frames))\n",
    "lowerChol=list([] for _ in xrange(traj.n_frames))\n",
    "middleChol=list([] for _ in xrange(traj.n_frames))\n",
    "for nn in range(traj.n_frames):\n",
    "    uChol=0\n",
    "    lChol=0\n",
    "    mChol=0\n",
    "    for i in range(len(upperheads[nn])):\n",
    "        if resnames[upperheads[nn][i]]=='CHOL':\n",
    "            uChol=uChol+1\n",
    "    for j in range(len(lowerheads[nn])):\n",
    "        if resnames[lowerheads[nn][j]]=='CHOL':\n",
    "            lChol=lChol+1\n",
    "    for r in range(len(middle[nn])):\n",
    "        if resnames[middle[nn][r]]=='CHOL':\n",
    "            mChol=mChol+1\n",
    "    upperChol[nn]=uChol\n",
    "    lowerChol[nn]=lChol\n",
    "    middleChol[nn]=mChol\n"
   ]
  },
  {
   "cell_type": "code",
   "execution_count": 315,
   "metadata": {},
   "outputs": [],
   "source": [
    "#x,y coordinates of outer for Voronoi\n",
    "headxy=list([] for _ in xrange(traj.n_frames)) #[frame][head]\n",
    "intmember=list([] for _ in xrange(traj.n_frames))\n",
    "intfrac=list([] for _ in xrange(traj.n_frames))\n",
    "regintfrac=list([] for _ in xrange(traj.n_frames))\n",
    "u_phase_global=list([] for _ in xrange(traj.n_frames))\n",
    "for nn in range(traj.n_frames):\n",
    "#    headxy[nn]=list([] for _ in xrange(len(upperheads[nn])))\n",
    "    for i in range(len(upperheads[nn])):\n",
    "        upperheadsi=upperheads[nn][i]\n",
    "        headxy[nn].append(traj.xyz[nn][upperheadsi][0:2:1])\n",
    "        \n",
    "\n",
    "    vor=scipy.spatial.Voronoi(np.array(headxy[nn]))\n",
    "\n",
    "#Voronoi neighbors vneigh\n",
    "\n",
    "#generate list of neighbors, edgeneigh\n",
    "    edgeneigh=list([] for _ in xrange(len(upperheads[nn])))\n",
    "    for k in range(len(vor.ridge_points)):\n",
    "        pair=vor.ridge_points[k]\n",
    "        edgeneigh[pair[0]].append(pair[1])\n",
    "        edgeneigh[pair[1]].append(pair[0])\n",
    "\n",
    "\n",
    "\n",
    "    vneigh=list([] for _ in xrange(len(upperheads[nn])))  #lipid type\n",
    "    vneighres=list([] for _ in xrange(len(upperheads[nn])))\n",
    "    for i in range(len(upperheads[nn])):\n",
    "        vneighheads=edgeneigh[i] #upperhead index, not atom\n",
    "        if not vneighheads:\n",
    "            vneigh[i]=[]\n",
    "            vneighres[i]=[]\n",
    "        else:\n",
    "            for j in range(len(vneighheads)):\n",
    "                vneigh[i].append(resnames[upperheads[nn][vneighheads[j]]])\n",
    "                vneighres[i].append(vneighheads[j])\n",
    "\n",
    "\n",
    "#phase based on edges\n",
    "    vphase=list([] for _ in xrange(len(upperheads[nn])))\n",
    "    for i in range(len(upperheads[nn])):\n",
    "        vneightot=1+len(vneigh[i]) #include self\n",
    "        num_sat=0\n",
    "        if (resnames[upperheads[nn][j]]=='DXPC' or resnames[upperheads[nn][j]]=='DBPC' or resnames[upperheads[nn][j]]=='DPPC' or resnames[upperheads[nn][j]]=='CHOL'):\n",
    "            num_sat=num_sat+1\n",
    "        for j in range(len(vneigh[i])):\n",
    "            if (vneigh[i][j]=='DXPC' or vneigh[i][j]=='DBPC' or vneigh[i][j]=='DPPC' or vneigh[i][j]=='CHOL'):\n",
    "                num_sat=num_sat+1\n",
    "        vlocal_conc=float(num_sat)/vneightot #integer would always be zero\n",
    "        if (vlocal_conc > globalconc[nn]):\n",
    "            vphase[i] = 1 # Lo=1\n",
    "        else:\n",
    "            vphase[i] = 0 # Ld=0\n",
    "        \n",
    "#iterate edge-based phase determination to reduce small clusters\n",
    "    vphase2=list([] for _ in xrange(len(upperheads[nn])))\n",
    "    for i in range(len(upperheads[nn])):\n",
    "        vneightot=1+len(vneigh[i])\n",
    "        num_lo=0\n",
    "        if (vphase[i]==1):\n",
    "            num_lo=num_lo+1\n",
    "        for j in range(len(vneigh[i])):\n",
    "            if(vphase[vneighres[i][j]]==1):\n",
    "                num_lo=num_lo+1\n",
    "        vlocal_conc=float(num_lo)/vneightot\n",
    "        if (vlocal_conc > 0.49):\n",
    "            vphase2[i]=1\n",
    "        else:\n",
    "            vphase2[i]=0\n",
    "\n",
    "\n",
    "#iterate edge-based phase determination to reduce small clusters\n",
    "    vphase3=list([] for _ in xrange(len(upperheads[nn])))\n",
    "    for i in range(len(upperheads[nn])):\n",
    "        vneightot=1+len(vneigh[i])\n",
    "        num_lo=0\n",
    "        if (vphase2[i]==1):\n",
    "            num_lo=num_lo+1\n",
    "        for j in range(len(vneigh[i])):\n",
    "            if(vphase2[vneighres[i][j]]==1):\n",
    "                num_lo=num_lo+1\n",
    "        vlocal_conc=float(num_lo)/vneightot\n",
    "        if (vlocal_conc > 0.49):\n",
    "            vphase3[i]=1\n",
    "        else:\n",
    "            vphase3[i]=0\n",
    "            \n",
    "#################################################################################\n",
    "#ONLY GOING TO USE VPHASE TO CREAT U_PHASE\n",
    "    domain=list([] for _ in xrange(len(upperheads[nn])))\n",
    "    for i in range(len(upperheads[nn])): #N: Cycling through all molecule heads\n",
    "        domain[i]=0 # 0 = unassigned; N: Assigning each domain a value of 0\n",
    "\n",
    "    recurlist=[] # list of heads that must run through domain algorithm because in chain of neighbors\n",
    "\n",
    "    domain[0]=1 # first lipid sets first domain\n",
    "    for i in range(len(vneighres[0])): # vneighres is allheadz index, not atom\n",
    "        ni=vneighres[0][i] #N: Looking at specific patch\n",
    "        if vphase[ni]==vphase[0]: #only neighbors in same phase; N: Check if they have the same phase\n",
    "            domain[ni]=1\n",
    "            recurlist.append(ni) #N: Add it the heads that need to be checked against their neighbors\n",
    "    num_domains=1\n",
    "    \n",
    "    while len(recurlist): # no new domain should be introduced in this section\n",
    "        headi=recurlist[0] #N: Looking at the first entry in recurlist\n",
    "        neighi=vneighres[headi] #N: Finding its neighbors\n",
    "        recurlist=recurlist[1:] # remove 1st element, now being handled\n",
    "        for j in range(len(neighi)):#N: For all of its neighbors\n",
    "            ni=neighi[j] \n",
    "            if (vphase[ni]==vphase[headi] and domain[ni]==0): #avoid infinitely putting back into recurlist; N: is the phase same as domian\n",
    "                domain[ni]=domain[headi] #N: Domain is the same as the head\n",
    "                recurlist.append(ni) #N: Put it back in the list to be checked again\n",
    "\n",
    "    #now iterate over other lipids, excluding those already marked\n",
    "    for i in range(len(upperheads[nn])-1): # 0 already done\n",
    "        if domain[i+1]==0: #not yet marked\n",
    "            neighi=vneighres[i+1]\n",
    "            num_domains=num_domains+1\n",
    "            domain[i+1]=num_domains\n",
    "            for j in range(len(neighi)):\n",
    "                ni=neighi[j]\n",
    "                if vphase[ni]==vphase[i+1]:\n",
    "                    domain[ni]=domain[i+1] \n",
    "                    recurlist.append(ni)\n",
    "            while len(recurlist): #until exhausted, then move onto next new domain\n",
    "                headi=recurlist[0]\n",
    "                neighi=vneighres[headi]\n",
    "                recurlist=recurlist[1:]\n",
    "                for j in range(len(neighi)):\n",
    "                    ni=neighi[j]\n",
    "                    if (vphase[ni]==vphase[headi] and domain[ni]==0):\n",
    "                        domain[ni]=domain[headi]\n",
    "                        recurlist.append(ni)\n",
    "                        \n",
    "    # see how many lipids in each domain\n",
    "    num_domains=max(domain)\n",
    "    domainsize=list([] for _ in xrange(num_domains))\n",
    "    for i in range(len(domainsize)):\n",
    "        domainsize[i]=0\n",
    "    for i in range(len(domain)):\n",
    "        di=domain[i]-1 #return to 0-index\n",
    "        domainsize[di]=domainsize[di]+1\n",
    "\n",
    "    #N: Method to get rid of domains that are less than 10 lipids long. 1) Find domains which are less than 10 lipids \n",
    "    #N: 2) Take every lipid with a small domain and add it to a list 3) Take that list and change the phase, and make\n",
    "    #N: an  updated phase list\n",
    "\n",
    "    #N: Going to make a list of the domains which are too small\n",
    "    small_domain=[]\n",
    "    lipid_counter=0 #N: Total number of lipids \n",
    "    for i in range(len(domainsize)): \n",
    "        if domainsize[i]<10: \n",
    "            small_domain.append(i+1)\n",
    "            lipid_counter=lipid_counter+domainsize[i]\n",
    "\n",
    "\n",
    "    #N: Go through domain(holds which domain every lipid belongs to) and see if its domain is in small_domian\n",
    "    #N: If it is, its phase needs to be changed \n",
    "    phase_req_change=[]\n",
    "    for i in range(len(domain)):\n",
    "        if domain[i] in small_domain:\n",
    "            phase_req_change.append(i)\n",
    "\n",
    "    #N: Go through phase_req_change. Each entry is the lipid whose phase needs to be switched. So take that entry\n",
    "    #N: and plug it into u_phase. Then switch the value of u_phase.\n",
    "    u_phase=[]\n",
    "\n",
    "    for i in range(len(vphase)):\n",
    "        if i in phase_req_change:\n",
    "            #print(n)\n",
    "            if vphase[i]==0:\n",
    "                u_phase.append(1)\n",
    "            if vphase[i]==1:\n",
    "                u_phase.append(0)\n",
    "        else: \n",
    "            u_phase.append(vphase[i])\n",
    "    u_phase_global[nn]=u_phase\n",
    "#############################################################\n",
    "\n",
    "# find Voronoi edges that are domain edges as well\n",
    "# find lipids that are \"members\" of the interface, i.e. have at least one edge on it\n",
    "    regint=0\n",
    "    intmember[nn]=list([] for _ in xrange(len(upperheads[nn])))\n",
    "    for i in range(len(upperheads[nn])):\n",
    "        vneightot=1+len(vneigh[i])\n",
    "        num_lo=0\n",
    "        if (u_phase[i]==1):\n",
    "            num_lo=num_lo+1\n",
    "        for j in range(len(vneigh[i])):\n",
    "            if(u_phase[vneighres[i][j]]==1):\n",
    "                num_lo=num_lo+1\n",
    "        vlocal_conc=float(num_lo)/vneightot\n",
    "        if (vlocal_conc==1 or vlocal_conc==0): #all same-phase neighbors\n",
    "            intmember[nn][i]=0\n",
    "        else: #not all neighbors belong to same phase\n",
    "            intmember[nn][i]=1\n",
    "            \n",
    "    intfrac[nn]=float(sum(intmember[nn]))/len(intmember[nn])\n",
    "            \n",
    " "
   ]
  },
  {
   "cell_type": "code",
   "execution_count": 316,
   "metadata": {},
   "outputs": [],
   "source": [
    "total_lo = list([] for _ in xrange(traj.n_frames))\n",
    "total_ld = list([] for _ in xrange(traj.n_frames))\n",
    "\n",
    "for nn in range(traj.n_frames):\n",
    "    total_lo[nn]=sum(u_phase_global[nn])\n",
    "    total_ld[nn] =int(len(u_phase_global[nn])-sum(u_phase_global[nn]))"
   ]
  },
  {
   "cell_type": "code",
   "execution_count": 317,
   "metadata": {},
   "outputs": [],
   "source": [
    "chol_phase=list([] for _ in xrange(traj.n_frames))\n",
    "for nn in range(traj.n_frames):\n",
    "    for i in range(len(upperheads[nn])):\n",
    "        if resnames[upperheads[nn][i]]==\"CHOL\":\n",
    "            chol_phase[nn].append(u_phase_global[nn][i])\n",
    "\n",
    "chol_lo=[]\n",
    "chol_ld=[]\n",
    "for nn in range(traj.n_frames):\n",
    "    chol_lo.append(sum(chol_phase[nn]))\n",
    "    chol_ld.append(len(chol_phase[nn])-sum(chol_phase[nn]))\n",
    "chol_lo = np.array(chol_lo,dtype=float)/np.array(total_lo,dtype=float)\n",
    "chol_ld = np.array(chol_ld,dtype=float)/np.array(total_ld,dtype=float)"
   ]
  },
  {
   "cell_type": "code",
   "execution_count": 318,
   "metadata": {},
   "outputs": [
    {
     "data": {
      "text/plain": [
       "array([0.30080645, 0.30226904, 0.2999185 , 0.29736409, 0.29752066,\n",
       "       0.29382304, 0.29635762, 0.30484799, 0.30245902, 0.30317848,\n",
       "       0.3005733 , 0.30285714, 0.30345395, 0.30388979, 0.30089943,\n",
       "       0.30516817, 0.30938776, 0.30402629, 0.30424144, 0.3013923 ,\n",
       "       0.30477759, 0.30245902, 0.30630631, 0.30228758, 0.30537459,\n",
       "       0.30310458, 0.30114566, 0.2956593 ])"
      ]
     },
     "execution_count": 318,
     "metadata": {},
     "output_type": "execute_result"
    }
   ],
   "source": [
    "chol_lo"
   ]
  },
  {
   "cell_type": "code",
   "execution_count": 319,
   "metadata": {},
   "outputs": [
    {
     "data": {
      "text/plain": [
       "array([0.04513889, 0.03935185, 0.04691076, 0.04332953, 0.0496614 ,\n",
       "       0.05269058, 0.04858757, 0.03977273, 0.03775744, 0.03016241,\n",
       "       0.0520362 , 0.04555809, 0.0462754 , 0.04472477, 0.05530474,\n",
       "       0.04519774, 0.04298643, 0.04288939, 0.04659091, 0.05090498,\n",
       "       0.04072398, 0.05505618, 0.05895439, 0.0519774 , 0.04659091,\n",
       "       0.04441913, 0.05310734, 0.05775764])"
      ]
     },
     "execution_count": 319,
     "metadata": {},
     "output_type": "execute_result"
    }
   ],
   "source": [
    "chol_ld"
   ]
  },
  {
   "cell_type": "code",
   "execution_count": 320,
   "metadata": {},
   "outputs": [],
   "source": [
    "from scipy.optimize import curve_fit\n",
    "def func(x,a,b):\n",
    "    return a*np.exp(-x/b)"
   ]
  },
  {
   "cell_type": "code",
   "execution_count": 321,
   "metadata": {},
   "outputs": [
    {
     "name": "stdout",
     "output_type": "stream",
     "text": [
      "28\n",
      "28\n"
     ]
    },
    {
     "data": {
      "text/plain": [
       "1.5008167773721877"
      ]
     },
     "execution_count": 321,
     "metadata": {},
     "output_type": "execute_result"
    }
   ],
   "source": [
    "all_tau=[]\n",
    "for i in range(1):\n",
    "    input=np.array(chol_lo)\n",
    "    input=input-np.mean(input)\n",
    "    result=np.correlate(input,input,mode='full')\n",
    "    result=result[result.size//2:]\n",
    "    #print(result[0])\n",
    "    if (np.isfinite(result[0]/result[0])):\n",
    "        print(len(result))\n",
    "        result=result/result[0]\n",
    "        popt,pcov=curve_fit(func,range(0,traj.n_frames,1),result[0:traj.n_frames])\n",
    "        all_tau.append(popt)\n",
    "for i in range(1):\n",
    "    input=np.array(chol_ld)\n",
    "    input=input-np.mean(input)\n",
    "    result=np.correlate(input,input,mode='full')\n",
    "    result=result[result.size//2:]\n",
    "    #print(result[0])\n",
    "    if (np.isfinite(result[0]/result[0])):\n",
    "        print(len(result))\n",
    "        result=result/result[0]\n",
    "        popt,pcov=curve_fit(func,range(0,traj.n_frames,1),result[0:traj.n_frames])\n",
    "        all_tau.append(popt)\n",
    "        \n",
    "np.max(all_tau)"
   ]
  },
  {
   "cell_type": "code",
   "execution_count": 322,
   "metadata": {},
   "outputs": [],
   "source": [
    "np.ceil(np.max(all_tau))\n",
    "new_chol_lo=[]\n",
    "j=0 \n",
    "while j<len(chol_lo): \n",
    "    new_chol_lo.append(chol_lo[j])\n",
    "    j=j+int(np.ceil(np.max(all_tau)))"
   ]
  },
  {
   "cell_type": "code",
   "execution_count": 323,
   "metadata": {},
   "outputs": [],
   "source": [
    "np.ceil(np.max(all_tau))\n",
    "new_chol_ld=[]\n",
    "j=0 \n",
    "while j<len(chol_ld): \n",
    "    new_chol_ld.append(chol_ld[j])\n",
    "    j=j+int(np.ceil(np.max(all_tau)))"
   ]
  },
  {
   "cell_type": "code",
   "execution_count": 324,
   "metadata": {},
   "outputs": [],
   "source": [
    "file=open('CholPhase_Normalize.txt',\"a\")\n",
    "\n",
    "file.write(name2)\n",
    "file.write(\",\")\n",
    "file.write(str(np.mean(new_chol_lo)))\n",
    "file.write(\",\")\n",
    "file.write(str(np.std(new_chol_lo)/np.sqrt(len(new_chol_lo))))\n",
    "file.write(\",\")\n",
    "file.write(str(np.mean(new_chol_ld)))\n",
    "file.write(\",\")\n",
    "file.write(str(np.std(new_chol_ld)/np.sqrt(len(new_chol_lo))))\n",
    "    \n",
    "file.write(\"\\n\")\n"
   ]
  },
  {
   "cell_type": "code",
   "execution_count": 326,
   "metadata": {},
   "outputs": [],
   "source": [
    "file=open('Normalize_CholPhase_Raw_Data{}.txt'.format(name2),\"a\")\n",
    "\n",
    "file.write(name2)\n",
    "file.write(\"\\n\")\n",
    "file.write(\"new_chol_lo,\")\n",
    "\n",
    "for i in new_chol_lo:\n",
    "    file.write(str(i))\n",
    "file.write(\"\\n\")\n",
    "file.write(\"new_chol_ld,\")\n",
    "for i in new_chol_ld:\n",
    "    file.write(str(i))\n",
    "\n",
    "file.write(\"\\n\")\n"
   ]
  },
  {
   "cell_type": "code",
   "execution_count": null,
   "metadata": {},
   "outputs": [],
   "source": []
  }
 ],
 "metadata": {
  "kernelspec": {
   "display_name": "Python 2",
   "language": "python",
   "name": "python2"
  },
  "language_info": {
   "codemirror_mode": {
    "name": "ipython",
    "version": 2
   },
   "file_extension": ".py",
   "mimetype": "text/x-python",
   "name": "python",
   "nbconvert_exporter": "python",
   "pygments_lexer": "ipython2",
   "version": "2.7.15"
  }
 },
 "nbformat": 4,
 "nbformat_minor": 1
}

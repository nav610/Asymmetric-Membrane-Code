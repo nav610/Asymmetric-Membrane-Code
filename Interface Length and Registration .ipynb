{
 "cells": [
  {
   "cell_type": "markdown",
   "metadata": {},
   "source": [
    "identify domains in 3-component system using Voronoi edge method to determine neighbors and Lo/Ld\n",
    "\n",
    "then, find domain interface length from Voronoi edges\n",
    "\n",
    "based off of registration fraction code\n",
    "\n",
    "mdw 02/03/2017\n"
   ]
  },
  {
   "cell_type": "code",
   "execution_count": 395,
   "metadata": {},
   "outputs": [],
   "source": [
    "from __future__ import print_function\n",
    "%matplotlib inline\n",
    "import mdtraj as md\n",
    "import numpy as np\n",
    "import matplotlib.pyplot as plt\n",
    "from matplotlib.collections import PatchCollection\n",
    "from matplotlib.patches import Polygon\n",
    "#import scipy.cluster.hierarchy\n",
    "import scipy.spatial"
   ]
  },
  {
   "cell_type": "code",
   "execution_count": 396,
   "metadata": {},
   "outputs": [],
   "source": [
    "traj=md.load('Rho=one_10us.xtc',top='Rho=one_10us.gro',stride=5)"
   ]
  },
  {
   "cell_type": "code",
   "execution_count": 397,
   "metadata": {},
   "outputs": [],
   "source": [
    "name='1'"
   ]
  },
  {
   "cell_type": "code",
   "execution_count": null,
   "metadata": {},
   "outputs": [],
   "source": []
  },
  {
   "cell_type": "code",
   "execution_count": 398,
   "metadata": {},
   "outputs": [
    {
     "data": {
      "text/plain": [
       "45"
      ]
     },
     "execution_count": 398,
     "metadata": {},
     "output_type": "execute_result"
    }
   ],
   "source": [
    "traj.n_frames"
   ]
  },
  {
   "cell_type": "code",
   "execution_count": 399,
   "metadata": {},
   "outputs": [],
   "source": [
    "topology=traj.topology\n",
    "allhead=topology.select('name PO4 or name ROH')"
   ]
  },
  {
   "cell_type": "code",
   "execution_count": 400,
   "metadata": {},
   "outputs": [],
   "source": [
    "resnames=[atom.residue.name for atom in topology.atoms]\n",
    "residue=[atom.residue for atom in topology.atoms]"
   ]
  },
  {
   "cell_type": "code",
   "execution_count": 401,
   "metadata": {},
   "outputs": [],
   "source": [
    "#x,y coordinates of all for finding neighbors to determine local midplane z-value\n",
    "# here, best to use xy radius of neighbors, since Voronoi across 2 leaflets could have complications\n",
    "\n",
    "allheadxy=list([] for _ in xrange(traj.n_frames))\n",
    "allheadz=list([] for _ in xrange(traj.n_frames))\n",
    "for nn in range(traj.n_frames):\n",
    "    for i in range(len(allhead)):\n",
    "        allheadi=allhead[i]\n",
    "        allheadxy[nn].append(traj.xyz[nn][allheadi][0:2:1])\n",
    "        allheadz[nn].append(traj.xyz[nn][allheadi][2])\n"
   ]
  },
  {
   "cell_type": "code",
   "execution_count": 402,
   "metadata": {},
   "outputs": [],
   "source": [
    "# mdtraj can't handle neighbors for gro (rather than xtc) inputs, so do it myself\n",
    "#cutoffsq = 2.4**2; #square of maximum xy distance for neighbors\n",
    "cutoffsq=1.0**2\n",
    "neigh=list([] for _ in xrange(traj.n_frames))\n",
    "for nn in range(traj.n_frames):\n",
    "    neigh[nn]=list([] for _ in xrange(len(allhead)))\n",
    "    for i in range(len(allheadxy[nn])):\n",
    "        xyi=allheadxy[nn][i]\n",
    "        for j in range(len(allhead)-i-1): #not self, but will add for midplane finding\n",
    "            xyj=allheadxy[nn][j+i+1]\n",
    "            distsq=(xyi[0]-xyj[0])**2 + (xyi[1]-xyj[1])**2\n",
    "            if (distsq < cutoffsq):\n",
    "                neigh[nn][i].append(j+i+1)\n",
    "                neigh[nn][j+i+1].append(i)\n",
    "  \n"
   ]
  },
  {
   "cell_type": "code",
   "execution_count": 403,
   "metadata": {},
   "outputs": [],
   "source": [
    "#new leaflet id method based on tilt angles; PO4-C4A or ROH-C1 (both +6 beads)\n",
    "num_head=len(allhead)\n",
    "tiltvectors=list([] for _ in xrange(traj.n_frames))\n",
    "\n",
    "for nn in range(traj.n_frames):\n",
    "    tiltvectors[nn]=list([] for _ in xrange(num_head)) #store vector roh-c1 or po4-c4a\n",
    "    \n",
    "    for i in range(num_head):\n",
    "        tiltvectors[nn][i]=traj.xyz[nn][allhead[i]]-traj.xyz[nn][allhead[i]+6]\n"
   ]
  },
  {
   "cell_type": "code",
   "execution_count": 404,
   "metadata": {},
   "outputs": [],
   "source": [
    "# must fix periodic boundary condition errors in tiltvectors, then calculate tiltangle\n",
    "norms=list([] for _ in xrange(traj.n_frames))\n",
    "for nn in range(traj.n_frames):\n",
    "    norms[nn]=list([] for _ in xrange(len(allhead)))\n",
    "    halfx=0.5*traj.unitcell_lengths[nn][0]\n",
    "    halfy=0.5*traj.unitcell_lengths[nn][1]\n",
    "    halfz=0.5*traj.unitcell_lengths[nn][2]\n",
    "    for i in range(len(allhead)):\n",
    "        norms[nn][i]=np.linalg.norm(tiltvectors[nn][i])\n",
    "        if (norms[nn][i] > halfz):\n",
    "            if (np.abs(tiltvectors[nn][i][0]) > halfx):\n",
    "                if (tiltvectors[nn][i][0]>0): \n",
    "                    tiltvectors[nn][i][0]=tiltvectors[nn][i][0]-2*halfx\n",
    "                else:\n",
    "                    tiltvectors[nn][i][0]=tiltvectors[nn][i][0]+2*halfx\n",
    "            if (np.abs(tiltvectors[nn][i][1]) > halfy):\n",
    "                if (tiltvectors[nn][i][1]>0): \n",
    "                    tiltvectors[nn][i][1]=tiltvectors[nn][i][1]-2*halfy\n",
    "                else:\n",
    "                    tiltvectors[nn][i][1]=tiltvectors[nn][i][1]+2*halfy\n",
    "            if (np.abs(tiltvectors[nn][i][2]) > halfz):\n",
    "                if (tiltvectors[nn][i][2]>0): \n",
    "                    tiltvectors[nn][i][2]=tiltvectors[nn][i][2]-2*halfz\n",
    "                else:\n",
    "                    tiltvectors[nn][i][2]=tiltvectors[nn][i][2]+2*halfz\n",
    "\n",
    "    for i in range(len(allhead)):\n",
    "        norms[nn][i]=np.linalg.norm(tiltvectors[nn][i])\n"
   ]
  },
  {
   "cell_type": "code",
   "execution_count": 405,
   "metadata": {},
   "outputs": [],
   "source": [
    "# use neigh to find local average tilt vector, outliers are not in a leaflet\n",
    "# if pointing neg in z, flip in x,y,z for making average in outer leaflet\n",
    "localvector=list([] for _ in xrange(traj.n_frames))\n",
    "for nn in range(traj.n_frames):\n",
    "    localvector[nn]=list([] for _ in xrange(len(allhead)))\n",
    "    for i in range(len(allhead)):\n",
    "        localvectorsx=[]\n",
    "        localvectorsy=[]\n",
    "        localvectorsz=[]\n",
    "        sgn=np.sign(tiltvectors[nn][i][2])\n",
    "        localvectorsx.append(sgn*tiltvectors[nn][i][0]) #include self\n",
    "        localvectorsy.append(sgn*tiltvectors[nn][i][1]) #include self\n",
    "        localvectorsz.append(sgn*tiltvectors[nn][i][2]) #include self\n",
    "        for j in range(len(neigh[nn][i])):\n",
    "            sgn=np.sign(tiltvectors[nn][neigh[nn][i][j]][2])\n",
    "            localvectorsx.append(sgn*tiltvectors[nn][neigh[nn][i][j]][0])\n",
    "            localvectorsy.append(sgn*tiltvectors[nn][neigh[nn][i][j]][1])\n",
    "            localvectorsz.append(sgn*tiltvectors[nn][neigh[nn][i][j]][2])\n",
    "        localvector[nn][i]=[np.mean(localvectorsx),np.mean(localvectorsy),np.mean(localvectorsz)]\n",
    "       "
   ]
  },
  {
   "cell_type": "code",
   "execution_count": 406,
   "metadata": {},
   "outputs": [
    {
     "name": "stderr",
     "output_type": "stream",
     "text": [
      "/Users/naveen/anaconda3/envs/ipykernel_py2/lib/python2.7/site-packages/ipykernel_launcher.py:17: RuntimeWarning: invalid value encountered in arccos\n"
     ]
    }
   ],
   "source": [
    "# find angle between orientation vector and local average orientation vector for each lipid\n",
    "# in range [0,180]\n",
    "diffangle=list([] for _ in xrange(traj.n_frames))\n",
    "for nn in range(traj.n_frames):\n",
    "    diffangle[nn]=list([] for _ in xrange(len(allhead)))\n",
    "    for i in range(len(allhead)):\n",
    "        normlv=np.linalg.norm(localvector[nn][i])\n",
    "        normtv=np.linalg.norm(tiltvectors[nn][i])\n",
    "        cos=np.dot(localvector[nn][i],tiltvectors[nn][i])/(normlv*normtv)\n",
    "        if (cos==0):\n",
    "            diffangle[nn][i]=90\n",
    "        elif (cos==1 and np.sign(localvector[nn][i][2])==np.sign(tiltvectors[nn][i][2])):\n",
    "            diffangle[nn][i]=0\n",
    "        elif (cos==1 and np.sign(localvector[nn][i][2])==np.sign(tiltvectors[nn][i][2])):\n",
    "            diffangle[nn][i]=180\n",
    "        else:\n",
    "            diffangle[nn][i]=np.arccos(cos)*180./np.pi\n"
   ]
  },
  {
   "cell_type": "code",
   "execution_count": 407,
   "metadata": {},
   "outputs": [],
   "source": [
    "#have array with values placing each head in one leaflet: 0=lower, 1=upper, 2=between\n",
    "head_leaflet=list([] for _ in xrange(traj.n_frames))\n",
    "for nn in range(traj.n_frames):\n",
    "    head_leaflet[nn]=list([] for _ in xrange(len(allhead)))\n",
    "    for i in range(len(allhead)):\n",
    "        if (diffangle[nn][i]>120):\n",
    "            head_leaflet[nn][i]=0\n",
    "        elif (diffangle[nn][i]<60):\n",
    "            head_leaflet[nn][i]=1\n",
    "        else:\n",
    "            head_leaflet[nn][i]=2"
   ]
  },
  {
   "cell_type": "code",
   "execution_count": 408,
   "metadata": {},
   "outputs": [],
   "source": [
    "# want to identify all midplane chol and remove all \"midplane\" phospholipids\n",
    "# tilt angle insufficient\n",
    "# chol: find distance from ROH to nearest PO4; if beyond threshold, then in midplane; \n",
    "# else, copy leaflet ID (do for all phospholipids); only if copying non-midplane\n",
    "\n",
    "for nn in range(traj.n_frames):\n",
    "    fixedchol=0\n",
    "    fixedphos=0\n",
    "    midplanechol=0\n",
    "    for i in range(len(allhead)):\n",
    "        mindist=100.0\n",
    "        if (head_leaflet[nn][i]==2 and (not resnames[allhead[i]]=='CHOL')): #phospholipids, must assign\n",
    "            for j in range(len(neigh[nn][i])):\n",
    "                if (not resnames[allhead[neigh[nn][i][j]]]=='CHOL'):\n",
    "                    dist=np.linalg.norm(traj.xyz[nn][allhead[i]]-traj.xyz[nn][allhead[neigh[nn][i][j]]])\n",
    "                    if (dist < mindist and (not head_leaflet[nn][neigh[nn][i][j]]==2)):\n",
    "                        mindist=dist\n",
    "                        correct_leaflet=head_leaflet[nn][neigh[nn][i][j]]\n",
    "            head_leaflet[nn][i]=correct_leaflet\n",
    "            fixedphos=fixedphos+1\n",
    "    #must fix all phospholipids before all chols, since some may use fixed phospholipid leaflet id\n",
    "    # so, must go through allhead twice\n",
    "    for i in range(len(allhead)):\n",
    "        mindist=100.0\n",
    "        if (resnames[allhead[i]]=='CHOL'): #all chol, ignoring angle\n",
    "            for j in range(len(neigh[nn][i])):\n",
    "                if (not resnames[allhead[neigh[nn][i][j]]]=='CHOL'):\n",
    "                    dist=np.linalg.norm(traj.xyz[nn][allhead[i]]-traj.xyz[nn][allhead[neigh[nn][i][j]]])\n",
    "                    if (dist < mindist and (not head_leaflet[nn][neigh[nn][i][j]]==2)):\n",
    "                        mindist=dist\n",
    "                        correct_leaflet=head_leaflet[nn][neigh[nn][i][j]]\n",
    "            if (mindist<1.4): #close to a headgroup, so in a leaflet\n",
    "                head_leaflet[nn][i]=correct_leaflet\n",
    "                fixedchol=fixedchol+1\n",
    "            else:\n",
    "                head_leaflet[nn][i]=2\n",
    "                midplanechol=midplanechol+1"
   ]
  },
  {
   "cell_type": "code",
   "execution_count": 409,
   "metadata": {},
   "outputs": [],
   "source": [
    "# only need upper leaflet heads for this situation\n",
    "upperheads=list([] for _ in xrange(traj.n_frames))\n",
    "lowerheads=list([] for _ in xrange(traj.n_frames))\n",
    "for nn in range(traj.n_frames):\n",
    "#    upperheads[nn]=[]\n",
    "    for i in range(len(allhead)):\n",
    "        if head_leaflet[nn][i]==1:\n",
    "            upperheads[nn].append(allhead[i])\n",
    "        if head_leaflet[nn][i]==0:\n",
    "            lowerheads[nn].append(allhead[i])"
   ]
  },
  {
   "cell_type": "code",
   "execution_count": 410,
   "metadata": {},
   "outputs": [],
   "source": [
    "#count DPPC as fraction of upper total, to find global concentration of DPPC\n",
    "upperdppc=list([] for _ in xrange(traj.n_frames))\n",
    "#uppertotal=list([] for _ in xrange(traj.n_frames))\n",
    "globalconc=list([] for _ in xrange(traj.n_frames))\n",
    "\n",
    "for nn in range(traj.n_frames):\n",
    "    upperdppc[nn]=0\n",
    "    for j in range(len(upperheads[nn])):\n",
    "        if(resnames[upperheads[nn][j]]=='DXPC' or resnames[upperheads[nn][j]]=='DBPC' or resnames[upperheads[nn][j]]=='DPPC' or resnames[upperheads[nn][j]]=='CHOL'):\n",
    "            upperdppc[nn]=upperdppc[nn]+1\n",
    "    globalconc[nn]=float(upperdppc[nn])/len(upperheads[nn])"
   ]
  },
  {
   "cell_type": "code",
   "execution_count": 411,
   "metadata": {},
   "outputs": [],
   "source": [
    "#x,y coordinates of outer for Voronoi\n",
    "headxy=list([] for _ in xrange(traj.n_frames)) #[frame][head]\n",
    "reg=list([] for _ in xrange(traj.n_frames))\n",
    "frac_reg=list([] for _ in xrange(traj.n_frames))\n",
    "for nn in range(traj.n_frames):\n",
    "#    headxy[nn]=list([] for _ in xrange(len(upperheads[nn])))\n",
    "    for i in range(len(upperheads[nn])):\n",
    "        upperheadsi=upperheads[nn][i]\n",
    "        headxy[nn].append(traj.xyz[nn][upperheadsi][0:2:1])\n",
    "        \n",
    "\n",
    "    vor=scipy.spatial.Voronoi(np.array(headxy[nn]))\n",
    "\n",
    "#Voronoi neighbors vneigh\n",
    "\n",
    "#generate list of neighbors, edgeneigh\n",
    "    edgeneigh=list([] for _ in xrange(len(upperheads[nn])))\n",
    "    for k in range(len(vor.ridge_points)):\n",
    "        pair=vor.ridge_points[k]\n",
    "        edgeneigh[pair[0]].append(pair[1])\n",
    "        edgeneigh[pair[1]].append(pair[0])\n",
    "\n",
    "\n",
    "\n",
    "    vneigh=list([] for _ in xrange(len(upperheads[nn])))  #lipid type\n",
    "    vneighres=list([] for _ in xrange(len(upperheads[nn])))\n",
    "    for i in range(len(upperheads[nn])):\n",
    "        vneighheads=edgeneigh[i] #upperhead index, not atom\n",
    "        if not vneighheads:\n",
    "            vneigh[i]=[]\n",
    "            vneighres[i]=[]\n",
    "        else:\n",
    "            for j in range(len(vneighheads)):\n",
    "                vneigh[i].append(resnames[upperheads[nn][vneighheads[j]]])\n",
    "                vneighres[i].append(vneighheads[j])\n",
    "\n",
    "\n",
    "#phase based on edges\n",
    "    vphase=list([] for _ in xrange(len(upperheads[nn])))\n",
    "    for i in range(len(upperheads[nn])):\n",
    "        vneightot=1+len(vneigh[i]) #include self\n",
    "        num_sat=0\n",
    "        if (resnames[upperheads[nn][j]]=='DXPC' or resnames[upperheads[nn][j]]=='DBPC' or resnames[upperheads[nn][j]]=='DPPC' or resnames[upperheads[nn][j]]=='CHOL'):\n",
    "            num_sat=num_sat+1\n",
    "        for j in range(len(vneigh[i])):\n",
    "            if (vneigh[i][j]=='DXPC' or vneigh[i][j]=='DBPC' or vneigh[i][j]=='DPPC' or vneigh[i][j]=='CHOL'):\n",
    "                num_sat=num_sat+1\n",
    "        vlocal_conc=float(num_sat)/vneightot #integer would always be zero\n",
    "        if (vlocal_conc > globalconc[nn]):\n",
    "            vphase[i] = 1 # Lo=1\n",
    "        else:\n",
    "            vphase[i] = 0 # Ld=0\n",
    "        \n",
    "#iterate edge-based phase determination to reduce small clusters\n",
    "    vphase2=list([] for _ in xrange(len(upperheads[nn])))\n",
    "    for i in range(len(upperheads[nn])):\n",
    "        vneightot=1+len(vneigh[i])\n",
    "        num_lo=0\n",
    "        if (vphase[i]==1):\n",
    "            num_lo=num_lo+1\n",
    "        for j in range(len(vneigh[i])):\n",
    "            if(vphase[vneighres[i][j]]==1):\n",
    "                num_lo=num_lo+1\n",
    "        vlocal_conc=float(num_lo)/vneightot\n",
    "        if (vlocal_conc > 0.49):\n",
    "            vphase2[i]=1\n",
    "        else:\n",
    "            vphase2[i]=0\n",
    "\n",
    "\n",
    "#iterate edge-based phase determination to reduce small clusters\n",
    "    vphase3=list([] for _ in xrange(len(upperheads[nn])))\n",
    "    for i in range(len(upperheads[nn])):\n",
    "        vneightot=1+len(vneigh[i])\n",
    "        num_lo=0\n",
    "        if (vphase2[i]==1):\n",
    "            num_lo=num_lo+1\n",
    "        for j in range(len(vneigh[i])):\n",
    "            if(vphase2[vneighres[i][j]]==1):\n",
    "                num_lo=num_lo+1\n",
    "        vlocal_conc=float(num_lo)/vneightot\n",
    "        if (vlocal_conc > 0.49):\n",
    "            vphase3[i]=1\n",
    "        else:\n",
    "            vphase3[i]=0\n",
    "            \n",
    "            \n",
    "# calculate opposite phase\n",
    "    oppneigh=list([] for _ in xrange(len(upperheads[nn]))) #for upper, lower neighbors (xy dist)\n",
    "    for i in range(len(upperheads[nn])):\n",
    "        for j in range(len(neigh[nn][i])):\n",
    "            if (head_leaflet[nn][neigh[nn][i][j]]==0): # if lower\n",
    "                oppneigh[i].append(resnames[allhead[neigh[nn][i][j]]])\n",
    "#           oppneighres[i].append(allhead[neigh[i][j]])\n",
    "\n",
    "    oppphase=list([] for _ in xrange(len(upperheads[nn])))\n",
    "    for i in range(len(upperheads[nn])):\n",
    "        oppneightot=len(oppneigh[i])\n",
    "        num_sat=0\n",
    "        for j in range(len(oppneigh[i])):\n",
    "            if (oppneigh[i][j]=='DXPC' or oppneigh[i][j]=='DBPC' or oppneigh[i][j]=='DPPC' or oppneigh[i][j]=='CHOL'):\n",
    "                num_sat=num_sat+1\n",
    "        if (oppneightot):\n",
    "            local_conc=float(num_sat)/oppneightot\n",
    "        else:\n",
    "            local_conc=0\n",
    "        if (local_conc > globalconc[nn]):\n",
    "            oppphase[i] = 1 #Lo\n",
    "        else:\n",
    "            oppphase[i] = 0 #Ld\n",
    "    \n",
    "\n",
    "# for more logical comparison, iterate twice, using upper Voronoi neighbors' oppphase values\n",
    "    oppphase2=list([] for _ in xrange(len(upperheads[nn])))\n",
    "    for i in range(len(upperheads[nn])):\n",
    "        vneightot=1+len(vneigh[i]) #include self, Voronoi same-leaflet neighbors\n",
    "        num_lo=0\n",
    "        if (oppphase[i]==0):\n",
    "            num_lo=num_lo+1\n",
    "        for j in range(len(vneigh[i])):\n",
    "            if (oppphase[vneighres[i][j]]==1):\n",
    "                num_lo=num_lo+1\n",
    "        local_conc=float(num_lo)/vneightot\n",
    "        if (local_conc > 0.49):\n",
    "            oppphase2[i]=1\n",
    "        else: \n",
    "            oppphase2[i]=0\n",
    "\n",
    "    oppphase3=list([] for _ in xrange(len(upperheads[nn])))\n",
    "    for i in range(len(upperheads[nn])):\n",
    "        vneightot=1+len(vneigh[i]) #include self, Voronoi same-leaflet neighbors\n",
    "        num_lo=0\n",
    "        if (oppphase2[i]==0):\n",
    "            num_lo=num_lo+1\n",
    "        for j in range(len(vneigh[i])):\n",
    "            if (oppphase2[vneighres[i][j]]==1):\n",
    "                num_lo=num_lo+1\n",
    "        local_conc=float(num_lo)/vneightot\n",
    "        if (local_conc > 0.49):\n",
    "            oppphase3[i]=1\n",
    "        else: \n",
    "            oppphase3[i]=0\n",
    "        \n",
    "        \n",
    "# compare oppphase3 to vphase3 to check for registration\n",
    "    reg[nn]=list([] for _ in xrange(len(upperheads[nn])))\n",
    "    for i in range(len(upperheads[nn])):\n",
    "        if (oppphase3[i]==vphase3[i]):\n",
    "            reg[nn][i]=1 # registered\n",
    "        else:\n",
    "            reg[nn][i]=0 # not registered\n",
    "    frac_reg[nn]=float(sum(reg[nn]))/len(reg[nn])"
   ]
  },
  {
   "cell_type": "code",
   "execution_count": 412,
   "metadata": {},
   "outputs": [],
   "source": [
    "#x,y coordinates of outer for Voronoi\n",
    "headxy=list([] for _ in xrange(traj.n_frames)) #[frame][head]\n",
    "intmember=list([] for _ in xrange(traj.n_frames))\n",
    "intfrac=list([] for _ in xrange(traj.n_frames))\n",
    "regintfrac=list([] for _ in xrange(traj.n_frames))\n",
    "u_phase_global=list([] for _ in xrange(traj.n_frames))\n",
    "for nn in range(traj.n_frames):\n",
    "#    headxy[nn]=list([] for _ in xrange(len(upperheads[nn])))\n",
    "    for i in range(len(upperheads[nn])):\n",
    "        upperheadsi=upperheads[nn][i]\n",
    "        headxy[nn].append(traj.xyz[nn][upperheadsi][0:2:1])\n",
    "        \n",
    "\n",
    "    vor=scipy.spatial.Voronoi(np.array(headxy[nn]))\n",
    "\n",
    "#Voronoi neighbors vneigh\n",
    "\n",
    "#generate list of neighbors, edgeneigh\n",
    "    edgeneigh=list([] for _ in xrange(len(upperheads[nn])))\n",
    "    for k in range(len(vor.ridge_points)):\n",
    "        pair=vor.ridge_points[k]\n",
    "        edgeneigh[pair[0]].append(pair[1])\n",
    "        edgeneigh[pair[1]].append(pair[0])\n",
    "\n",
    "\n",
    "\n",
    "    vneigh=list([] for _ in xrange(len(upperheads[nn])))  #lipid type\n",
    "    vneighres=list([] for _ in xrange(len(upperheads[nn])))\n",
    "    for i in range(len(upperheads[nn])):\n",
    "        vneighheads=edgeneigh[i] #upperhead index, not atom\n",
    "        if not vneighheads:\n",
    "            vneigh[i]=[]\n",
    "            vneighres[i]=[]\n",
    "        else:\n",
    "            for j in range(len(vneighheads)):\n",
    "                vneigh[i].append(resnames[upperheads[nn][vneighheads[j]]])\n",
    "                vneighres[i].append(vneighheads[j])\n",
    "\n",
    "\n",
    "#phase based on edges\n",
    "    vphase=list([] for _ in xrange(len(upperheads[nn])))\n",
    "    for i in range(len(upperheads[nn])):\n",
    "        vneightot=1+len(vneigh[i]) #include self\n",
    "        num_sat=0\n",
    "        if (resnames[upperheads[nn][j]]=='DXPC' or resnames[upperheads[nn][j]]=='DBPC' or resnames[upperheads[nn][j]]=='DPPC' or resnames[upperheads[nn][j]]=='CHOL'):\n",
    "            num_sat=num_sat+1\n",
    "        for j in range(len(vneigh[i])):\n",
    "            if (vneigh[i][j]=='DXPC' or vneigh[i][j]=='DBPC' or vneigh[i][j]=='DPPC' or vneigh[i][j]=='CHOL'):\n",
    "                num_sat=num_sat+1\n",
    "        vlocal_conc=float(num_sat)/vneightot #integer would always be zero\n",
    "        if (vlocal_conc > globalconc[nn]):\n",
    "            vphase[i] = 1 # Lo=1\n",
    "        else:\n",
    "            vphase[i] = 0 # Ld=0\n",
    "        \n",
    "#iterate edge-based phase determination to reduce small clusters\n",
    "    vphase2=list([] for _ in xrange(len(upperheads[nn])))\n",
    "    for i in range(len(upperheads[nn])):\n",
    "        vneightot=1+len(vneigh[i])\n",
    "        num_lo=0\n",
    "        if (vphase[i]==1):\n",
    "            num_lo=num_lo+1\n",
    "        for j in range(len(vneigh[i])):\n",
    "            if(vphase[vneighres[i][j]]==1):\n",
    "                num_lo=num_lo+1\n",
    "        vlocal_conc=float(num_lo)/vneightot\n",
    "        if (vlocal_conc > 0.49):\n",
    "            vphase2[i]=1\n",
    "        else:\n",
    "            vphase2[i]=0\n",
    "\n",
    "\n",
    "#iterate edge-based phase determination to reduce small clusters\n",
    "    vphase3=list([] for _ in xrange(len(upperheads[nn])))\n",
    "    for i in range(len(upperheads[nn])):\n",
    "        vneightot=1+len(vneigh[i])\n",
    "        num_lo=0\n",
    "        if (vphase2[i]==1):\n",
    "            num_lo=num_lo+1\n",
    "        for j in range(len(vneigh[i])):\n",
    "            if(vphase2[vneighres[i][j]]==1):\n",
    "                num_lo=num_lo+1\n",
    "        vlocal_conc=float(num_lo)/vneightot\n",
    "        if (vlocal_conc > 0.49):\n",
    "            vphase3[i]=1\n",
    "        else:\n",
    "            vphase3[i]=0\n",
    "            \n",
    "#################################################################################\n",
    "#ONLY GOING TO USE VPHASE TO CREAT U_PHASE\n",
    "    domain=list([] for _ in xrange(len(upperheads[nn])))\n",
    "    for i in range(len(upperheads[nn])): #N: Cycling through all molecule heads\n",
    "        domain[i]=0 # 0 = unassigned; N: Assigning each domain a value of 0\n",
    "\n",
    "    recurlist=[] # list of heads that must run through domain algorithm because in chain of neighbors\n",
    "\n",
    "    domain[0]=1 # first lipid sets first domain\n",
    "    for i in range(len(vneighres[0])): # vneighres is allheadz index, not atom\n",
    "        ni=vneighres[0][i] #N: Looking at specific patch\n",
    "        if vphase[ni]==vphase[0]: #only neighbors in same phase; N: Check if they have the same phase\n",
    "            domain[ni]=1\n",
    "            recurlist.append(ni) #N: Add it the heads that need to be checked against their neighbors\n",
    "    num_domains=1\n",
    "    \n",
    "    while len(recurlist): # no new domain should be introduced in this section\n",
    "        headi=recurlist[0] #N: Looking at the first entry in recurlist\n",
    "        neighi=vneighres[headi] #N: Finding its neighbors\n",
    "        recurlist=recurlist[1:] # remove 1st element, now being handled\n",
    "        for j in range(len(neighi)):#N: For all of its neighbors\n",
    "            ni=neighi[j] \n",
    "            if (vphase[ni]==vphase[headi] and domain[ni]==0): #avoid infinitely putting back into recurlist; N: is the phase same as domian\n",
    "                domain[ni]=domain[headi] #N: Domain is the same as the head\n",
    "                recurlist.append(ni) #N: Put it back in the list to be checked again\n",
    "\n",
    "    #now iterate over other lipids, excluding those already marked\n",
    "    for i in range(len(upperheads[nn])-1): # 0 already done\n",
    "        if domain[i+1]==0: #not yet marked\n",
    "            neighi=vneighres[i+1]\n",
    "            num_domains=num_domains+1\n",
    "            domain[i+1]=num_domains\n",
    "            for j in range(len(neighi)):\n",
    "                ni=neighi[j]\n",
    "                if vphase[ni]==vphase[i+1]:\n",
    "                    domain[ni]=domain[i+1] \n",
    "                    recurlist.append(ni)\n",
    "            while len(recurlist): #until exhausted, then move onto next new domain\n",
    "                headi=recurlist[0]\n",
    "                neighi=vneighres[headi]\n",
    "                recurlist=recurlist[1:]\n",
    "                for j in range(len(neighi)):\n",
    "                    ni=neighi[j]\n",
    "                    if (vphase[ni]==vphase[headi] and domain[ni]==0):\n",
    "                        domain[ni]=domain[headi]\n",
    "                        recurlist.append(ni)\n",
    "                        \n",
    "    # see how many lipids in each domain\n",
    "    num_domains=max(domain)\n",
    "    domainsize=list([] for _ in xrange(num_domains))\n",
    "    for i in range(len(domainsize)):\n",
    "        domainsize[i]=0\n",
    "    for i in range(len(domain)):\n",
    "        di=domain[i]-1 #return to 0-index\n",
    "        domainsize[di]=domainsize[di]+1\n",
    "\n",
    "    #N: Method to get rid of domains that are less than 10 lipids long. 1) Find domains which are less than 10 lipids \n",
    "    #N: 2) Take every lipid with a small domain and add it to a list 3) Take that list and change the phase, and make\n",
    "    #N: an  updated phase list\n",
    "\n",
    "    #N: Going to make a list of the domains which are too small\n",
    "    small_domain=[]\n",
    "    lipid_counter=0 #N: Total number of lipids \n",
    "    for i in range(len(domainsize)): \n",
    "        if domainsize[i]<10: \n",
    "            small_domain.append(i+1)\n",
    "            lipid_counter=lipid_counter+domainsize[i]\n",
    "\n",
    "\n",
    "    #N: Go through domain(holds which domain every lipid belongs to) and see if its domain is in small_domian\n",
    "    #N: If it is, its phase needs to be changed \n",
    "    phase_req_change=[]\n",
    "    for i in range(len(domain)):\n",
    "        if domain[i] in small_domain:\n",
    "            phase_req_change.append(i)\n",
    "\n",
    "    #N: Go through phase_req_change. Each entry is the lipid whose phase needs to be switched. So take that entry\n",
    "    #N: and plug it into u_phase. Then switch the value of u_phase.\n",
    "    u_phase=[]\n",
    "\n",
    "    for i in range(len(vphase)):\n",
    "        if i in phase_req_change:\n",
    "            #print(n)\n",
    "            if vphase[i]==0:\n",
    "                u_phase.append(1)\n",
    "            if vphase[i]==1:\n",
    "                u_phase.append(0)\n",
    "        else: \n",
    "            u_phase.append(vphase[i])\n",
    "    u_phase_global[nn]=u_phase\n",
    "#############################################################\n",
    "\n",
    "# find Voronoi edges that are domain edges as well\n",
    "# find lipids that are \"members\" of the interface, i.e. have at least one edge on it\n",
    "    regint=0\n",
    "    intmember[nn]=list([] for _ in xrange(len(upperheads[nn])))\n",
    "    for i in range(len(upperheads[nn])):\n",
    "        vneightot=1+len(vneigh[i])\n",
    "        num_lo=0\n",
    "        if (u_phase[i]==1):\n",
    "            num_lo=num_lo+1\n",
    "        for j in range(len(vneigh[i])):\n",
    "            if(u_phase[vneighres[i][j]]==1):\n",
    "                num_lo=num_lo+1\n",
    "        vlocal_conc=float(num_lo)/vneightot\n",
    "        if (vlocal_conc==1 or vlocal_conc==0): #all same-phase neighbors\n",
    "            intmember[nn][i]=0\n",
    "        else: #not all neighbors belong to same phase\n",
    "            intmember[nn][i]=1\n",
    "            if (reg[nn][i]==1): #looking to see if int lipids are more often antiregistered\n",
    "                regint=regint+1\n",
    "\n",
    "    intfrac[nn]=float(sum(intmember[nn]))/len(intmember[nn])\n",
    "    regintfrac[nn]=float(regint)/sum(intmember[nn]) #fraction of int lipids R, compare to overall\n",
    "            \n",
    " "
   ]
  },
  {
   "cell_type": "code",
   "execution_count": 413,
   "metadata": {},
   "outputs": [
    {
     "data": {
      "text/plain": [
       "[0.9259748048864367, 0.9259748048864367]"
      ]
     },
     "execution_count": 413,
     "metadata": {},
     "output_type": "execute_result"
    }
   ],
   "source": [
    "[np.mean(frac_reg),np.mean(frac_reg)]"
   ]
  },
  {
   "cell_type": "code",
   "execution_count": 414,
   "metadata": {},
   "outputs": [],
   "source": [
    "from scipy.optimize import curve_fit\n",
    "def func(x,a,b):\n",
    "    return a*np.exp(-x/b)"
   ]
  },
  {
   "cell_type": "code",
   "execution_count": 415,
   "metadata": {},
   "outputs": [
    {
     "data": {
      "text/plain": [
       "1.0037178718510387"
      ]
     },
     "execution_count": 415,
     "metadata": {},
     "output_type": "execute_result"
    }
   ],
   "source": [
    "all_tau=[]\n",
    "for i in range(1):\n",
    "    input=np.array(intfrac)\n",
    "    input=input-np.mean(input)\n",
    "    result=np.correlate(input,input,mode='full')\n",
    "    result=result[result.size//2:]\n",
    "    #print(result[0])\n",
    "    if (np.isfinite(result[0]/result[0])):\n",
    "        result=result/result[0]\n",
    "        popt,pcov=curve_fit(func,range(0,traj.n_frames,1),result[0:traj.n_frames])\n",
    "        all_tau.append(popt)\n",
    "np.max(all_tau)"
   ]
  },
  {
   "cell_type": "code",
   "execution_count": 416,
   "metadata": {},
   "outputs": [],
   "source": [
    "np.ceil(np.max(all_tau))\n",
    "j=0 \n",
    "new_intfrac=[]\n",
    "while j<len(intfrac): \n",
    "    new_intfrac.append(intfrac[j])\n",
    "    j=j+int(np.ceil(np.max(all_tau)))"
   ]
  },
  {
   "cell_type": "code",
   "execution_count": 417,
   "metadata": {},
   "outputs": [
    {
     "data": {
      "text/plain": [
       "0.12141963588390522"
      ]
     },
     "execution_count": 417,
     "metadata": {},
     "output_type": "execute_result"
    }
   ],
   "source": [
    "np.mean(new_intfrac)"
   ]
  },
  {
   "cell_type": "code",
   "execution_count": 418,
   "metadata": {},
   "outputs": [
    {
     "data": {
      "text/plain": [
       "0.0011696789930441965"
      ]
     },
     "execution_count": 418,
     "metadata": {},
     "output_type": "execute_result"
    }
   ],
   "source": [
    "np.std(new_intfrac)/len(new_intfrac)**.5"
   ]
  },
  {
   "cell_type": "code",
   "execution_count": 419,
   "metadata": {},
   "outputs": [
    {
     "data": {
      "text/plain": [
       "23"
      ]
     },
     "execution_count": 419,
     "metadata": {},
     "output_type": "execute_result"
    }
   ],
   "source": [
    "len(new_intfrac)"
   ]
  },
  {
   "cell_type": "code",
   "execution_count": 420,
   "metadata": {},
   "outputs": [],
   "source": [
    "file=open('Sym_Interface_Length_Data.txt',\"a\")\n",
    "\n",
    "file.write(name)\n",
    "file.write(\"  \")\n",
    "file.write(str(np.mean(new_intfrac)))\n",
    "file.write(\"  \")\n",
    "file.write(str(np.mean(np.std(new_intfrac))/(len(new_intfrac)**.5)))\n",
    "    \n",
    "file.write(\"\\n\")\n"
   ]
  },
  {
   "cell_type": "code",
   "execution_count": 421,
   "metadata": {},
   "outputs": [],
   "source": [
    "file=open('Sym_Int_Length_Raw_Data{}.txt'.format(name),\"a\")\n",
    "\n",
    "file.write(name)\n",
    "file.write(\"  \")\n",
    "for i in new_intfrac:\n",
    "    file.write(str(i))\n",
    "    file.write(\",\")    \n",
    "file.write(\"\\n\")"
   ]
  },
  {
   "cell_type": "code",
   "execution_count": 422,
   "metadata": {},
   "outputs": [
    {
     "name": "stdout",
     "output_type": "stream",
     "text": [
      "45\n"
     ]
    },
    {
     "data": {
      "text/plain": [
       "4.81283231878017"
      ]
     },
     "execution_count": 422,
     "metadata": {},
     "output_type": "execute_result"
    }
   ],
   "source": [
    "all_tau=[]\n",
    "for i in range(1):\n",
    "    input=np.array(frac_reg)\n",
    "    input=input-np.mean(input)\n",
    "    result=np.correlate(input,input,mode='full')\n",
    "    result=result[result.size//2:]\n",
    "    #print(result[0])\n",
    "    if (np.isfinite(result[0]/result[0])):\n",
    "        print(len(result))\n",
    "        result=result/result[0]\n",
    "        popt,pcov=curve_fit(func,range(0,traj.n_frames,1),result[0:traj.n_frames])\n",
    "        all_tau.append(popt)\n",
    "np.max(all_tau)"
   ]
  },
  {
   "cell_type": "code",
   "execution_count": 423,
   "metadata": {},
   "outputs": [],
   "source": [
    "np.ceil(np.max(all_tau))\n",
    "new_fracreg=[]\n",
    "j=0 \n",
    "while j<len(frac_reg): \n",
    "    new_fracreg.append(frac_reg[j])\n",
    "    j=j+int(np.ceil(np.max(all_tau)))"
   ]
  },
  {
   "cell_type": "code",
   "execution_count": 424,
   "metadata": {},
   "outputs": [
    {
     "data": {
      "text/plain": [
       "[0.9249049429657795,\n",
       " 0.9450286806883366,\n",
       " 0.9367816091954023,\n",
       " 0.9248444231689804,\n",
       " 0.9215406562054208,\n",
       " 0.9280643634642688,\n",
       " 0.9146110056925996,\n",
       " 0.910942681193747,\n",
       " 0.9319695528068506]"
      ]
     },
     "execution_count": 424,
     "metadata": {},
     "output_type": "execute_result"
    }
   ],
   "source": [
    "new_fracreg"
   ]
  },
  {
   "cell_type": "code",
   "execution_count": 425,
   "metadata": {},
   "outputs": [
    {
     "data": {
      "text/plain": [
       "0.00997018555279971"
      ]
     },
     "execution_count": 425,
     "metadata": {},
     "output_type": "execute_result"
    }
   ],
   "source": [
    "np.std(new_fracreg)\n"
   ]
  },
  {
   "cell_type": "code",
   "execution_count": 426,
   "metadata": {},
   "outputs": [
    {
     "data": {
      "text/plain": [
       "0.9265208794868206"
      ]
     },
     "execution_count": 426,
     "metadata": {},
     "output_type": "execute_result"
    }
   ],
   "source": [
    "np.mean(new_fracreg)"
   ]
  },
  {
   "cell_type": "code",
   "execution_count": 427,
   "metadata": {},
   "outputs": [
    {
     "data": {
      "image/png": "[encoded data removed]",
      "text/plain": [
       "<Figure size 432x288 with 1 Axes>"
      ]
     },
     "metadata": {
      "needs_background": "light"
     },
     "output_type": "display_data"
    }
   ],
   "source": [
    "plt.plot(result,'r')\n",
    "plt.plot(np.linspace(0,traj.n_frames,traj.n_frames+1), np.exp((-1./popt[-1])*np.linspace(0,traj.n_frames,traj.n_frames+1)))\n",
    "plt.savefig('p20_autocorr.pdf',format='pdf')"
   ]
  },
  {
   "cell_type": "code",
   "execution_count": 428,
   "metadata": {},
   "outputs": [
    {
     "data": {
      "image/png": "[encoded data removed]",
      "text/plain": [
       "<Figure size 432x288 with 1 Axes>"
      ]
     },
     "metadata": {
      "needs_background": "light"
     },
     "output_type": "display_data"
    }
   ],
   "source": [
    "#plot reg vs antireg\n",
    "# color Voronoi polygons\n",
    "fig,ax=plt.subplots(1)\n",
    "patches=[]\n",
    "cmap=plt.get_cmap('gray_r')\n",
    "#flatphase=[val for sublist in cphase for val in sublist]\n",
    "#colors=cmap([x*10 for x in flatphase])\n",
    "colors=cmap([(x*256) for x in intmember[-1]])\n",
    "#for region in range(len(vor.regions)):\n",
    "#    if not -1 in vor.regions[region]:\n",
    "#        pg=Polygon(vor.vertices,closed=True)\n",
    "#        patches.append(pg)\n",
    "\n",
    "\n",
    "\n",
    "\n",
    "for i in range(len(vor.point_region)):\n",
    "    verts=vor.regions[vor.point_region[i]] #indices of vertices forming that region\n",
    "    if (verts==[]):\n",
    "        pg=Polygon(np.array([[-1,-1],[-1.1,-1.1]]),closed=True)\n",
    "        patches.append(pg)\n",
    "    elif (not -1 in verts):\n",
    "        vertcoord=list([] for _ in xrange(len(verts))) #coordinates of vertices\n",
    "        for j in range(len(verts)):\n",
    "            k=verts[j]\n",
    "            vertcoord[j]=vor.vertices[k]\n",
    "        pg=Polygon(vertcoord,closed=True)\n",
    "        patches.append(pg)\n",
    "    else:\n",
    "        pg=Polygon(np.array([[-1,-1],[-1.1,-1.1]]),closed=True)\n",
    "        patches.append(pg)\n",
    "    \n",
    "\n",
    "\n",
    "\n",
    "collection=PatchCollection(patches)\n",
    "ax.add_collection(collection)\n",
    "collection.set_color(colors)\n",
    "        \n",
    "#plt.fill(*zip(*pg))\n",
    "ax.set_aspect('equal')\n",
    "ax.set_xlim([0,36.5])\n",
    "ax.set_ylim([0,36.5])\n",
    "\n",
    "plt.axis('off')\n",
    "\n",
    "plt.savefig('intf'+name+'.pdf',format='pdf')\n",
    "plt.show()"
   ]
  },
  {
   "cell_type": "code",
   "execution_count": 429,
   "metadata": {},
   "outputs": [
    {
     "data": {
      "image/png": "[encoded data removed]",
      "text/plain": [
       "<Figure size 432x288 with 1 Axes>"
      ]
     },
     "metadata": {
      "needs_background": "light"
     },
     "output_type": "display_data"
    }
   ],
   "source": [
    "# color Voronoi polygons\n",
    "#N: Make an updated picture of new phases\n",
    "fig,ax=plt.subplots(1)\n",
    "patches=[]\n",
    "cmap=plt.get_cmap('autumn')\n",
    "#flatphase=[val for sublist in cphase for val in sublist]\n",
    "#colors=cmap([x*10 for x in flatphase])\n",
    "colors=cmap([(x*256) for x in u_phase])\n",
    "#for region in range(len(vor.regions)):\n",
    "#    if not -1 in vor.regions[region]:\n",
    "#        pg=Polygon(vor.vertices,closed=True)\n",
    "#        patches.append(pg)\n",
    "\n",
    "\n",
    "\n",
    "\n",
    "for i in range(len(vor.point_region)):\n",
    "    verts=vor.regions[vor.point_region[i]] #indices of vertices forming that region\n",
    "    if (verts==[]):\n",
    "        pg=Polygon(np.array([[-1,-1],[-1.1,-1.1]]),closed=True)\n",
    "        patches.append(pg)\n",
    "    elif (not -1 in verts):\n",
    "        vertcoord=list([] for _ in xrange(len(verts))) #coordinates of vertices\n",
    "        for j in range(len(verts)):\n",
    "            k=verts[j]\n",
    "            vertcoord[j]=vor.vertices[k]\n",
    "        pg=Polygon(vertcoord,closed=True)\n",
    "        patches.append(pg)\n",
    "    else:\n",
    "        pg=Polygon(np.array([[-1,-1],[-1.1,-1.1]]),closed=True)\n",
    "        patches.append(pg)\n",
    "    \n",
    "\n",
    "\n",
    "\n",
    "collection=PatchCollection(patches)\n",
    "ax.add_collection(collection)\n",
    "collection.set_color(colors)\n",
    "        \n",
    "#plt.fill(*zip(*pg))\n",
    "ax.set_aspect('equal')\n",
    "ax.set_xlim([0,36.5])\n",
    "ax.set_ylim([0,36.5])\n",
    "\n",
    "plt.axis('off')\n",
    "\n",
    "plt.savefig(name+'.pdf',format='pdf')\n",
    "plt.show()"
   ]
  },
  {
   "cell_type": "code",
   "execution_count": 430,
   "metadata": {},
   "outputs": [],
   "source": [
    "file=open('Frac-Reg.txt',\"a\")\n",
    "\n",
    "file.write(name)\n",
    "file.write(\"  \")\n",
    "file.write(str(np.mean(new_fracreg)))\n",
    "file.write(\"  \")\n",
    "file.write(str(np.mean(np.std(new_fracreg))/(len(new_intfrac)**.5)))\n",
    "    \n",
    "file.write(\"\\n\")\n"
   ]
  },
  {
   "cell_type": "code",
   "execution_count": 437,
   "metadata": {},
   "outputs": [],
   "source": [
    "file=open('Frag_Reg_Raw_Data{}.txt'.format(name),\"a\")\n",
    "\n",
    "file.write(name)\n",
    "file.write(\"  \")\n",
    "for i in new_fracreg:\n",
    "    file.write(str(i))\n",
    "    file.write(\",\")    \n",
    "file.write(\"\\n\")"
   ]
  }
 ],
 "metadata": {
  "kernelspec": {
   "display_name": "Python 2",
   "language": "python",
   "name": "python2"
  },
  "language_info": {
   "codemirror_mode": {
    "name": "ipython",
    "version": 2
   },
   "file_extension": ".py",
   "mimetype": "text/x-python",
   "name": "python",
   "nbconvert_exporter": "python",
   "pygments_lexer": "ipython2",
   "version": "2.7.15"
  }
 },
 "nbformat": 4,
 "nbformat_minor": 1
}

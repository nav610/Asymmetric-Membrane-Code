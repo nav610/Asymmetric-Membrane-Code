{
 "cells": [
  {
   "cell_type": "markdown",
   "metadata": {},
   "source": [
    "# Order Paramater with Respect to Bilayer Normal for Cytoplasmic Lipids grouped across from Lo or Ld"
   ]
  },
  {
   "cell_type": "code",
   "execution_count": 2,
   "metadata": {},
   "outputs": [],
   "source": [
    "from __future__ import print_function\n",
    "%matplotlib inline\n",
    "import mdtraj as md\n",
    "import numpy as np\n",
    "import matplotlib.pyplot as plt\n",
    "from matplotlib.collections import PatchCollection\n",
    "from matplotlib.patches import Polygon\n",
    "#import scipy.cluster.hierarchy\n",
    "import scipy.spatial\n",
    "import math"
   ]
  },
  {
   "cell_type": "code",
   "execution_count": null,
   "metadata": {},
   "outputs": [],
   "source": [
    "traj=md.load('a_pttwo.xtc',top='a_pttwo_19ns.gro',stride=1)"
   ]
  },
  {
   "cell_type": "code",
   "execution_count": null,
   "metadata": {},
   "outputs": [],
   "source": [
    "traj.n_frames"
   ]
  },
  {
   "cell_type": "code",
   "execution_count": 4,
   "metadata": {},
   "outputs": [],
   "source": [
    "name = '1'"
   ]
  },
  {
   "cell_type": "code",
   "execution_count": 5,
   "metadata": {},
   "outputs": [],
   "source": [
    "topology=traj.topology\n",
    "DBPCs=topology.select('resid 2112 to 2990') #selected only top leaflet DBPC \n",
    "lipidhead=topology.select('resname POPE')\n",
    "DBPClength=int(52)\n",
    "numberoflipids=889"
   ]
  },
  {
   "cell_type": "code",
   "execution_count": 8,
   "metadata": {},
   "outputs": [],
   "source": [
    "#x,y coordinates of all for finding neighbors to determine local midplane z-value\n",
    "# here, best to use xy radius of neighbors, since Voronoi across 2 leaflets could have complications\n",
    "\n",
    "lipidheadxy=list([] for _ in xrange(traj.n_frames))\n",
    "lipidheadxyz=list([] for _ in xrange(traj.n_frames))\n",
    "for nn in range(traj.n_frames):\n",
    "    for i in range(len(lipidhead)):\n",
    "        lipidheadi=lipidhead[i]\n",
    "        lipidheadxy[nn].append(traj.xyz[nn][lipidheadi][0:2:1])\n",
    "        lipidheadxyz[nn].append(traj.xyz[nn][lipidheadi][0:3:1])\n"
   ]
  },
  {
   "cell_type": "markdown",
   "metadata": {},
   "source": [
    "# Random Methods"
   ]
  },
  {
   "cell_type": "code",
   "execution_count": 9,
   "metadata": {},
   "outputs": [],
   "source": [
    "def find_plane(cord1,cord2,cord3):\n",
    "    v1 = cord3-cord1\n",
    "    v2 = cord3-cord2\n",
    "    cp=np.cross(v1,v2)\n",
    "    d = cp[0]**2 + cp[1]**2 + cp[2]**2\n",
    "    x,y,z = cp/(d**.5)\n",
    "    return [x,y,z]"
   ]
  },
  {
   "cell_type": "code",
   "execution_count": 10,
   "metadata": {},
   "outputs": [],
   "source": [
    "def chunks(l, n):\n",
    "    \"\"\"Yield successive n-sized chunks from l.\"\"\"\n",
    "    for i in range(0, len(l), n):\n",
    "        yield l[i:i + n]"
   ]
  },
  {
   "cell_type": "code",
   "execution_count": 11,
   "metadata": {},
   "outputs": [],
   "source": [
    "def local_vector(cord1,cord2):\n",
    "    vector = [cord1[0]-cord2[0],cord1[1]-cord2[1],cord1[2]-cord2[2]]\n",
    "    d=(cord1[0]-cord2[0])**2 + (cord1[1]-cord2[1])**2 + (cord1[2]-cord2[2])**2\n",
    "    vector=vector/(d**.5)\n",
    "    return vector\n",
    "    "
   ]
  },
  {
   "cell_type": "code",
   "execution_count": 12,
   "metadata": {},
   "outputs": [],
   "source": [
    "def find_plane(cord1,cord2,cord3):\n",
    "    v1 = cord3-cord1\n",
    "    v2 = cord3-cord2\n",
    "    cp=np.cross(v1,v2)\n",
    "    d = cp[0]**2 + cp[1]**2 + cp[2]**2\n",
    "    x,y,z = cp/(d**.5)\n",
    "    return [x,y,z]"
   ]
  },
  {
   "cell_type": "code",
   "execution_count": 13,
   "metadata": {},
   "outputs": [],
   "source": [
    "def magvect(v):\n",
    "    magnitude = np.sqrt(v[0]*v[0] + v[1]*v[1] + v[2]*v[2])\n",
    "    return magnitude"
   ]
  },
  {
   "cell_type": "code",
   "execution_count": 14,
   "metadata": {},
   "outputs": [],
   "source": [
    "def cos_angle(v1,v2):\n",
    "    cos = (np.dot(v1,v2)/((magvect(v1)*magvect(v2))))\n",
    "    return cos"
   ]
  },
  {
   "cell_type": "code",
   "execution_count": 15,
   "metadata": {},
   "outputs": [],
   "source": [
    "def perpendicular_vector(v):\n",
    "    if v[1] == 0 and v[2] == 0:\n",
    "        if v[0] == 0:\n",
    "            raise ValueError('zero vector')\n",
    "        else:\n",
    "            return np.cross(v, [0, 1, 0])\n",
    "    return np.cross(v, [1, 0, 0])"
   ]
  },
  {
   "cell_type": "markdown",
   "metadata": {},
   "source": [
    "# Find Membrane Normal"
   ]
  },
  {
   "cell_type": "code",
   "execution_count": 16,
   "metadata": {},
   "outputs": [],
   "source": [
    "topology=traj.topology\n",
    "allhead=topology.select('name P8 or name C9 or name O1')"
   ]
  },
  {
   "cell_type": "code",
   "execution_count": 17,
   "metadata": {},
   "outputs": [],
   "source": [
    "resnames=[atom.residue.name for atom in topology.atoms]\n",
    "residue=[atom.residue for atom in topology.atoms]"
   ]
  },
  {
   "cell_type": "code",
   "execution_count": 18,
   "metadata": {},
   "outputs": [],
   "source": [
    "#x,y coordinates of all for finding neighbors to determine local midplane z-value\n",
    "# here, best to use xy radius of neighbors, since Voronoi across 2 leaflets could have complications\n",
    "\n",
    "allheadxy=list([] for _ in xrange(traj.n_frames))\n",
    "allheadz=list([] for _ in xrange(traj.n_frames))\n",
    "for nn in range(traj.n_frames):\n",
    "    for i in range(len(allhead)):\n",
    "        allheadi=allhead[i]\n",
    "        allheadxy[nn].append(traj.xyz[nn][allheadi][0:2:1])\n",
    "        allheadz[nn].append(traj.xyz[nn][allheadi][2])\n"
   ]
  },
  {
   "cell_type": "code",
   "execution_count": 19,
   "metadata": {},
   "outputs": [],
   "source": [
    "# mdtraj can't handle neighbors for gro (rather than xtc) inputs, so do it myself\n",
    "#cutoffsq = 2.4**2; #square of maximum xy distance for neighbors\n",
    "cutoffsq=1.0**2\n",
    "neigh=list([] for _ in xrange(traj.n_frames))\n",
    "for nn in range(traj.n_frames):\n",
    "    neigh[nn]=list([] for _ in xrange(len(allhead)))\n",
    "    for i in range(len(allheadxy[nn])):\n",
    "        xyi=allheadxy[nn][i]\n",
    "        for j in range(len(allhead)-i-1): #not self, but will add for midplane finding\n",
    "            xyj=allheadxy[nn][j+i+1]\n",
    "            distsq=(xyi[0]-xyj[0])**2 + (xyi[1]-xyj[1])**2\n",
    "            if (distsq < cutoffsq):\n",
    "                neigh[nn][i].append(j+i+1)\n",
    "                neigh[nn][j+i+1].append(i)\n",
    "  "
   ]
  },
  {
   "cell_type": "code",
   "execution_count": 20,
   "metadata": {},
   "outputs": [],
   "source": [
    "#new leaflet id method based on tilt angles; PO4-C4A or ROH-C1 (both +6 beads)\n",
    "num_head=len(allhead)\n",
    "tiltvectors=list([] for _ in xrange(traj.n_frames))\n",
    "\n",
    "for nn in range(traj.n_frames):\n",
    "    tiltvectors[nn]=list([] for _ in xrange(num_head)) #store vector roh-c1 or po4-c4a\n",
    "    \n",
    "    for i in range(num_head):\n",
    "        tiltvectors[nn][i]=traj.xyz[nn][allhead[i]]-traj.xyz[nn][allhead[i]+6]\n"
   ]
  },
  {
   "cell_type": "code",
   "execution_count": 21,
   "metadata": {},
   "outputs": [],
   "source": [
    "# must fix periodic boundary condition errors in tiltvectors, then calculate tiltangle\n",
    "norms=list([] for _ in xrange(traj.n_frames))\n",
    "for nn in range(traj.n_frames):\n",
    "    norms[nn]=list([] for _ in xrange(len(allhead)))\n",
    "    halfx=0.5*traj.unitcell_lengths[nn][0]\n",
    "    halfy=0.5*traj.unitcell_lengths[nn][1]\n",
    "    halfz=0.5*traj.unitcell_lengths[nn][2]\n",
    "    for i in range(len(allhead)):\n",
    "        norms[nn][i]=np.linalg.norm(tiltvectors[nn][i])\n",
    "        if (norms[nn][i] > halfz):\n",
    "            if (np.abs(tiltvectors[nn][i][0]) > halfx):\n",
    "                if (tiltvectors[nn][i][0]>0): \n",
    "                    tiltvectors[nn][i][0]=tiltvectors[nn][i][0]-2*halfx\n",
    "                else:\n",
    "                    tiltvectors[nn][i][0]=tiltvectors[nn][i][0]+2*halfx\n",
    "            if (np.abs(tiltvectors[nn][i][1]) > halfy):\n",
    "                if (tiltvectors[nn][i][1]>0): \n",
    "                    tiltvectors[nn][i][1]=tiltvectors[nn][i][1]-2*halfy\n",
    "                else:\n",
    "                    tiltvectors[nn][i][1]=tiltvectors[nn][i][1]+2*halfy\n",
    "            if (np.abs(tiltvectors[nn][i][2]) > halfz):\n",
    "                if (tiltvectors[nn][i][2]>0): \n",
    "                    tiltvectors[nn][i][2]=tiltvectors[nn][i][2]-2*halfz\n",
    "                else:\n",
    "                    tiltvectors[nn][i][2]=tiltvectors[nn][i][2]+2*halfz\n",
    "\n",
    "    for i in range(len(allhead)):\n",
    "        norms[nn][i]=np.linalg.norm(tiltvectors[nn][i])\n"
   ]
  },
  {
   "cell_type": "code",
   "execution_count": 22,
   "metadata": {},
   "outputs": [],
   "source": [
    "# use neigh to find local average tilt vector, outliers are not in a leaflet\n",
    "# if pointing neg in z, flip in x,y,z for making average in outer leaflet\n",
    "localvector=list([] for _ in xrange(traj.n_frames))\n",
    "for nn in range(traj.n_frames):\n",
    "    localvector[nn]=list([] for _ in xrange(len(allhead)))\n",
    "    for i in range(len(allhead)):\n",
    "        localvectorsx=[]\n",
    "        localvectorsy=[]\n",
    "        localvectorsz=[]\n",
    "        sgn=np.sign(tiltvectors[nn][i][2])\n",
    "        localvectorsx.append(sgn*tiltvectors[nn][i][0]) #include self\n",
    "        localvectorsy.append(sgn*tiltvectors[nn][i][1]) #include self\n",
    "        localvectorsz.append(sgn*tiltvectors[nn][i][2]) #include self\n",
    "        for j in range(len(neigh[nn][i])):\n",
    "            sgn=np.sign(tiltvectors[nn][neigh[nn][i][j]][2])\n",
    "            localvectorsx.append(sgn*tiltvectors[nn][neigh[nn][i][j]][0])\n",
    "            localvectorsy.append(sgn*tiltvectors[nn][neigh[nn][i][j]][1])\n",
    "            localvectorsz.append(sgn*tiltvectors[nn][neigh[nn][i][j]][2])\n",
    "        localvector[nn][i]=[np.mean(localvectorsx),np.mean(localvectorsy),np.mean(localvectorsz)]\n",
    "       "
   ]
  },
  {
   "cell_type": "code",
   "execution_count": 23,
   "metadata": {},
   "outputs": [],
   "source": [
    "# find angle between orientation vector and local average orientation vector for each lipid\n",
    "# in range [0,180]\n",
    "diffangle=list([] for _ in xrange(traj.n_frames))\n",
    "for nn in range(traj.n_frames):\n",
    "    diffangle[nn]=list([] for _ in xrange(len(allhead)))\n",
    "    for i in range(len(allhead)):\n",
    "        normlv=np.linalg.norm(localvector[nn][i])\n",
    "        normtv=np.linalg.norm(tiltvectors[nn][i])\n",
    "        cos=np.dot(localvector[nn][i],tiltvectors[nn][i])/(normlv*normtv)\n",
    "        if (cos==0):\n",
    "            diffangle[nn][i]=90\n",
    "        elif (cos==1 and np.sign(localvector[nn][i][2])==np.sign(tiltvectors[nn][i][2])):\n",
    "            diffangle[nn][i]=0\n",
    "        elif (cos==1 and np.sign(localvector[nn][i][2])==np.sign(tiltvectors[nn][i][2])):\n",
    "            diffangle[nn][i]=180\n",
    "        else:\n",
    "            diffangle[nn][i]=np.arccos(cos)*180./np.pi\n"
   ]
  },
  {
   "cell_type": "code",
   "execution_count": 24,
   "metadata": {},
   "outputs": [],
   "source": [
    "#have array with values placing each head in one leaflet: 0=lower, 1=upper, 2=between\n",
    "head_leaflet=list([] for _ in xrange(traj.n_frames))\n",
    "for nn in range(traj.n_frames):\n",
    "    head_leaflet[nn]=list([] for _ in xrange(len(allhead)))\n",
    "    for i in range(len(allhead)):\n",
    "        if (diffangle[nn][i]>120):\n",
    "            head_leaflet[nn][i]=0\n",
    "        elif (diffangle[nn][i]<60):\n",
    "            head_leaflet[nn][i]=1\n",
    "        else:\n",
    "            head_leaflet[nn][i]=2"
   ]
  },
  {
   "cell_type": "code",
   "execution_count": 25,
   "metadata": {},
   "outputs": [],
   "source": [
    "# want to identify all midplane chol and remove all \"midplane\" phospholipids\n",
    "# tilt angle insufficient\n",
    "# chol: find distance from ROH to nearest PO4; if beyond threshold, then in midplane; \n",
    "# else, copy leaflet ID (do for all phospholipids); only if copying non-midplane\n",
    "\n",
    "for nn in range(traj.n_frames):\n",
    "    fixedchol=0\n",
    "    fixedphos=0\n",
    "    midplanechol=0\n",
    "    for i in range(len(allhead)):\n",
    "        mindist=100.0\n",
    "        if (head_leaflet[nn][i]==2 and (not resnames[allhead[i]]=='CHOL')): #phospholipids, must assign\n",
    "            for j in range(len(neigh[nn][i])):\n",
    "                if (not resnames[allhead[neigh[nn][i][j]]]=='CHOL'):\n",
    "                    dist=np.linalg.norm(traj.xyz[nn][allhead[i]]-traj.xyz[nn][allhead[neigh[nn][i][j]]])\n",
    "                    if (dist < mindist and (not head_leaflet[nn][neigh[nn][i][j]]==2)):\n",
    "                        mindist=dist\n",
    "                        correct_leaflet=head_leaflet[nn][neigh[nn][i][j]]\n",
    "            head_leaflet[nn][i]=correct_leaflet\n",
    "            fixedphos=fixedphos+1\n",
    "    #must fix all phospholipids before all chols, since some may use fixed phospholipid leaflet id\n",
    "    # so, must go through allhead twice\n",
    "    for i in range(len(allhead)):\n",
    "        mindist=100.0\n",
    "        if (resnames[allhead[i]]=='CHOL'): #all chol, ignoring angle\n",
    "            for j in range(len(neigh[nn][i])):\n",
    "                if (not resnames[allhead[neigh[nn][i][j]]]=='CHOL'):\n",
    "                    dist=np.linalg.norm(traj.xyz[nn][allhead[i]]-traj.xyz[nn][allhead[neigh[nn][i][j]]])\n",
    "                    if (dist < mindist and (not head_leaflet[nn][neigh[nn][i][j]]==2)):\n",
    "                        mindist=dist\n",
    "                        correct_leaflet=head_leaflet[nn][neigh[nn][i][j]]\n",
    "            if (mindist<1.4): #close to a headgroup, so in a leaflet\n",
    "                head_leaflet[nn][i]=correct_leaflet\n",
    "                fixedchol=fixedchol+1\n",
    "            else:\n",
    "                head_leaflet[nn][i]=2\n",
    "                midplanechol=midplanechol+1"
   ]
  },
  {
   "cell_type": "code",
   "execution_count": 26,
   "metadata": {},
   "outputs": [],
   "source": [
    "# only need upper leaflet heads for this situation\n",
    "upperheads=list([] for _ in xrange(traj.n_frames))\n",
    "for nn in range(traj.n_frames):\n",
    "#    upperheads[nn]=[]\n",
    "    for i in range(len(allhead)):\n",
    "        if head_leaflet[nn][i]==1:\n",
    "            upperheads[nn].append(allhead[i])"
   ]
  },
  {
   "cell_type": "code",
   "execution_count": 27,
   "metadata": {},
   "outputs": [],
   "source": [
    "# only need upper leaflet heads for this situation\n",
    "lowerheads=list([] for _ in xrange(traj.n_frames))\n",
    "for nn in range(traj.n_frames):\n",
    "    for i in range(len(allhead)):\n",
    "        if head_leaflet[nn][i]==0:\n",
    "            lowerheads[nn].append(allhead[i])"
   ]
  },
  {
   "cell_type": "code",
   "execution_count": 28,
   "metadata": {},
   "outputs": [],
   "source": [
    "#x,y coordinates of outer for Voronoi\n",
    "headxy=list([] for _ in xrange(traj.n_frames)) #[frame][head]\n",
    "reg=list([] for _ in xrange(traj.n_frames))\n",
    "frac_reg=list([] for _ in xrange(traj.n_frames))\n",
    "vneigh=list([] for _ in xrange(traj.n_frames))\n",
    "vneighres=list([] for _ in xrange(traj.n_frames))\n",
    "for nn in range(traj.n_frames):\n",
    "    headxy[nn]=list([] for _ in xrange(len(lowerheads[nn])))\n",
    "    for i in range(len(lowerheads[nn])):\n",
    "        lowerheadsi=lowerheads[nn][i]\n",
    "        headxy[nn][i]=(traj.xyz[nn][lowerheadsi][0:2:1])\n",
    "        \n",
    "\n",
    "    vor=scipy.spatial.Voronoi(np.array(headxy[nn]))\n",
    "\n",
    "#Voronoi neighbors vneigh\n",
    "\n",
    "#generate list of neighbors, edgeneigh\n",
    "    edgeneigh=list([] for _ in xrange(len(lowerheads[nn])))\n",
    "    for k in range(len(vor.ridge_points)):\n",
    "        pair=vor.ridge_points[k]\n",
    "        edgeneigh[pair[0]].append(pair[1])\n",
    "        edgeneigh[pair[1]].append(pair[0])\n",
    "\n",
    "\n",
    "\n",
    "    vneigh[nn]=list([] for _ in xrange(len(lowerheads[nn])))  #lipid type\n",
    "    vneighres[nn]=list([] for _ in xrange(len(lowerheads[nn])))\n",
    "    for i in range(len(lowerheads[nn])):\n",
    "        vneighheads=edgeneigh[i] #upperhead index, not atom\n",
    "        if not vneighheads:\n",
    "            vneigh[nn][i]=[]\n",
    "            vneighres[nn][i]=[]\n",
    "        else:\n",
    "            for j in range(len(vneighheads)):\n",
    "                vneigh[nn][i].append(resnames[lowerheads[nn][vneighheads[j]]])\n",
    "                vneighres[nn][i].append(vneighheads[j])\n"
   ]
  },
  {
   "cell_type": "code",
   "execution_count": 29,
   "metadata": {},
   "outputs": [],
   "source": [
    "lowerheadxy=list([] for _ in xrange(traj.n_frames))\n",
    "lowerheadz=list([] for _ in xrange(traj.n_frames))\n",
    "\n",
    "for nn in range(traj.n_frames):\n",
    "    for i in range(len(lowerheads[nn])):\n",
    "        if lowerheads[nn][i] in allhead:\n",
    "            index = np.where(allhead==lowerheads[nn][i])\n",
    "            lowerheadxy[nn].append(allheadxy[0][int(index[0])])\n",
    "            lowerheadz[nn].append(allheadz[0][int(index[0])])\n",
    "\n",
    "            \n",
    "    "
   ]
  },
  {
   "cell_type": "code",
   "execution_count": 30,
   "metadata": {
    "scrolled": true
   },
   "outputs": [],
   "source": [
    "#only care about DBPC's neighbors\n",
    "DBPC_vneighlist=list([] for _ in xrange(traj.n_frames))\n",
    "\n",
    "for nn in range(traj.n_frames):\n",
    "    for i in range(len(vneighres[nn])):\n",
    "            if resnames[lowerheads[nn][i]]== \"POPE\":\n",
    "                DBPC_vneighlist[nn].append([i]+vneighres[nn][i]) \n",
    "#for nn in range(traj.n_frames): \n",
    "\n",
    "  #  for i in range(len(DBPC_vneighlist[nn])):\n",
    "       #    del DBPC_vneighlist[nn][i][2:]\n",
    "                "
   ]
  },
  {
   "cell_type": "code",
   "execution_count": 31,
   "metadata": {},
   "outputs": [],
   "source": [
    "membrane_normal=list([] for x in range(traj.n_frames))\n",
    "for nn in range(traj.n_frames):\n",
    "    for i in range(len(DBPC_vneighlist[nn])):\n",
    "        point1=np.array([lowerheadxy[nn][DBPC_vneighlist[nn][i][0]][0],lowerheadxy[nn][DBPC_vneighlist[nn][i][0]][1],lowerheadz[nn][DBPC_vneighlist[nn][i][0]]])\n",
    "        point2=np.array([lowerheadxy[nn][DBPC_vneighlist[nn][i][1]][0],lowerheadxy[nn][DBPC_vneighlist[nn][i][1]][1],lowerheadz[nn][DBPC_vneighlist[nn][i][0]]])\n",
    "        point3=np.array([lowerheadxy[nn][DBPC_vneighlist[nn][i][2]][0],lowerheadxy[nn][DBPC_vneighlist[nn][i][2]][1],lowerheadz[nn][DBPC_vneighlist[nn][i][0]]])\n",
    "        a=find_plane(point1,point2,point3)\n",
    "        #print(point1,point2,point3)\n",
    "        if math.isnan(a[0]):\n",
    "            print(nn,i)\n",
    "        membrane_normal[nn].append(a)\n",
    "\n",
    "for nn in range(traj.n_frames):\n",
    "    for i in range(len(membrane_normal[nn])):\n",
    "        if membrane_normal[nn][i][2]>0:\n",
    "            membrane_normal[nn][i][0]=(-1)*membrane_normal[nn][i][0]\n",
    "            membrane_normal[nn][i][1]=(-1)*membrane_normal[nn][i][1]\n",
    "            membrane_normal[nn][i][2]=(-1)*membrane_normal[nn][i][2]\n",
    "\n",
    "\n"
   ]
  },
  {
   "cell_type": "code",
   "execution_count": 32,
   "metadata": {},
   "outputs": [],
   "source": [
    "for nn in range(traj.n_frames):\n",
    "    for i in range(len(membrane_normal[nn])): \n",
    "        if math.isnan(membrane_normal[nn][i][0]):\n",
    "            print(nn,i)"
   ]
  },
  {
   "cell_type": "code",
   "execution_count": 33,
   "metadata": {},
   "outputs": [],
   "source": [
    "POPE_in_lowerleaflet = list([] for _ in xrange(traj.n_frames))\n",
    "\n",
    "for nn in range(traj.n_frames):\n",
    "    for i in range(len(lowerheads[nn])):\n",
    "        if resnames[lowerheads[nn][i]]=='POPE':\n",
    "            POPE_in_lowerleaflet[nn].append(lowerheads[nn][i])"
   ]
  },
  {
   "cell_type": "code",
   "execution_count": 72,
   "metadata": {},
   "outputs": [
    {
     "data": {
      "text/plain": [
       "2689"
      ]
     },
     "execution_count": 72,
     "metadata": {},
     "output_type": "execute_result"
    }
   ],
   "source": [
    "len(lowerheads[10])"
   ]
  },
  {
   "cell_type": "code",
   "execution_count": 71,
   "metadata": {},
   "outputs": [
    {
     "data": {
      "text/plain": [
       "2689"
      ]
     },
     "execution_count": 71,
     "metadata": {},
     "output_type": "execute_result"
    }
   ],
   "source": [
    "len(lowerheadxy[10])"
   ]
  },
  {
   "cell_type": "markdown",
   "metadata": {},
   "source": [
    "# Find POPE Across from Lo/Ld"
   ]
  },
  {
   "cell_type": "code",
   "execution_count": 34,
   "metadata": {},
   "outputs": [],
   "source": [
    "#count DPPC as fraction of upper total, to find global concentration of DPPC\n",
    "upperdppc=list([] for _ in xrange(traj.n_frames))\n",
    "#uppertotal=list([] for _ in xrange(traj.n_frames))\n",
    "globalconc=list([] for _ in xrange(traj.n_frames))\n",
    "\n",
    "for nn in range(traj.n_frames):\n",
    "    upperdppc[nn]=0\n",
    "    for j in range(len(upperheads[nn])):\n",
    "        if(resnames[upperheads[nn][j]]=='DXPC' or resnames[upperheads[nn][j]]=='DBPC' or resnames[upperheads[nn][j]]=='DPPC' or resnames[upperheads[nn][j]]=='CHOL'):\n",
    "            upperdppc[nn]=upperdppc[nn]+1\n",
    "    globalconc[nn]=float(upperdppc[nn])/len(upperheads[nn])"
   ]
  },
  {
   "cell_type": "code",
   "execution_count": 35,
   "metadata": {},
   "outputs": [],
   "source": [
    "#x,y coordinates of outer for Voronoi\n",
    "headxy=list([] for _ in xrange(traj.n_frames)) #[frame][head]\n",
    "reg=list([] for _ in xrange(traj.n_frames))\n",
    "frac_reg=list([] for _ in xrange(traj.n_frames))\n",
    "for nn in range(traj.n_frames):\n",
    "#    headxy[nn]=list([] for _ in xrange(len(upperheads[nn])))\n",
    "    for i in range(len(upperheads[nn])):\n",
    "        upperheadsi=upperheads[nn][i]\n",
    "        headxy[nn].append(traj.xyz[nn][upperheadsi][0:2:1])\n",
    "        \n",
    "\n",
    "    vor=scipy.spatial.Voronoi(np.array(headxy[nn]))\n",
    "\n",
    "#Voronoi neighbors vneigh\n",
    "\n",
    "#generate list of neighbors, edgeneigh\n",
    "    edgeneigh=list([] for _ in xrange(len(upperheads[nn])))\n",
    "    for k in range(len(vor.ridge_points)):\n",
    "        pair=vor.ridge_points[k]\n",
    "        edgeneigh[pair[0]].append(pair[1])\n",
    "        edgeneigh[pair[1]].append(pair[0])\n",
    "\n",
    "\n",
    "\n",
    "    vneigh=list([] for _ in xrange(len(upperheads[nn])))  #lipid type\n",
    "    vneighres=list([] for _ in xrange(len(upperheads[nn])))\n",
    "    for i in range(len(upperheads[nn])):\n",
    "        vneighheads=edgeneigh[i] #upperhead index, not atom\n",
    "        if not vneighheads:\n",
    "            vneigh[i]=[]\n",
    "            vneighres[i]=[]\n",
    "        else:\n",
    "            for j in range(len(vneighheads)):\n",
    "                vneigh[i].append(resnames[upperheads[nn][vneighheads[j]]])\n",
    "                vneighres[i].append(vneighheads[j])\n",
    "\n",
    "\n",
    "#phase based on edges\n",
    "    vphase=list([] for _ in xrange(len(upperheads[nn])))\n",
    "    for i in range(len(upperheads[nn])):\n",
    "        vneightot=1+len(vneigh[i]) #include self\n",
    "        num_sat=0\n",
    "        if (resnames[upperheads[nn][j]]=='DXPC' or resnames[upperheads[nn][j]]=='DBPC' or resnames[upperheads[nn][j]]=='DPPC' or resnames[upperheads[nn][j]]=='CHOL'):\n",
    "            num_sat=num_sat+1\n",
    "        for j in range(len(vneigh[i])):\n",
    "            if (vneigh[i][j]=='DXPC' or vneigh[i][j]=='DBPC' or vneigh[i][j]=='DPPC' or vneigh[i][j]=='CHOL'):\n",
    "                num_sat=num_sat+1\n",
    "        vlocal_conc=float(num_sat)/vneightot #integer would always be zero\n",
    "        if (vlocal_conc > globalconc[nn]):\n",
    "            vphase[i] = 1 # Lo=1\n",
    "        else:\n",
    "            vphase[i] = 0 # Ld=0\n",
    "        \n",
    "#iterate edge-based phase determination to reduce small clusters\n",
    "    vphase2=list([] for _ in xrange(len(upperheads[nn])))\n",
    "    for i in range(len(upperheads[nn])):\n",
    "        vneightot=1+len(vneigh[i])\n",
    "        num_lo=0\n",
    "        if (vphase[i]==1):\n",
    "            num_lo=num_lo+1\n",
    "        for j in range(len(vneigh[i])):\n",
    "            if(vphase[vneighres[i][j]]==1):\n",
    "                num_lo=num_lo+1\n",
    "        vlocal_conc=float(num_lo)/vneightot\n",
    "        if (vlocal_conc > 0.49):\n",
    "            vphase2[i]=1\n",
    "        else:\n",
    "            vphase2[i]=0\n",
    "\n",
    "\n",
    "#iterate edge-based phase determination to reduce small clusters\n",
    "    vphase3=list([] for _ in xrange(len(upperheads[nn])))\n",
    "    for i in range(len(upperheads[nn])):\n",
    "        vneightot=1+len(vneigh[i])\n",
    "        num_lo=0\n",
    "        if (vphase2[i]==1):\n",
    "            num_lo=num_lo+1\n",
    "        for j in range(len(vneigh[i])):\n",
    "            if(vphase2[vneighres[i][j]]==1):\n",
    "                num_lo=num_lo+1\n",
    "        vlocal_conc=float(num_lo)/vneightot\n",
    "        if (vlocal_conc > 0.49):\n",
    "            vphase3[i]=1\n",
    "        else:\n",
    "            vphase3[i]=0\n",
    "            \n",
    "            \n",
    "# calculate opposite phase\n",
    "    oppneigh=list([] for _ in xrange(len(upperheads[nn]))) #for upper, lower neighbors (xy dist)\n",
    "    for i in range(len(upperheads[nn])):\n",
    "        for j in range(len(neigh[nn][i])):\n",
    "            if (head_leaflet[nn][neigh[nn][i][j]]==0): # if lower\n",
    "                oppneigh[i].append(resnames[allhead[neigh[nn][i][j]]])\n",
    "#           oppneighres[i].append(allhead[neigh[i][j]])\n",
    "\n",
    "    oppphase=list([] for _ in xrange(len(upperheads[nn])))\n",
    "    for i in range(len(upperheads[nn])):\n",
    "        oppneightot=len(oppneigh[i])\n",
    "        num_sat=0\n",
    "        for j in range(len(oppneigh[i])):\n",
    "            if (oppneigh[i][j]=='DXPC' or oppneigh[i][j]=='DBPC' or oppneigh[i][j]=='DPPC' or oppneigh[i][j]=='CHOL'):\n",
    "                num_sat=num_sat+1\n",
    "        if (oppneightot):\n",
    "            local_conc=float(num_sat)/oppneightot\n",
    "        else:\n",
    "            local_conc=0\n",
    "        if (local_conc > globalconc[nn]):\n",
    "            oppphase[i] = 1 #Lo\n",
    "        else:\n",
    "            oppphase[i] = 0 #Ld\n",
    "    \n",
    "\n",
    "# for more logical comparison, iterate twice, using upper Voronoi neighbors' oppphase values\n",
    "    oppphase2=list([] for _ in xrange(len(upperheads[nn])))\n",
    "    for i in range(len(upperheads[nn])):\n",
    "        vneightot=1+len(vneigh[i]) #include self, Voronoi same-leaflet neighbors\n",
    "        num_lo=0\n",
    "        if (oppphase[i]==0):\n",
    "            num_lo=num_lo+1\n",
    "        for j in range(len(vneigh[i])):\n",
    "            if (oppphase[vneighres[i][j]]==1):\n",
    "                num_lo=num_lo+1\n",
    "        local_conc=float(num_lo)/vneightot\n",
    "        if (local_conc > 0.49):\n",
    "            oppphase2[i]=1\n",
    "        else: \n",
    "            oppphase2[i]=0\n",
    "\n",
    "    oppphase3=list([] for _ in xrange(len(upperheads[nn])))\n",
    "    for i in range(len(upperheads[nn])):\n",
    "        vneightot=1+len(vneigh[i]) #include self, Voronoi same-leaflet neighbors\n",
    "        num_lo=0\n",
    "        if (oppphase2[i]==0):\n",
    "            num_lo=num_lo+1\n",
    "        for j in range(len(vneigh[i])):\n",
    "            if (oppphase2[vneighres[i][j]]==1):\n",
    "                num_lo=num_lo+1\n",
    "        local_conc=float(num_lo)/vneightot\n",
    "        if (local_conc > 0.49):\n",
    "            oppphase3[i]=1\n",
    "        else: \n",
    "            oppphase3[i]=0\n",
    "        \n",
    "        \n",
    "# compare oppphase3 to vphase3 to check for registration\n",
    "    reg[nn]=list([] for _ in xrange(len(upperheads[nn])))\n",
    "    for i in range(len(upperheads[nn])):\n",
    "        if (oppphase3[i]==vphase3[i]):\n",
    "            reg[nn][i]=1 # registered\n",
    "        else:\n",
    "            reg[nn][i]=0 # not registered\n",
    "    frac_reg[nn]=float(sum(reg[nn]))/len(reg[nn])"
   ]
  },
  {
   "cell_type": "code",
   "execution_count": 36,
   "metadata": {},
   "outputs": [],
   "source": [
    "#x,y coordinates of outer for Voronoi\n",
    "headxy=list([] for _ in xrange(traj.n_frames)) #[frame][head]\n",
    "intmember=list([] for _ in xrange(traj.n_frames))\n",
    "intfrac=list([] for _ in xrange(traj.n_frames))\n",
    "regintfrac=list([] for _ in xrange(traj.n_frames))\n",
    "u_phase_global=list([] for _ in xrange(traj.n_frames))\n",
    "for nn in range(traj.n_frames):\n",
    "#    headxy[nn]=list([] for _ in xrange(len(upperheads[nn])))\n",
    "    for i in range(len(upperheads[nn])):\n",
    "        upperheadsi=upperheads[nn][i]\n",
    "        headxy[nn].append(traj.xyz[nn][upperheadsi][0:2:1])\n",
    "        \n",
    "\n",
    "    vor=scipy.spatial.Voronoi(np.array(headxy[nn]))\n",
    "\n",
    "#Voronoi neighbors vneigh\n",
    "\n",
    "#generate list of neighbors, edgeneigh\n",
    "    edgeneigh=list([] for _ in xrange(len(upperheads[nn])))\n",
    "    for k in range(len(vor.ridge_points)):\n",
    "        pair=vor.ridge_points[k]\n",
    "        edgeneigh[pair[0]].append(pair[1])\n",
    "        edgeneigh[pair[1]].append(pair[0])\n",
    "\n",
    "\n",
    "\n",
    "    vneigh=list([] for _ in xrange(len(upperheads[nn])))  #lipid type\n",
    "    vneighres=list([] for _ in xrange(len(upperheads[nn])))\n",
    "    for i in range(len(upperheads[nn])):\n",
    "        vneighheads=edgeneigh[i] #upperhead index, not atom\n",
    "        if not vneighheads:\n",
    "            vneigh[i]=[]\n",
    "            vneighres[i]=[]\n",
    "        else:\n",
    "            for j in range(len(vneighheads)):\n",
    "                vneigh[i].append(resnames[upperheads[nn][vneighheads[j]]])\n",
    "                vneighres[i].append(vneighheads[j])\n",
    "\n",
    "\n",
    "#phase based on edges\n",
    "    vphase=list([] for _ in xrange(len(upperheads[nn])))\n",
    "    for i in range(len(upperheads[nn])):\n",
    "        vneightot=1+len(vneigh[i]) #include self\n",
    "        num_sat=0\n",
    "        if (resnames[upperheads[nn][j]]=='DXPC' or resnames[upperheads[nn][j]]=='DBPC' or resnames[upperheads[nn][j]]=='DPPC' or resnames[upperheads[nn][j]]=='CHOL'):\n",
    "            num_sat=num_sat+1\n",
    "        for j in range(len(vneigh[i])):\n",
    "            if (vneigh[i][j]=='DXPC' or vneigh[i][j]=='DBPC' or vneigh[i][j]=='DPPC' or vneigh[i][j]=='CHOL'):\n",
    "                num_sat=num_sat+1\n",
    "        vlocal_conc=float(num_sat)/vneightot #integer would always be zero\n",
    "        if (vlocal_conc > globalconc[nn]):\n",
    "            vphase[i] = 1 # Lo=1\n",
    "        else:\n",
    "            vphase[i] = 0 # Ld=0\n",
    "        \n",
    "#iterate edge-based phase determination to reduce small clusters\n",
    "    vphase2=list([] for _ in xrange(len(upperheads[nn])))\n",
    "    for i in range(len(upperheads[nn])):\n",
    "        vneightot=1+len(vneigh[i])\n",
    "        num_lo=0\n",
    "        if (vphase[i]==1):\n",
    "            num_lo=num_lo+1\n",
    "        for j in range(len(vneigh[i])):\n",
    "            if(vphase[vneighres[i][j]]==1):\n",
    "                num_lo=num_lo+1\n",
    "        vlocal_conc=float(num_lo)/vneightot\n",
    "        if (vlocal_conc > 0.49):\n",
    "            vphase2[i]=1\n",
    "        else:\n",
    "            vphase2[i]=0\n",
    "\n",
    "\n",
    "#iterate edge-based phase determination to reduce small clusters\n",
    "    vphase3=list([] for _ in xrange(len(upperheads[nn])))\n",
    "    for i in range(len(upperheads[nn])):\n",
    "        vneightot=1+len(vneigh[i])\n",
    "        num_lo=0\n",
    "        if (vphase2[i]==1):\n",
    "            num_lo=num_lo+1\n",
    "        for j in range(len(vneigh[i])):\n",
    "            if(vphase2[vneighres[i][j]]==1):\n",
    "                num_lo=num_lo+1\n",
    "        vlocal_conc=float(num_lo)/vneightot\n",
    "        if (vlocal_conc > 0.49):\n",
    "            vphase3[i]=1\n",
    "        else:\n",
    "            vphase3[i]=0\n",
    "            \n",
    "#################################################################################\n",
    "#ONLY GOING TO USE VPHASE TO CREAT U_PHASE\n",
    "    domain=list([] for _ in xrange(len(upperheads[nn])))\n",
    "    for i in range(len(upperheads[nn])): #N: Cycling through all molecule heads\n",
    "        domain[i]=0 # 0 = unassigned; N: Assigning each domain a value of 0\n",
    "\n",
    "    recurlist=[] # list of heads that must run through domain algorithm because in chain of neighbors\n",
    "\n",
    "    domain[0]=1 # first lipid sets first domain\n",
    "    for i in range(len(vneighres[0])): # vneighres is allheadz index, not atom\n",
    "        ni=vneighres[0][i] #N: Looking at specific patch\n",
    "        if vphase[ni]==vphase[0]: #only neighbors in same phase; N: Check if they have the same phase\n",
    "            domain[ni]=1\n",
    "            recurlist.append(ni) #N: Add it the heads that need to be checked against their neighbors\n",
    "    num_domains=1\n",
    "     \n",
    "    while len(recurlist): # no new domain should be introduced in this section\n",
    "        headi=recurlist[0] #N: Looking at the first entry in recurlist\n",
    "        neighi=vneighres[headi] #N: Finding its neighbors\n",
    "        recurlist=recurlist[1:] # remove 1st element, now being handled\n",
    "        for j in range(len(neighi)):#N: For all of its neighbors\n",
    "            ni=neighi[j] \n",
    "            if (vphase[ni]==vphase[headi] and domain[ni]==0): #avoid infinitely putting back into recurlist; N: is the phase same as domian\n",
    "                domain[ni]=domain[headi] #N: Domain is the same as the head\n",
    "                recurlist.append(ni) #N: Put it back in the list to be checked again\n",
    "\n",
    "    #now iterate over other lipids, excluding those already marked\n",
    "    for i in range(len(upperheads[nn])-1): # 0 already done\n",
    "        if domain[i+1]==0: #not yet marked\n",
    "            neighi=vneighres[i+1]\n",
    "            num_domains=num_domains+1\n",
    "            domain[i+1]=num_domains\n",
    "            for j in range(len(neighi)):\n",
    "                ni=neighi[j]\n",
    "                if vphase[ni]==vphase[i+1]:\n",
    "                    domain[ni]=domain[i+1] \n",
    "                    recurlist.append(ni)\n",
    "            while len(recurlist): #until exhausted, then move onto next new domain\n",
    "                headi=recurlist[0]\n",
    "                neighi=vneighres[headi]\n",
    "                recurlist=recurlist[1:]\n",
    "                for j in range(len(neighi)):\n",
    "                    ni=neighi[j]\n",
    "                    if (vphase[ni]==vphase[headi] and domain[ni]==0):\n",
    "                        domain[ni]=domain[headi]\n",
    "                        recurlist.append(ni)\n",
    "                        \n",
    "    # see how many lipids in each domain\n",
    "    num_domains=max(domain)\n",
    "    domainsize=list([] for _ in xrange(num_domains))\n",
    "    for i in range(len(domainsize)):\n",
    "        domainsize[i]=0\n",
    "    for i in range(len(domain)):\n",
    "        di=domain[i]-1 #return to 0-index\n",
    "        domainsize[di]=domainsize[di]+1\n",
    "\n",
    "    #N: Method to get rid of domains that are less than 10 lipids long. 1) Find domains which are less than 10 lipids \n",
    "    #N: 2) Take every lipid with a small domain and add it to a list 3) Take that list and change the phase, and make\n",
    "    #N: an  updated phase list\n",
    "\n",
    "    #N: Going to make a list of the domains which are too small\n",
    "    small_domain=[]\n",
    "    lipid_counter=0 #N: Total number of lipids \n",
    "    for i in range(len(domainsize)): \n",
    "        if domainsize[i]<10: \n",
    "            small_domain.append(i+1)\n",
    "            lipid_counter=lipid_counter+domainsize[i]\n",
    "\n",
    "\n",
    "    #N: Go through domain(holds which domain every lipid belongs to) and see if its domain is in small_domian\n",
    "    #N: If it is, its phase needs to be changed \n",
    "    phase_req_change=[]\n",
    "    for i in range(len(domain)):\n",
    "        if domain[i] in small_domain:\n",
    "            phase_req_change.append(i)\n",
    "\n",
    "    #N: Go through phase_req_change. Each entry is the lipid whose phase needs to be switched. So take that entry\n",
    "    #N: and plug it into u_phase. Then switch the value of u_phase.\n",
    "    u_phase=[]\n",
    "\n",
    "    for i in range(len(vphase)):\n",
    "        if i in phase_req_change:\n",
    "            #print(n)\n",
    "            if vphase[i]==0:\n",
    "                u_phase.append(1)\n",
    "            if vphase[i]==1:\n",
    "                u_phase.append(0)\n",
    "        else: \n",
    "            u_phase.append(vphase[i])\n",
    "    u_phase_global[nn]=u_phase\n"
   ]
  },
  {
   "cell_type": "code",
   "execution_count": 37,
   "metadata": {},
   "outputs": [],
   "source": [
    "bottom_oppneigh=list([] for _ in xrange(traj.n_frames)) #for upper, lower neighbors (xy dist)\n",
    "for nn in range(traj.n_frames):\n",
    "    bottom_oppneigh[nn]=list([] for _ in xrange(len(lowerheads[nn]))) #for upper, lower neighbors (xy dist)\n",
    "    for i in range(len(lowerheads[nn])):\n",
    "        for j in range(len(neigh[nn][i])):\n",
    "            if (head_leaflet[nn][neigh[nn][i][j]]==1): # if upper\n",
    "                bottom_oppneigh[nn][i].append(allhead[neigh[nn][i][j]])\n"
   ]
  },
  {
   "cell_type": "code",
   "execution_count": 38,
   "metadata": {},
   "outputs": [],
   "source": [
    "bottom_acrossLO=list([] for _ in xrange(traj.n_frames))\n",
    "bottom_acrossLD = list([] for _ in xrange(traj.n_frames))\n",
    "for nn in range(traj.n_frames):\n",
    "\n",
    "    for i in range(len(bottom_oppneigh[nn])):\n",
    "        s=0\n",
    "        for j in range(len(bottom_oppneigh[nn][i])):\n",
    "            s=np.mean(int(u_phase_global[nn][upperheads[nn].index(bottom_oppneigh[nn][i][j])]))\n",
    "        if float(s)>=.5:\n",
    "            bottom_acrossLO[nn].append(lowerheads[nn][i])\n",
    "        if float(s)<.5:\n",
    "            bottom_acrossLD[nn].append(lowerheads[nn][i])\n",
    "        "
   ]
  },
  {
   "cell_type": "markdown",
   "metadata": {},
   "source": [
    "# Split Desired Lipid into Chains - only need sn1"
   ]
  },
  {
   "cell_type": "code",
   "execution_count": 301,
   "metadata": {},
   "outputs": [],
   "source": [
    "DBPCchunked=list([] for _ in xrange(traj.n_frames))\n",
    "sn1=list([] for _ in xrange(traj.n_frames))\n",
    "LO_LD=list([] for _ in xrange(traj.n_frames))\n",
    "sn2=list([] for _ in xrange(traj.n_frames))\n",
    "sn3=list([] for _ in xrange(traj.n_frames))\n",
    "\n",
    "for nn in range(traj.n_frames): \n",
    "    DBPCchunked[nn]=[DBPCs[i:i + 52] for i in xrange(0, len(DBPCs), 52)]\n",
    "\n",
    "for nn in range(traj.n_frames):\n",
    "    for i in range(len(DBPCchunked[nn])):\n",
    "        if DBPCchunked[nn][i][7] in POPE_in_lowerleaflet[nn]:\n",
    "            a=DBPCchunked[nn][i][14:32]\n",
    "            b=DBPCchunked[nn][i][33:50] #double-bondchain\n",
    "            #print(a,b)\n",
    "            a=np.delete(a,1)\n",
    "            b=np.delete(b,1)\n",
    "\n",
    "            #a.append(DBPCchunked[nn][i][50:52])\n",
    "            sn1[nn].append(a)\n",
    "            sn2[nn].append(b)\n",
    "            sn3[nn].append(b)\n",
    "for nn in range(traj.n_frames):\n",
    "    for i in range(len(DBPCchunked[nn])):\n",
    "        if DBPCchunked[nn][i][7] in POPE_in_lowerleaflet[nn]: \n",
    "            if DBPCchunked[nn][i][7] in bottom_acrossLO[nn]:\n",
    "                LO_LD[nn].append(1)\n",
    "                \n",
    "            if DBPCchunked[nn][i][7] in bottom_acrossLD[nn]:\n",
    "                LO_LD[nn].append(0)\n",
    "\n",
    "curv = list([] for _ in xrange(traj.n_frames))\n",
    "for nn in range(traj.n_frames):\n",
    "    for i in range(len(DBPCchunked[nn])):\n",
    "        if DBPCchunked[nn][i][7] in POPE_in_lowerleaflet[nn]: \n",
    "            x = lowerheadxy[nn][lowerheads[nn].index(DBPCchunked[nn][i][7])][1]\n",
    "            if x < float(2.5):\n",
    "                curv[nn].append(0)\n",
    "            if x > float(15.0) and x < float(17.5):\n",
    "                curv[nn].append(1)\n",
    "            if x > float(2.5) and x < float(15.0):\n",
    "                curv[nn].append(2)\n",
    "            if x > float(17.5):\n",
    "                curv[nn].append(2)\n",
    "            \n",
    "            "
   ]
  },
  {
   "cell_type": "markdown",
   "metadata": {},
   "source": [
    "# Vector Calculation"
   ]
  },
  {
   "cell_type": "code",
   "execution_count": 107,
   "metadata": {},
   "outputs": [],
   "source": [
    "localz = list([] for _ in xrange(traj.n_frames))\n",
    "\n",
    "for nn in range(traj.n_frames):\n",
    "    for i in range(len(sn2[nn])):\n",
    "        \n",
    "        for j in range(len(sn2[nn][i])-2):\n",
    "            #print(nn,i,j)\n",
    "            a=sn2[nn][i][j]-sn2[nn][0][0]+33\n",
    "            b=sn2[nn][i][j+2]-sn2[nn][0][0]+33\n",
    "            #print(a,b)\n",
    "            vector=local_vector(lipidheadxyz[nn][a], lipidheadxyz[nn][b])\n",
    "            #if vector[0] and vector[1] and vector[2] <0:\n",
    "                #vector=vector*-1\n",
    "            localz[nn].append(vector)\n",
    "            "
   ]
  },
  {
   "cell_type": "code",
   "execution_count": 108,
   "metadata": {},
   "outputs": [],
   "source": [
    "localx = list([] for _ in xrange(traj.n_frames))\n",
    "\n",
    "for nn in range(traj.n_frames):\n",
    "    for i in range(len(localz[nn])):\n",
    "        localx[nn].append(perpendicular_vector(localz[nn][i]))"
   ]
  },
  {
   "cell_type": "code",
   "execution_count": 109,
   "metadata": {},
   "outputs": [],
   "source": [
    "localy = list([] for _ in xrange(traj.n_frames))\n",
    "\n",
    "for nn in range(traj.n_frames):\n",
    "    for i in range(len(localx[nn])): \n",
    "        n = np.cross(localz[nn][i],localx[nn][i])\n",
    "        n=n/magvect(n)\n",
    "        if n[0]  <0:\n",
    "                n=n*-1\n",
    "        localy[nn].append(n)\n",
    "     "
   ]
  },
  {
   "cell_type": "code",
   "execution_count": 110,
   "metadata": {},
   "outputs": [],
   "source": [
    "localx_lipid = list([] for _ in xrange(traj.n_frames))\n",
    "localy_lipid = list([] for _ in xrange(traj.n_frames))\n",
    "\n",
    "for nn in range(traj.n_frames):\n",
    "    localx_lipid[nn]=[localx[nn][i:i + 14] for i in xrange(0, len(localx[nn]), 14)]\n",
    "    localy_lipid[nn]=[localy[nn][i:i + 14] for i in xrange(0, len(localy[nn]), 14)]"
   ]
  },
  {
   "cell_type": "markdown",
   "metadata": {},
   "source": [
    "# Order Parameter Calculation"
   ]
  },
  {
   "cell_type": "code",
   "execution_count": 111,
   "metadata": {},
   "outputs": [],
   "source": [
    "Anglexx = list([] for _ in xrange(traj.n_frames))\n",
    "Angleyy = list([] for _ in xrange(traj.n_frames))\n",
    "\n",
    "for nn in range(traj.n_frames):\n",
    "    for i in range(len(localx_lipid[nn])):\n",
    "        for j in range(len(localx_lipid[nn][i])):\n",
    "            a=cos_angle(localx_lipid[nn][i][j].tolist(),membrane_normal[nn][i])\n",
    "            if math.isnan(a)==True:\n",
    "                print(a)\n",
    "            if a>np.pi/2:\n",
    "                a=float(np.pi - a)\n",
    "            Anglexx[nn].append(a)\n",
    "            \n",
    "for nn in range(traj.n_frames):\n",
    "    for i in range(len(localy_lipid[nn])):\n",
    "        for j in range(len(localy_lipid[nn][i])):\n",
    "            a=cos_angle(localy_lipid[nn][i][j],membrane_normal[nn][i])\n",
    "            if math.isnan(a)==True:     \n",
    "                print(localy_lipid[nn][i][j],membrane_normal[nn][j])\n",
    "            if a>np.pi/2:\n",
    "                \n",
    "                a=float(np.pi - a)\n",
    "            Angleyy[nn].append(a)\n"
   ]
  },
  {
   "cell_type": "code",
   "execution_count": 112,
   "metadata": {},
   "outputs": [],
   "source": [
    "Sxx = list([] for _ in xrange(traj.n_frames))\n",
    "Syy = list([] for _ in xrange(traj.n_frames))\n",
    "Sxy = list([] for _ in xrange(traj.n_frames))\n",
    "\n",
    "for nn in range(traj.n_frames):\n",
    "    for i in range(len(localx_lipid[nn])):\n",
    "        for j in range(len(localx_lipid[nn][i])):\n",
    "            Sxx[nn].append((3*cos_angle(localx_lipid[nn][i][j],membrane_normal[nn][i])**2 - 1)/2)\n",
    "            Syy[nn].append((3*cos_angle(localy_lipid[nn][i][j],membrane_normal[nn][i])**2 - 1)/2)\n"
   ]
  },
  {
   "cell_type": "code",
   "execution_count": 46,
   "metadata": {},
   "outputs": [],
   "source": [
    "OrderParam = list([] for _ in xrange(traj.n_frames))\n",
    "FinalOP = list([] for _ in xrange(traj.n_frames))\n",
    "for nn in range(traj.n_frames):\n",
    "    for i in range(len(Sxx[nn])):\n",
    "        OrderParam[nn].append((2*Sxx[nn][i]+Syy[nn][i])/3)\n",
    "for nn in range(traj.n_frames): \n",
    "    FinalOP[nn]=[OrderParam[nn][i:i + 14] for i in xrange(0, len(OrderParam[nn]), 14)]"
   ]
  },
  {
   "cell_type": "code",
   "execution_count": 121,
   "metadata": {},
   "outputs": [
    {
     "data": {
      "text/plain": [
       "876"
      ]
     },
     "execution_count": 121,
     "metadata": {},
     "output_type": "execute_result"
    }
   ],
   "source": [
    "len(FinalOP[0])"
   ]
  },
  {
   "cell_type": "code",
   "execution_count": 122,
   "metadata": {},
   "outputs": [
    {
     "data": {
      "text/plain": [
       "876"
      ]
     },
     "execution_count": 122,
     "metadata": {},
     "output_type": "execute_result"
    }
   ],
   "source": [
    "len(LO_LD[0])"
   ]
  },
  {
   "cell_type": "code",
   "execution_count": 307,
   "metadata": {},
   "outputs": [],
   "source": [
    "FinalOP_LO=list([] for _ in xrange(traj.n_frames))\n",
    "FinalOP_LD=list([] for _ in xrange(traj.n_frames))\n",
    "\n",
    "for nn in range(traj.n_frames):\n",
    "    for i in range(len(FinalOP[nn])):\n",
    "        if curv[nn][i] == 0:\n",
    "            FinalOP_LO[nn].append(FinalOP[nn][i])\n",
    "        if curv[nn][i] == 1:\n",
    "            FinalOP_LD[nn].append(FinalOP[nn][i])\n",
    "            \n",
    "            "
   ]
  },
  {
   "cell_type": "code",
   "execution_count": 308,
   "metadata": {},
   "outputs": [],
   "source": [
    "DataOP_LO = list([] for _ in xrange(traj.n_frames))\n",
    "DataOP_LD = list([] for _ in xrange(traj.n_frames))\n",
    "\n",
    "\n",
    "for nn in range(traj.n_frames):\n",
    "    #print(nn)\n",
    "    DataOP_LO[nn]=np.mean(FinalOP_LO[nn],axis=0,dtype=float)\n",
    "\n",
    "\n",
    "Final_AVG_LO=np.mean(DataOP_LO,axis=0,dtype=float)\n",
    "Final_STD_LO=np.std(DataOP_LO,axis=0,dtype=float)\n",
    "\n",
    "DataOP_LD = list([] for _ in xrange(traj.n_frames))\n",
    "\n",
    "for nn in range(traj.n_frames):\n",
    "    DataOP_LD[nn]=np.mean(FinalOP_LD[nn],axis=0,dtype=float)\n",
    "\n",
    "Final_AVG_LD=np.mean(DataOP_LD,axis=0,dtype=float)\n",
    "Final_STD_LD=np.std(DataOP_LD,axis=0,dtype=float)"
   ]
  },
  {
   "cell_type": "code",
   "execution_count": 311,
   "metadata": {},
   "outputs": [
    {
     "data": {
      "text/plain": [
       "array([-0.21422952, -0.24148338, -0.24308334, -0.24153058, -0.26291712,\n",
       "       -0.25176286, -0.23692889, -0.23296074, -0.21439995, -0.19958726,\n",
       "       -0.17849036, -0.14687031, -0.09915779, -0.0605841 ])"
      ]
     },
     "execution_count": 311,
     "metadata": {},
     "output_type": "execute_result"
    }
   ],
   "source": [
    "(Final_AVG_LD)"
   ]
  },
  {
   "cell_type": "code",
   "execution_count": 312,
   "metadata": {},
   "outputs": [
    {
     "data": {
      "text/plain": [
       "array([-0.21687741, -0.24739859, -0.28190972, -0.2988986 , -0.29719723,\n",
       "       -0.28995557, -0.28554574, -0.27312678, -0.27411087, -0.24829348,\n",
       "       -0.21446304, -0.18079302, -0.13774933, -0.09551836])"
      ]
     },
     "execution_count": 312,
     "metadata": {},
     "output_type": "execute_result"
    }
   ],
   "source": [
    "Final_AVG_LO"
   ]
  },
  {
   "cell_type": "code",
   "execution_count": 3037,
   "metadata": {},
   "outputs": [],
   "source": [
    "file=open('aSymmetric-POPE-OP-LO-AVG.txt',\"a+\")\n",
    "\n",
    "file.write(str(float(name)))\n",
    "file.write(\",\")\n",
    "\n",
    "for i in range(len(Final_AVG_LO)):\n",
    "    file.write(str(float(Final_AVG_LO[i])))\n",
    "    file.write(\",\")\n",
    "               \n",
    "file.write('\\n')\n",
    "file.write('\\n')"
   ]
  },
  {
   "cell_type": "code",
   "execution_count": 3038,
   "metadata": {},
   "outputs": [],
   "source": [
    "file=open('aSymmetric-POPE-OP-LO-STD.txt',\"a+\")\n",
    "\n",
    "file.write(str(float(name)))\n",
    "file.write(\",\")\n",
    "for i in range(len(Final_STD_LO)):\n",
    "    file.write(str(float(Final_STD_LO[i])))\n",
    "    file.write(\",\")\n",
    "file.write('\\n')\n",
    "file.write('\\n')"
   ]
  },
  {
   "cell_type": "code",
   "execution_count": 3039,
   "metadata": {},
   "outputs": [],
   "source": [
    "file=open('aSymmetric-POPE-OP-LD-AVG.txt',\"a+\")\n",
    "\n",
    "file.write(str(float(name)))\n",
    "file.write(\",\")\n",
    "\n",
    "for i in range(len(Final_AVG_LD)):\n",
    "    file.write(str(float(Final_AVG_LD[i])))\n",
    "    file.write(\",\")\n",
    "               \n",
    "file.write('\\n')\n",
    "file.write('\\n')"
   ]
  },
  {
   "cell_type": "code",
   "execution_count": 3041,
   "metadata": {},
   "outputs": [],
   "source": [
    "file=open('aSymmetric-POPE-OP-LD-STD.txt',\"a+\")\n",
    "\n",
    "file.write(str(float(name)))\n",
    "file.write(\",\")\n",
    "for i in range(len(Final_STD_LD)):\n",
    "    file.write(str(float(Final_STD_LD[i])))\n",
    "    file.write(\",\")\n",
    "file.write('\\n')\n",
    "file.write('\\n')"
   ]
  },
  {
   "cell_type": "code",
   "execution_count": null,
   "metadata": {},
   "outputs": [],
   "source": []
  }
 ],
 "metadata": {
  "kernelspec": {
   "display_name": "Python 2",
   "language": "python",
   "name": "python2"
  },
  "language_info": {
   "codemirror_mode": {
    "name": "ipython",
    "version": 2
   },
   "file_extension": ".py",
   "mimetype": "text/x-python",
   "name": "python",
   "nbconvert_exporter": "python",
   "pygments_lexer": "ipython2",
   "version": "2.7.15"
  }
 },
 "nbformat": 4,
 "nbformat_minor": 2
}

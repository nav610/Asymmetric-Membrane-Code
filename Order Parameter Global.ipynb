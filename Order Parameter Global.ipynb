{
 "cells": [
  {
   "cell_type": "markdown",
   "metadata": {},
   "source": [
    "# Order Parameter with Respect to Bilayer Normal"
   ]
  },
  {
   "cell_type": "code",
   "execution_count": 713,
   "metadata": {},
   "outputs": [],
   "source": [
    "from __future__ import print_function\n",
    "%matplotlib inline\n",
    "import mdtraj as md\n",
    "import numpy as np\n",
    "import matplotlib.pyplot as plt\n",
    "from matplotlib.collections import PatchCollection\n",
    "from matplotlib.patches import Polygon\n",
    "#import scipy.cluster.hierarchy\n",
    "import scipy.spatial\n",
    "import math"
   ]
  },
  {
   "cell_type": "code",
   "execution_count": 714,
   "metadata": {},
   "outputs": [],
   "source": [
    "traj=md.load('a_zero.xtc',top='a_zero_17ns.gro',stride=1)"
   ]
  },
  {
   "cell_type": "code",
   "execution_count": 715,
   "metadata": {},
   "outputs": [
    {
     "data": {
      "text/plain": [
       "11"
      ]
     },
     "execution_count": 715,
     "metadata": {},
     "output_type": "execute_result"
    }
   ],
   "source": [
    "traj.n_frames"
   ]
  },
  {
   "cell_type": "code",
   "execution_count": 716,
   "metadata": {},
   "outputs": [],
   "source": [
    "name = '0'"
   ]
  },
  {
   "cell_type": "code",
   "execution_count": 717,
   "metadata": {},
   "outputs": [],
   "source": [
    "topology=traj.topology\n",
    "DBPCs=topology.select('resid 2233 to 3145') #selected only top leaflet DBPC \n",
    "lipidhead=topology.select('resname POPE')\n",
    "DBPClength=int(52)\n",
    "numberoflipids=913"
   ]
  },
  {
   "cell_type": "code",
   "execution_count": 718,
   "metadata": {},
   "outputs": [
    {
     "data": {
      "text/plain": [
       "47476"
      ]
     },
     "execution_count": 718,
     "metadata": {},
     "output_type": "execute_result"
    }
   ],
   "source": [
    "len(lipidhead)"
   ]
  },
  {
   "cell_type": "code",
   "execution_count": 719,
   "metadata": {},
   "outputs": [
    {
     "data": {
      "text/plain": [
       "47476"
      ]
     },
     "execution_count": 719,
     "metadata": {},
     "output_type": "execute_result"
    }
   ],
   "source": [
    "913*52"
   ]
  },
  {
   "cell_type": "code",
   "execution_count": 720,
   "metadata": {},
   "outputs": [],
   "source": [
    "#x,y coordinates of all for finding neighbors to determine local midplane z-value\n",
    "# here, best to use xy radius of neighbors, since Voronoi across 2 leaflets could have complications\n",
    "\n",
    "lipidheadxy=list([] for _ in xrange(traj.n_frames))\n",
    "lipidheadxyz=list([] for _ in xrange(traj.n_frames))\n",
    "for nn in range(traj.n_frames):\n",
    "    for i in range(len(lipidhead)):\n",
    "        lipidheadi=lipidhead[i]\n",
    "        lipidheadxy[nn].append(traj.xyz[nn][lipidheadi][0:2:1])\n",
    "        lipidheadxyz[nn].append(traj.xyz[nn][lipidheadi][0:3:1])\n"
   ]
  },
  {
   "cell_type": "markdown",
   "metadata": {},
   "source": [
    "# Random Methods"
   ]
  },
  {
   "cell_type": "code",
   "execution_count": 721,
   "metadata": {},
   "outputs": [],
   "source": [
    "def find_plane(cord1,cord2,cord3):\n",
    "    v1 = cord3-cord1\n",
    "    v2 = cord3-cord2\n",
    "    cp=np.cross(v1,v2)\n",
    "    d = cp[0]**2 + cp[1]**2 + cp[2]**2\n",
    "    x,y,z = cp/(d**.5)\n",
    "    return [x,y,z]"
   ]
  },
  {
   "cell_type": "code",
   "execution_count": 722,
   "metadata": {},
   "outputs": [],
   "source": [
    "def chunks(l, n):\n",
    "    \"\"\"Yield successive n-sized chunks from l.\"\"\"\n",
    "    for i in range(0, len(l), n):\n",
    "        yield l[i:i + n]"
   ]
  },
  {
   "cell_type": "code",
   "execution_count": 723,
   "metadata": {},
   "outputs": [],
   "source": [
    "def local_vector(cord1,cord2):\n",
    "    vector = [cord1[0]-cord2[0],cord1[1]-cord2[1],cord1[2]-cord2[2]]\n",
    "    d=(cord1[0]-cord2[0])**2 + (cord1[1]-cord2[1])**2 + (cord1[2]-cord2[2])**2\n",
    "    vector=vector/(d**.5)\n",
    "    return vector\n",
    "    "
   ]
  },
  {
   "cell_type": "code",
   "execution_count": 724,
   "metadata": {},
   "outputs": [],
   "source": [
    "def find_plane(cord1,cord2,cord3):\n",
    "    v1 = cord3-cord1\n",
    "    v2 = cord3-cord2\n",
    "    cp=np.cross(v1,v2)\n",
    "    d = cp[0]**2 + cp[1]**2 + cp[2]**2\n",
    "    x,y,z = cp/(d**.5)\n",
    "    return [x,y,z]"
   ]
  },
  {
   "cell_type": "code",
   "execution_count": 725,
   "metadata": {},
   "outputs": [],
   "source": [
    "def magvect(v):\n",
    "    magnitude = np.sqrt(v[0]*v[0] + v[1]*v[1] + v[2]*v[2])\n",
    "    return magnitude"
   ]
  },
  {
   "cell_type": "code",
   "execution_count": 726,
   "metadata": {},
   "outputs": [],
   "source": [
    "def cos_angle(v1,v2):\n",
    "    cos = (np.dot(v1,v2)/((magvect(v1)*magvect(v2))))\n",
    "    return cos"
   ]
  },
  {
   "cell_type": "code",
   "execution_count": 727,
   "metadata": {},
   "outputs": [],
   "source": [
    "def perpendicular_vector(v):\n",
    "    if v[1] == 0 and v[2] == 0:\n",
    "        if v[0] == 0:\n",
    "            raise ValueError('zero vector')\n",
    "        else:\n",
    "            return np.cross(v, [0, 1, 0])\n",
    "    return np.cross(v, [1, 0, 0])"
   ]
  },
  {
   "cell_type": "markdown",
   "metadata": {},
   "source": [
    "# Find Membrane Normal"
   ]
  },
  {
   "cell_type": "code",
   "execution_count": 728,
   "metadata": {},
   "outputs": [],
   "source": [
    "topology=traj.topology\n",
    "allhead=topology.select('name P8 and resname POPE')"
   ]
  },
  {
   "cell_type": "code",
   "execution_count": 729,
   "metadata": {},
   "outputs": [],
   "source": [
    "resnames=[atom.residue.name for atom in topology.atoms]"
   ]
  },
  {
   "cell_type": "code",
   "execution_count": 730,
   "metadata": {},
   "outputs": [],
   "source": [
    "#x,y coordinates of all for finding neighbors to determine local midplane z-value\n",
    "# here, best to use xy radius of neighbors, since Voronoi across 2 leaflets could have complications\n",
    "\n",
    "allheadxy=list([] for _ in xrange(traj.n_frames))\n",
    "allheadz=list([] for _ in xrange(traj.n_frames))\n",
    "for nn in range(traj.n_frames):\n",
    "    for i in range(len(allhead)):\n",
    "        allheadi=allhead[i]\n",
    "        allheadxy[nn].append(traj.xyz[nn][allheadi][0:2:1])\n",
    "        allheadz[nn].append(traj.xyz[nn][allheadi][2])\n"
   ]
  },
  {
   "cell_type": "code",
   "execution_count": 731,
   "metadata": {},
   "outputs": [],
   "source": [
    "# mdtraj can't handle neighbors for gro (rather than xtc) inputs, so do it myself\n",
    "#cutoffsq = 2.4**2; #square of maximum xy distance for neighbors\n",
    "cutoffsq=1.0**2\n",
    "neigh=list([] for _ in xrange(traj.n_frames))\n",
    "for nn in range(traj.n_frames):\n",
    "    neigh[nn]=list([] for _ in xrange(len(allhead)))\n",
    "    for i in range(len(allheadxy[nn])):\n",
    "        xyi=allheadxy[nn][i]\n",
    "        for j in range(len(allhead)-i-1): #not self, but will add for midplane finding\n",
    "            xyj=allheadxy[nn][j+i+1]\n",
    "            distsq=(xyi[0]-xyj[0])**2 + (xyi[1]-xyj[1])**2\n",
    "            if (distsq < cutoffsq):\n",
    "                neigh[nn][i].append(j+i+1)\n",
    "                neigh[nn][j+i+1].append(i)\n",
    "  "
   ]
  },
  {
   "cell_type": "code",
   "execution_count": 732,
   "metadata": {},
   "outputs": [],
   "source": [
    "#new leaflet id method based on tilt angles; PO4-C4A or ROH-C1 (both +6 beads)\n",
    "num_head=len(allhead)\n",
    "tiltvectors=list([] for _ in xrange(traj.n_frames))\n",
    "\n",
    "for nn in range(traj.n_frames):\n",
    "    tiltvectors[nn]=list([] for _ in xrange(num_head)) #store vector roh-c1 or po4-c4a\n",
    "    \n",
    "    for i in range(num_head):\n",
    "        tiltvectors[nn][i]=traj.xyz[nn][allhead[i]]-traj.xyz[nn][allhead[i]+6]\n"
   ]
  },
  {
   "cell_type": "code",
   "execution_count": 733,
   "metadata": {},
   "outputs": [],
   "source": [
    "# must fix periodic boundary condition errors in tiltvectors, then calculate tiltangle\n",
    "norms=list([] for _ in xrange(traj.n_frames))\n",
    "for nn in range(traj.n_frames):\n",
    "    norms[nn]=list([] for _ in xrange(len(allhead)))\n",
    "    halfx=0.5*traj.unitcell_lengths[nn][0]\n",
    "    halfy=0.5*traj.unitcell_lengths[nn][1]\n",
    "    halfz=0.5*traj.unitcell_lengths[nn][2]\n",
    "    for i in range(len(allhead)):\n",
    "        norms[nn][i]=np.linalg.norm(tiltvectors[nn][i])\n",
    "        if (norms[nn][i] > halfz):\n",
    "            if (np.abs(tiltvectors[nn][i][0]) > halfx):\n",
    "                if (tiltvectors[nn][i][0]>0): \n",
    "                    tiltvectors[nn][i][0]=tiltvectors[nn][i][0]-2*halfx\n",
    "                else:\n",
    "                    tiltvectors[nn][i][0]=tiltvectors[nn][i][0]+2*halfx\n",
    "            if (np.abs(tiltvectors[nn][i][1]) > halfy):\n",
    "                if (tiltvectors[nn][i][1]>0): \n",
    "                    tiltvectors[nn][i][1]=tiltvectors[nn][i][1]-2*halfy\n",
    "                else:\n",
    "                    tiltvectors[nn][i][1]=tiltvectors[nn][i][1]+2*halfy\n",
    "            if (np.abs(tiltvectors[nn][i][2]) > halfz):\n",
    "                if (tiltvectors[nn][i][2]>0): \n",
    "                    tiltvectors[nn][i][2]=tiltvectors[nn][i][2]-2*halfz\n",
    "                else:\n",
    "                    tiltvectors[nn][i][2]=tiltvectors[nn][i][2]+2*halfz\n",
    "\n",
    "    for i in range(len(allhead)):\n",
    "        norms[nn][i]=np.linalg.norm(tiltvectors[nn][i])\n"
   ]
  },
  {
   "cell_type": "code",
   "execution_count": 734,
   "metadata": {},
   "outputs": [],
   "source": [
    "# use neigh to find local average tilt vector, outliers are not in a leaflet\n",
    "# if pointing neg in z, flip in x,y,z for making average in outer leaflet\n",
    "localvector=list([] for _ in xrange(traj.n_frames))\n",
    "for nn in range(traj.n_frames):\n",
    "    localvector[nn]=list([] for _ in xrange(len(allhead)))\n",
    "    for i in range(len(allhead)):\n",
    "        localvectorsx=[]\n",
    "        localvectorsy=[]\n",
    "        localvectorsz=[]\n",
    "        sgn=np.sign(tiltvectors[nn][i][2])\n",
    "        localvectorsx.append(sgn*tiltvectors[nn][i][0]) #include self\n",
    "        localvectorsy.append(sgn*tiltvectors[nn][i][1]) #include self\n",
    "        localvectorsz.append(sgn*tiltvectors[nn][i][2]) #include self\n",
    "        for j in range(len(neigh[nn][i])):\n",
    "            sgn=np.sign(tiltvectors[nn][neigh[nn][i][j]][2])\n",
    "            localvectorsx.append(sgn*tiltvectors[nn][neigh[nn][i][j]][0])\n",
    "            localvectorsy.append(sgn*tiltvectors[nn][neigh[nn][i][j]][1])\n",
    "            localvectorsz.append(sgn*tiltvectors[nn][neigh[nn][i][j]][2])\n",
    "        localvector[nn][i]=[np.mean(localvectorsx),np.mean(localvectorsy),np.mean(localvectorsz)]\n",
    "       "
   ]
  },
  {
   "cell_type": "code",
   "execution_count": 735,
   "metadata": {},
   "outputs": [
    {
     "name": "stderr",
     "output_type": "stream",
     "text": [
      "/Users/naveen/anaconda3/envs/ipykernel_py2/lib/python2.7/site-packages/ipykernel_launcher.py:17: RuntimeWarning: invalid value encountered in arccos\n"
     ]
    }
   ],
   "source": [
    "# find angle between orientation vector and local average orientation vector for each lipid\n",
    "# in range [0,180]\n",
    "diffangle=list([] for _ in xrange(traj.n_frames))\n",
    "for nn in range(traj.n_frames):\n",
    "    diffangle[nn]=list([] for _ in xrange(len(allhead)))\n",
    "    for i in range(len(allhead)):\n",
    "        normlv=np.linalg.norm(localvector[nn][i])\n",
    "        normtv=np.linalg.norm(tiltvectors[nn][i])\n",
    "        cos=np.dot(localvector[nn][i],tiltvectors[nn][i])/(normlv*normtv)\n",
    "        if (cos==0):\n",
    "            diffangle[nn][i]=90\n",
    "        elif (cos==1 and np.sign(localvector[nn][i][2])==np.sign(tiltvectors[nn][i][2])):\n",
    "            diffangle[nn][i]=0\n",
    "        elif (cos==1 and np.sign(localvector[nn][i][2])==np.sign(tiltvectors[nn][i][2])):\n",
    "            diffangle[nn][i]=180\n",
    "        else:\n",
    "            diffangle[nn][i]=np.arccos(cos)*180./np.pi\n"
   ]
  },
  {
   "cell_type": "code",
   "execution_count": 736,
   "metadata": {},
   "outputs": [],
   "source": [
    "#have array with values placing each head in one leaflet: 0=lower, 1=upper, 2=between\n",
    "head_leaflet=list([] for _ in xrange(traj.n_frames))\n",
    "for nn in range(traj.n_frames):\n",
    "    head_leaflet[nn]=list([] for _ in xrange(len(allhead)))\n",
    "    for i in range(len(allhead)):\n",
    "        if (diffangle[nn][i]>120):\n",
    "            head_leaflet[nn][i]=0\n",
    "        elif (diffangle[nn][i]<60):\n",
    "            head_leaflet[nn][i]=1\n",
    "        else:\n",
    "            head_leaflet[nn][i]=2"
   ]
  },
  {
   "cell_type": "code",
   "execution_count": 737,
   "metadata": {},
   "outputs": [],
   "source": [
    "# want to identify all midplane chol and remove all \"midplane\" phospholipids\n",
    "# tilt angle insufficient\n",
    "# chol: find distance from ROH to nearest PO4; if beyond threshold, then in midplane; \n",
    "# else, copy leaflet ID (do for all phospholipids); only if copying non-midplane\n",
    "\n",
    "for nn in range(traj.n_frames):\n",
    "    fixedchol=0\n",
    "    fixedphos=0\n",
    "    midplanechol=0\n",
    "    for i in range(len(allhead)):\n",
    "        mindist=100.0\n",
    "        if (head_leaflet[nn][i]==2 and (not resnames[allhead[i]]=='CHOL')): #phospholipids, must assign\n",
    "            for j in range(len(neigh[nn][i])):\n",
    "                if (not resnames[allhead[neigh[nn][i][j]]]=='CHOL'):\n",
    "                    dist=np.linalg.norm(traj.xyz[nn][allhead[i]]-traj.xyz[nn][allhead[neigh[nn][i][j]]])\n",
    "                    if (dist < mindist and (not head_leaflet[nn][neigh[nn][i][j]]==2)):\n",
    "                        mindist=dist\n",
    "                        correct_leaflet=head_leaflet[nn][neigh[nn][i][j]]\n",
    "            head_leaflet[nn][i]=correct_leaflet\n",
    "            fixedphos=fixedphos+1\n",
    "    #must fix all phospholipids before all chols, since some may use fixed phospholipid leaflet id\n",
    "    # so, must go through allhead twice\n",
    "    for i in range(len(allhead)):\n",
    "        mindist=100.0\n",
    "        if (resnames[allhead[i]]=='CHOL'): #all chol, ignoring angle\n",
    "            for j in range(len(neigh[nn][i])):\n",
    "                if (not resnames[allhead[neigh[nn][i][j]]]=='CHOL'):\n",
    "                    dist=np.linalg.norm(traj.xyz[nn][allhead[i]]-traj.xyz[nn][allhead[neigh[nn][i][j]]])\n",
    "                    if (dist < mindist and (not head_leaflet[nn][neigh[nn][i][j]]==2)):\n",
    "                        mindist=dist\n",
    "                        correct_leaflet=head_leaflet[nn][neigh[nn][i][j]]\n",
    "            if (mindist<1.4): #close to a headgroup, so in a leaflet\n",
    "                head_leaflet[nn][i]=correct_leaflet\n",
    "                fixedchol=fixedchol+1\n",
    "            else:\n",
    "                head_leaflet[nn][i]=2\n",
    "                midplanechol=midplanechol+1"
   ]
  },
  {
   "cell_type": "raw",
   "metadata": {},
   "source": [
    "# only need upper leaflet heads for this situation\n",
    "upperheads=list([] for _ in xrange(traj.n_frames))\n",
    "for nn in range(traj.n_frames):\n",
    "#    upperheads[nn]=[]\n",
    "    for i in range(len(allhead)):\n",
    "        if head_leaflet[nn][i]==1:\n",
    "            upperheads[nn].append(allhead[i])"
   ]
  },
  {
   "cell_type": "code",
   "execution_count": 738,
   "metadata": {},
   "outputs": [],
   "source": [
    "# only need upper leaflet heads for this situation\n",
    "lowerheads=list([] for _ in xrange(traj.n_frames))\n",
    "for nn in range(traj.n_frames):\n",
    "    for i in range(len(allhead)):\n",
    "        if head_leaflet[nn][i]==0:\n",
    "            lowerheads[nn].append(allhead[i])"
   ]
  },
  {
   "cell_type": "code",
   "execution_count": 740,
   "metadata": {},
   "outputs": [],
   "source": [
    "#x,y coordinates of outer for Voronoi\n",
    "headxy=list([] for _ in xrange(traj.n_frames)) #[frame][head]\n",
    "reg=list([] for _ in xrange(traj.n_frames))\n",
    "frac_reg=list([] for _ in xrange(traj.n_frames))\n",
    "vneigh=list([] for _ in xrange(traj.n_frames))\n",
    "vneighres=list([] for _ in xrange(traj.n_frames))\n",
    "for nn in range(traj.n_frames):\n",
    "#    headxy[nn]=list([] for _ in xrange(len(upperheads[nn])))\n",
    "    for i in range(len(lowerheads[nn])):\n",
    "        lowerheadsi=lowerheads[nn][i]\n",
    "        headxy[nn].append(traj.xyz[nn][lowerheadsi][0:2:1])\n",
    "        \n",
    "\n",
    "    vor=scipy.spatial.Voronoi(np.array(headxy[nn]))\n",
    "\n",
    "#Voronoi neighbors vneigh\n",
    "\n",
    "#generate list of neighbors, edgeneigh\n",
    "    edgeneigh=list([] for _ in xrange(len(lowerheads[nn])))\n",
    "    for k in range(len(vor.ridge_points)):\n",
    "        pair=vor.ridge_points[k]\n",
    "        edgeneigh[pair[0]].append(pair[1])\n",
    "        edgeneigh[pair[1]].append(pair[0])\n",
    "\n",
    "\n",
    "\n",
    "    vneigh[nn]=list([] for _ in xrange(len(lowerheads[nn])))  #lipid type\n",
    "    vneighres[nn]=list([] for _ in xrange(len(lowerheads[nn])))\n",
    "    for i in range(len(lowerheads[nn])):\n",
    "        vneighheads=edgeneigh[i] #upperhead index, not atom\n",
    "        if not vneighheads:\n",
    "            vneigh[nn][i]=[]\n",
    "            vneighres[nn][i]=[]\n",
    "        else:\n",
    "            for j in range(len(vneighheads)):\n",
    "                vneigh[nn][i].append(resnames[lowerheads[nn][vneighheads[j]]])\n",
    "                vneighres[nn][i].append(vneighheads[j])\n"
   ]
  },
  {
   "cell_type": "code",
   "execution_count": 741,
   "metadata": {},
   "outputs": [
    {
     "data": {
      "text/plain": [
       "[86, 623, 462, 699, 281, 697]"
      ]
     },
     "execution_count": 741,
     "metadata": {},
     "output_type": "execute_result"
    }
   ],
   "source": [
    "(vneighres[0][0])"
   ]
  },
  {
   "cell_type": "code",
   "execution_count": 742,
   "metadata": {},
   "outputs": [],
   "source": [
    "#only care about DBPC's neighbors\n",
    "DBPC_vneighlist=list([] for _ in xrange(traj.n_frames))\n",
    "\n",
    "for nn in range(traj.n_frames):\n",
    "    counter=0\n",
    "    for i in range(len(lowerheads[nn])):\n",
    "            if resnames[lowerheads[nn][i]]== \"POPE\":\n",
    "                counter=counter+1               \n",
    "                DBPC_vneighlist[nn].append(vneighres[nn][i]) \n",
    "for nn in range(traj.n_frames): \n",
    "    for i in range(len(DBPC_vneighlist[nn])):\n",
    "           del DBPC_vneighlist[nn][i][2:]\n",
    "                "
   ]
  },
  {
   "cell_type": "code",
   "execution_count": 743,
   "metadata": {},
   "outputs": [],
   "source": [
    "membrane_normal=list([] for x in range(traj.n_frames))\n",
    "for nn in range(traj.n_frames):\n",
    "    for i in range(len(DBPC_vneighlist[nn])):\n",
    "        point1=np.array([allheadxy[nn][i][0],allheadxy[nn][i][1],allheadz[0][i]])\n",
    "        point2=np.array([allheadxy[nn][DBPC_vneighlist[nn][i][0]][0],allheadxy[nn][DBPC_vneighlist[nn][i][0]][1],allheadz[nn][DBPC_vneighlist[nn][i][0]]])\n",
    "        point3=np.array([allheadxy[nn][DBPC_vneighlist[nn][i][1]][0],allheadxy[nn][DBPC_vneighlist[nn][i][1]][1],allheadz[nn][DBPC_vneighlist[nn][i][1]]])\n",
    "        membrane_normal[nn].append(find_plane(point1,point2,point3))\n",
    "\n",
    "for nn in range(traj.n_frames):\n",
    "    for i in range(len(membrane_normal[nn])):\n",
    "        if membrane_normal[nn][i][2]<0:\n",
    "            membrane_normal[nn][i][0]=(-1)*membrane_normal[nn][i][0]\n",
    "            membrane_normal[nn][i][1]=(-1)*membrane_normal[nn][i][1]\n",
    "            membrane_normal[nn][i][2]=(-1)*membrane_normal[nn][i][2]\n",
    "\n",
    "\n"
   ]
  },
  {
   "cell_type": "code",
   "execution_count": 744,
   "metadata": {},
   "outputs": [],
   "source": [
    "POPE_in_lowerleaflet = list([] for _ in xrange(traj.n_frames))\n",
    "\n",
    "for nn in range(traj.n_frames):\n",
    "    for i in range(len(lowerheads[nn])):\n",
    "        if resnames[lowerheads[nn][i]]=='POPE':\n",
    "            POPE_in_lowerleaflet[nn].append(lowerheads[nn][i])"
   ]
  },
  {
   "cell_type": "markdown",
   "metadata": {},
   "source": [
    "# Split Desired Lipid into Chains - only need sn1"
   ]
  },
  {
   "cell_type": "code",
   "execution_count": 745,
   "metadata": {},
   "outputs": [],
   "source": [
    "DBPCchunked=list([] for _ in xrange(traj.n_frames))\n",
    "sn1=list([] for _ in xrange(traj.n_frames))\n",
    "sn2=list([] for _ in xrange(traj.n_frames))\n",
    "\n",
    "\n",
    "for nn in range(traj.n_frames): \n",
    "    DBPCchunked[nn]=[DBPCs[i:i + 52] for i in xrange(0, len(DBPCs), 52)]\n",
    "\n",
    "for nn in range(traj.n_frames):\n",
    "    for i in range(len(DBPCchunked[nn])):\n",
    "        if DBPCchunked[nn][i][7] in POPE_in_lowerleaflet[nn]:\n",
    "            a=DBPCchunked[nn][i][33:50]\n",
    "            a=np.delete(a,1)\n",
    "        #b=np.delete(b,1)\n",
    "            sn1[nn].append(a)\n",
    "        #sn2[nn].append(b)\n",
    "\n"
   ]
  },
  {
   "cell_type": "markdown",
   "metadata": {},
   "source": [
    "# Vector Calculation"
   ]
  },
  {
   "cell_type": "code",
   "execution_count": 787,
   "metadata": {},
   "outputs": [],
   "source": [
    "localz = list([] for _ in xrange(traj.n_frames))\n",
    "\n",
    "for nn in range(traj.n_frames):\n",
    "    for i in range(len(sn1[nn])):\n",
    "        \n",
    "        for j in range(len(sn1[nn][i])-2):\n",
    "            #print(i,j)\n",
    "            a=sn1[nn][i][j]-sn1[nn][0][0]+14\n",
    "            b=sn1[nn][i][j+2]-sn1[nn][0][0]+14\n",
    "            #print(a,b)\n",
    "            vector=local_vector(lipidheadxyz[nn][a], lipidheadxyz[nn][b])\n",
    "            #if vector[0] and vector[1] and vector[2] <0:\n",
    "                #vector=vector*-1\n",
    "            localz[nn].append(vector)"
   ]
  },
  {
   "cell_type": "code",
   "execution_count": 789,
   "metadata": {},
   "outputs": [],
   "source": [
    "localx = list([] for _ in xrange(traj.n_frames))\n",
    "\n",
    "for nn in range(traj.n_frames):\n",
    "    for i in range(len(localz[nn])):\n",
    "        localx[nn].append(perpendicular_vector(localz[nn][i]))"
   ]
  },
  {
   "cell_type": "code",
   "execution_count": 790,
   "metadata": {},
   "outputs": [],
   "source": [
    "localy = list([] for _ in xrange(traj.n_frames))\n",
    "\n",
    "for nn in range(traj.n_frames):\n",
    "    for i in range(len(localx[nn])): \n",
    "        n = np.cross(localz[nn][i],localx[nn][i])\n",
    "        n=n/magvect(n)\n",
    "        if n[0]  <0:\n",
    "                n=n*-1\n",
    "        localy[nn].append(n)\n",
    "     "
   ]
  },
  {
   "cell_type": "code",
   "execution_count": 791,
   "metadata": {},
   "outputs": [],
   "source": [
    "localx_lipid = list([] for _ in xrange(traj.n_frames))\n",
    "localy_lipid = list([] for _ in xrange(traj.n_frames))\n",
    "\n",
    "for nn in range(traj.n_frames):\n",
    "    localx_lipid[nn]=[localx[nn][i:i + 14] for i in xrange(0, len(localx[nn]), 14)]\n",
    "    localy_lipid[nn]=[localy[nn][i:i + 14] for i in xrange(0, len(localy[nn]), 14)]"
   ]
  },
  {
   "cell_type": "code",
   "execution_count": 792,
   "metadata": {},
   "outputs": [
    {
     "name": "stdout",
     "output_type": "stream",
     "text": [
      "True\n",
      "True\n",
      "True\n",
      "True\n",
      "True\n",
      "True\n",
      "True\n",
      "True\n",
      "True\n",
      "True\n",
      "True\n"
     ]
    }
   ],
   "source": [
    "for nn in range(traj.n_frames):\n",
    "    print(len(localx_lipid[nn])==len(sn1[nn]))"
   ]
  },
  {
   "cell_type": "markdown",
   "metadata": {},
   "source": [
    "# Order Parameter Calculation"
   ]
  },
  {
   "cell_type": "code",
   "execution_count": 793,
   "metadata": {},
   "outputs": [],
   "source": [
    "Anglexx = list([] for _ in xrange(traj.n_frames))\n",
    "Angleyy = list([] for _ in xrange(traj.n_frames))\n",
    "\n",
    "for nn in range(traj.n_frames):\n",
    "    for i in range(len(localx_lipid[nn])):\n",
    "        for j in range(len(localx_lipid[nn][i])):\n",
    "            a=cos_angle(localx_lipid[nn][i][j].tolist(),[0,0,1])\n",
    "            if math.isnan(a)==True:\n",
    "                print(a)\n",
    "            if a>np.pi/2:\n",
    "                a=float(np.pi - a)\n",
    "            Anglexx[nn].append(a)\n",
    "            \n",
    "for nn in range(traj.n_frames):\n",
    "    for i in range(len(localy_lipid[nn])):\n",
    "        for j in range(len(localy_lipid[nn][i])):\n",
    "            a=cos_angle(localy_lipid[nn][i][j],membrane_normal[nn][i])\n",
    "            #if math.isnan(a)=='True':\n",
    "                #print(nn,i,j)\n",
    "            if a>np.pi/2:\n",
    "                \n",
    "                a=float(np.pi - a)\n",
    "            Angleyy[nn].append(a)\n"
   ]
  },
  {
   "cell_type": "code",
   "execution_count": 794,
   "metadata": {},
   "outputs": [],
   "source": [
    "Sxx = list([] for _ in xrange(traj.n_frames))\n",
    "Syy = list([] for _ in xrange(traj.n_frames))\n",
    "Sxy = list([] for _ in xrange(traj.n_frames))\n",
    "\n",
    "for nn in range(traj.n_frames):\n",
    "    for i in range(len(localx_lipid[nn])):\n",
    "        for j in range(len(localx_lipid[nn][i])):\n",
    "            Sxx[nn].append((3*cos_angle(localx_lipid[nn][i][j],membrane_normal[nn][i])**2 - 1)/2)\n",
    "            Syy[nn].append((3*cos_angle(localy_lipid[nn][i][j],membrane_normal[nn][i])**2 - 1)/2)\n"
   ]
  },
  {
   "cell_type": "code",
   "execution_count": 795,
   "metadata": {},
   "outputs": [],
   "source": [
    "for nn in range(traj.n_frames):\n",
    "    for i in range(len(Anglexx[nn])): \n",
    "        if math.isnan(Anglexx[nn][i]):\n",
    "            print(nn,i)"
   ]
  },
  {
   "cell_type": "code",
   "execution_count": 796,
   "metadata": {},
   "outputs": [],
   "source": [
    "OrderParam = list([] for _ in xrange(traj.n_frames))\n",
    "FinalOP = list([] for _ in xrange(traj.n_frames))\n",
    "for nn in range(traj.n_frames):\n",
    "    for i in range(len(Sxx[nn])):\n",
    "        OrderParam[nn].append((2*Sxx[nn][i]+Syy[nn][i])/3)\n",
    "for nn in range(traj.n_frames): \n",
    "    FinalOP[nn]=[OrderParam[nn][i:i + 14] for i in xrange(0, len(OrderParam[nn]), 14)]"
   ]
  },
  {
   "cell_type": "code",
   "execution_count": 798,
   "metadata": {},
   "outputs": [],
   "source": [
    "DataOP = list([] for _ in xrange(traj.n_frames))\n",
    "Final =[]\n",
    "\n",
    "for nn in range(traj.n_frames):\n",
    "    DataOP[nn]=np.mean(FinalOP[nn],axis=0,dtype=float)\n",
    "\n",
    "Final_AVG=np.mean(DataOP,axis=0,dtype=float)\n",
    "Final_STD=np.std(DataOP,axis=0,dtype=float)"
   ]
  },
  {
   "cell_type": "code",
   "execution_count": 799,
   "metadata": {},
   "outputs": [
    {
     "data": {
      "text/plain": [
       "array([-0.12620785, -0.1602688 , -0.16824241, -0.18518552, -0.17296974,\n",
       "       -0.19321158, -0.1522829 , -0.12637643, -0.0715093 , -0.1012805 ,\n",
       "       -0.14352158, -0.11820879, -0.1258291 , -0.08918895])"
      ]
     },
     "execution_count": 799,
     "metadata": {},
     "output_type": "execute_result"
    }
   ],
   "source": [
    "Final_AVG"
   ]
  },
  {
   "cell_type": "code",
   "execution_count": 800,
   "metadata": {},
   "outputs": [],
   "source": [
    "file=open('aSymmetric-POPE-OP-AVG.txt',\"a+\")\n",
    "\n",
    "file.write(str(float(name)))\n",
    "file.write(\",\")\n",
    "\n",
    "for i in range(len(Final_AVG)):\n",
    "    file.write(str(float(Final_AVG[i])))\n",
    "    file.write(\",\")\n",
    "               \n",
    "file.write('\\n')\n",
    "file.write('\\n')"
   ]
  },
  {
   "cell_type": "code",
   "execution_count": 802,
   "metadata": {},
   "outputs": [],
   "source": [
    "file=open('aSymmetric-POPE-OP-STD.txt',\"a+\")\n",
    "\n",
    "file.write(str(float(name)))\n",
    "file.write(\",\")\n",
    "for i in range(len(Final_STD)):\n",
    "    file.write(str(float(Final_STD[i])))\n",
    "    file.write(\",\")\n",
    "file.write('\\n')\n",
    "file.write('\\n')"
   ]
  },
  {
   "cell_type": "code",
   "execution_count": null,
   "metadata": {},
   "outputs": [],
   "source": [
    "np.mean(DataOP,axis=0,dtype=float)"
   ]
  },
  {
   "cell_type": "code",
   "execution_count": null,
   "metadata": {},
   "outputs": [],
   "source": []
  },
  {
   "cell_type": "code",
   "execution_count": null,
   "metadata": {},
   "outputs": [],
   "source": []
  }
 ],
 "metadata": {
  "kernelspec": {
   "display_name": "Python 2",
   "language": "python",
   "name": "python2"
  },
  "language_info": {
   "codemirror_mode": {
    "name": "ipython",
    "version": 2
   },
   "file_extension": ".py",
   "mimetype": "text/x-python",
   "name": "python",
   "nbconvert_exporter": "python",
   "pygments_lexer": "ipython2",
   "version": "2.7.15"
  }
 },
 "nbformat": 4,
 "nbformat_minor": 2
}

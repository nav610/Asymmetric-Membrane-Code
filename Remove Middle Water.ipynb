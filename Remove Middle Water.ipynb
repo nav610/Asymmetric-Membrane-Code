{
 "cells": [
  {
   "cell_type": "markdown",
   "metadata": {},
   "source": [
    "# Removal of Middle Waters from United Atom Bilayers post gmx_solvate"
   ]
  },
  {
   "cell_type": "markdown",
   "metadata": {},
   "source": [
    "Naveen Mohideen, Cornell University, Feigenson Lab    10.17.18"
   ]
  },
  {
   "cell_type": "code",
   "execution_count": 1,
   "metadata": {},
   "outputs": [],
   "source": [
    "from __future__ import print_function\n",
    "%matplotlib inline\n",
    "import mdtraj as md\n",
    "import numpy as np\n",
    "import matplotlib.pyplot as plt\n",
    "from matplotlib.collections import PatchCollection\n",
    "from matplotlib.patches import Polygon\n",
    "#import scipy.cluster.hierarchy\n",
    "import scipy.spatial"
   ]
  },
  {
   "cell_type": "code",
   "execution_count": null,
   "metadata": {},
   "outputs": [],
   "source": [
    "traj=md.load('ua_symRho=ptseven-gmxsolvated.xtc',top='ua_symRho=ptseven-gmxsolvated.gro')"
   ]
  },
  {
   "cell_type": "code",
   "execution_count": null,
   "metadata": {},
   "outputs": [],
   "source": [
    "name='ua_symRho=ptseven-gmxsolvated'"
   ]
  },
  {
   "cell_type": "code",
   "execution_count": null,
   "metadata": {},
   "outputs": [],
   "source": [
    "traj.n_frames"
   ]
  },
  {
   "cell_type": "code",
   "execution_count": 273,
   "metadata": {},
   "outputs": [],
   "source": [
    "topology=traj.topology\n",
    "allhead=topology.select('name P8 or name P11')\n",
    "water=topology.select('name O')"
   ]
  },
  {
   "cell_type": "code",
   "execution_count": 274,
   "metadata": {},
   "outputs": [],
   "source": [
    "resnames=[atom.residue.name for atom in topology.atoms]"
   ]
  },
  {
   "cell_type": "markdown",
   "metadata": {},
   "source": [
    "# 1: Sort Lipids into Upper/Lower Leaflet"
   ]
  },
  {
   "cell_type": "code",
   "execution_count": 275,
   "metadata": {},
   "outputs": [],
   "source": [
    "#x,y coordinates of all for finding neighbors to determine local midplane z-value\n",
    "# here, best to use xy radius of neighbors, since Voronoi across 2 leaflets could have complications\n",
    "\n",
    "allheadxy=list([] for _ in xrange(traj.n_frames))\n",
    "allheadz=list([] for _ in xrange(traj.n_frames))\n",
    "for nn in range(traj.n_frames):\n",
    "    for i in range(len(allhead)):\n",
    "        allheadi=allhead[i]\n",
    "        allheadxy[nn].append(traj.xyz[nn][allheadi][0:2:1])\n",
    "        allheadz[nn].append(traj.xyz[nn][allheadi][2])\n"
   ]
  },
  {
   "cell_type": "code",
   "execution_count": 276,
   "metadata": {},
   "outputs": [],
   "source": [
    "# mdtraj can't handle neighbors for gro (rather than xtc) inputs, so do it myself\n",
    "#cutoffsq = 2.4**2; #square of maximum xy distance for neighbors\n",
    "cutoffsq=1.0**2\n",
    "neigh=list([] for _ in xrange(traj.n_frames))\n",
    "for nn in range(traj.n_frames):\n",
    "    neigh[nn]=list([] for _ in xrange(len(allhead)))\n",
    "    for i in range(len(allheadxy[nn])):\n",
    "        xyi=allheadxy[nn][i]\n",
    "        for j in range(len(allhead)-i-1): #not self, but will add for midplane finding\n",
    "            xyj=allheadxy[nn][j+i+1]\n",
    "            distsq=(xyi[0]-xyj[0])**2 + (xyi[1]-xyj[1])**2\n",
    "            if (distsq < cutoffsq):\n",
    "                neigh[nn][i].append(j+i+1)\n",
    "                neigh[nn][j+i+1].append(i)\n",
    "  "
   ]
  },
  {
   "cell_type": "code",
   "execution_count": 277,
   "metadata": {},
   "outputs": [],
   "source": [
    "#new leaflet id method based on tilt angles; PO4-C4A or ROH-C1 (both +6 beads)\n",
    "num_head=len(allhead)\n",
    "tiltvectors=list([] for _ in xrange(traj.n_frames))\n",
    "\n",
    "for nn in range(traj.n_frames):\n",
    "    tiltvectors[nn]=list([] for _ in xrange(num_head)) #store vector roh-c1 or po4-c4a\n",
    "    \n",
    "    for i in range(num_head):\n",
    "        tiltvectors[nn][i]=traj.xyz[nn][allhead[i]]-traj.xyz[nn][allhead[i]+6]\n"
   ]
  },
  {
   "cell_type": "code",
   "execution_count": 278,
   "metadata": {},
   "outputs": [],
   "source": [
    "# must fix periodic boundary condition errors in tiltvectors, then calculate tiltangle\n",
    "norms=list([] for _ in xrange(traj.n_frames))\n",
    "for nn in range(traj.n_frames):\n",
    "    norms[nn]=list([] for _ in xrange(len(allhead)))\n",
    "    halfx=0.5*traj.unitcell_lengths[nn][0]\n",
    "    halfy=0.5*traj.unitcell_lengths[nn][1]\n",
    "    halfz=0.5*traj.unitcell_lengths[nn][2]\n",
    "    for i in range(len(allhead)):\n",
    "        norms[nn][i]=np.linalg.norm(tiltvectors[nn][i])\n",
    "        if (norms[nn][i] > halfz):\n",
    "            if (np.abs(tiltvectors[nn][i][0]) > halfx):\n",
    "                if (tiltvectors[nn][i][0]>0): \n",
    "                    tiltvectors[nn][i][0]=tiltvectors[nn][i][0]-2*halfx\n",
    "                else:\n",
    "                    tiltvectors[nn][i][0]=tiltvectors[nn][i][0]+2*halfx\n",
    "            if (np.abs(tiltvectors[nn][i][1]) > halfy):\n",
    "                if (tiltvectors[nn][i][1]>0): \n",
    "                    tiltvectors[nn][i][1]=tiltvectors[nn][i][1]-2*halfy\n",
    "                else:\n",
    "                    tiltvectors[nn][i][1]=tiltvectors[nn][i][1]+2*halfy\n",
    "            if (np.abs(tiltvectors[nn][i][2]) > halfz):\n",
    "                if (tiltvectors[nn][i][2]>0): \n",
    "                    tiltvectors[nn][i][2]=tiltvectors[nn][i][2]-2*halfz\n",
    "                else:\n",
    "                    tiltvectors[nn][i][2]=tiltvectors[nn][i][2]+2*halfz\n",
    "\n",
    "    for i in range(len(allhead)):\n",
    "        norms[nn][i]=np.linalg.norm(tiltvectors[nn][i])\n"
   ]
  },
  {
   "cell_type": "code",
   "execution_count": 279,
   "metadata": {},
   "outputs": [],
   "source": [
    "# use neigh to find local average tilt vector, outliers are not in a leaflet\n",
    "# if pointing neg in z, flip in x,y,z for making average in outer leaflet\n",
    "localvector=list([] for _ in xrange(traj.n_frames))\n",
    "for nn in range(traj.n_frames):\n",
    "    localvector[nn]=list([] for _ in xrange(len(allhead)))\n",
    "    for i in range(len(allhead)):\n",
    "        localvectorsx=[]\n",
    "        localvectorsy=[]\n",
    "        localvectorsz=[]\n",
    "        sgn=np.sign(tiltvectors[nn][i][2])\n",
    "        localvectorsx.append(sgn*tiltvectors[nn][i][0]) #include self\n",
    "        localvectorsy.append(sgn*tiltvectors[nn][i][1]) #include self\n",
    "        localvectorsz.append(sgn*tiltvectors[nn][i][2]) #include self\n",
    "        for j in range(len(neigh[nn][i])):\n",
    "            sgn=np.sign(tiltvectors[nn][neigh[nn][i][j]][2])\n",
    "            localvectorsx.append(sgn*tiltvectors[nn][neigh[nn][i][j]][0])\n",
    "            localvectorsy.append(sgn*tiltvectors[nn][neigh[nn][i][j]][1])\n",
    "            localvectorsz.append(sgn*tiltvectors[nn][neigh[nn][i][j]][2])\n",
    "        localvector[nn][i]=[np.mean(localvectorsx),np.mean(localvectorsy),np.mean(localvectorsz)]\n",
    "       "
   ]
  },
  {
   "cell_type": "code",
   "execution_count": 280,
   "metadata": {},
   "outputs": [],
   "source": [
    "# find angle between orientation vector and local average orientation vector for each lipid\n",
    "# in range [0,180]\n",
    "diffangle=list([] for _ in xrange(traj.n_frames))\n",
    "for nn in range(traj.n_frames):\n",
    "    diffangle[nn]=list([] for _ in xrange(len(allhead)))\n",
    "    for i in range(len(allhead)):\n",
    "        normlv=np.linalg.norm(localvector[nn][i])\n",
    "        normtv=np.linalg.norm(tiltvectors[nn][i])\n",
    "        cos=np.dot(localvector[nn][i],tiltvectors[nn][i])/(normlv*normtv)\n",
    "        if (cos==0):\n",
    "            diffangle[nn][i]=90\n",
    "        elif (cos==1 and np.sign(localvector[nn][i][2])==np.sign(tiltvectors[nn][i][2])):\n",
    "            diffangle[nn][i]=0\n",
    "        elif (cos==1 and np.sign(localvector[nn][i][2])==np.sign(tiltvectors[nn][i][2])):\n",
    "            diffangle[nn][i]=180\n",
    "        else:\n",
    "            diffangle[nn][i]=np.arccos(cos)*180./np.pi\n"
   ]
  },
  {
   "cell_type": "code",
   "execution_count": 281,
   "metadata": {},
   "outputs": [],
   "source": [
    "#have array with values placing each head in one leaflet: 0=lower, 1=upper, 2=between\n",
    "head_leaflet=list([] for _ in xrange(traj.n_frames))\n",
    "for nn in range(traj.n_frames):\n",
    "    head_leaflet[nn]=list([] for _ in xrange(len(allhead)))\n",
    "    for i in range(len(allhead)):\n",
    "        if (diffangle[nn][i]>120):\n",
    "            head_leaflet[nn][i]=0\n",
    "        elif (diffangle[nn][i]<60):\n",
    "            head_leaflet[nn][i]=1\n",
    "        else:\n",
    "            head_leaflet[nn][i]=2"
   ]
  },
  {
   "cell_type": "code",
   "execution_count": 282,
   "metadata": {},
   "outputs": [],
   "source": [
    "# want to identify all midplane chol and remove all \"midplane\" phospholipids\n",
    "# tilt angle insufficient\n",
    "# chol: find distance from ROH to nearest PO4; if beyond threshold, then in midplane; \n",
    "# else, copy leaflet ID (do for all phospholipids); only if copying non-midplane\n",
    "\n",
    "for nn in range(traj.n_frames):\n",
    "    fixedchol=0\n",
    "    fixedphos=0\n",
    "    midplanechol=0\n",
    "    for i in range(len(allhead)):\n",
    "        mindist=100.0\n",
    "        if (head_leaflet[nn][i]==2 and (not resnames[allhead[i]]=='CHOL')): #phospholipids, must assign\n",
    "            for j in range(len(neigh[nn][i])):\n",
    "                if (not resnames[allhead[neigh[nn][i][j]]]=='CHOL'):\n",
    "                    dist=np.linalg.norm(traj.xyz[nn][allhead[i]]-traj.xyz[nn][allhead[neigh[nn][i][j]]])\n",
    "                    if (dist < mindist and (not head_leaflet[nn][neigh[nn][i][j]]==2)):\n",
    "                        mindist=dist\n",
    "                        correct_leaflet=head_leaflet[nn][neigh[nn][i][j]]\n",
    "            head_leaflet[nn][i]=correct_leaflet\n",
    "            fixedphos=fixedphos+1\n",
    "    #must fix all phospholipids before all chols, since some may use fixed phospholipid leaflet id\n",
    "    # so, must go through allhead twice\n",
    "    for i in range(len(allhead)):\n",
    "        mindist=100.0\n",
    "        if (resnames[allhead[i]]=='CHOL'): #all chol, ignoring angle\n",
    "            for j in range(len(neigh[nn][i])):\n",
    "                if (not resnames[allhead[neigh[nn][i][j]]]=='CHOL'):\n",
    "                    dist=np.linalg.norm(traj.xyz[nn][allhead[i]]-traj.xyz[nn][allhead[neigh[nn][i][j]]])\n",
    "                    if (dist < mindist and (not head_leaflet[nn][neigh[nn][i][j]]==2)):\n",
    "                        mindist=dist\n",
    "                        correct_leaflet=head_leaflet[nn][neigh[nn][i][j]]\n",
    "            if (mindist<1.4): #close to a headgroup, so in a leaflet\n",
    "                head_leaflet[nn][i]=correct_leaflet\n",
    "                fixedchol=fixedchol+1\n",
    "            else:\n",
    "                head_leaflet[nn][i]=2\n",
    "                midplanechol=midplanechol+1"
   ]
  },
  {
   "cell_type": "code",
   "execution_count": 283,
   "metadata": {},
   "outputs": [],
   "source": [
    "# only need upper leaflet heads for this situation\n",
    "upperheads=list([] for _ in xrange(traj.n_frames))\n",
    "lowerheads=list([] for _ in xrange(traj.n_frames))\n",
    "middle=list([] for _ in xrange(traj.n_frames))\n",
    "waterhead=list([] for _ in xrange(traj.n_frames))\n",
    "for nn in range(traj.n_frames):\n",
    "#    upperheads[nn]=[]\n",
    "    for i in range(len(allhead)):\n",
    "        if head_leaflet[nn][i]==1:\n",
    "            upperheads[nn].append(allhead[i])\n",
    "        if head_leaflet[nn][i]==0:\n",
    "            lowerheads[nn].append(allhead[i])\n",
    "        if head_leaflet[nn][i]==2:\n",
    "            middle[nn].append(allhead[i])\n",
    "\n",
    "for nn in range(traj.n_frames): \n",
    "    for i in range(len(water)): \n",
    "        waterhead[nn].append(water[i])"
   ]
  },
  {
   "cell_type": "code",
   "execution_count": 284,
   "metadata": {},
   "outputs": [],
   "source": [
    "#find xyz coordinates of water\n",
    "\n",
    "waterheadxy=list([] for _ in xrange(traj.n_frames))\n",
    "for nn in range(traj.n_frames):\n",
    "    for i in range(len(waterhead[nn])):\n",
    "        waterheadi=waterhead[nn][i]\n",
    "        waterheadxy[nn].append(traj.xyz[nn][waterheadi][0:3:1])\n"
   ]
  },
  {
   "cell_type": "code",
   "execution_count": 285,
   "metadata": {},
   "outputs": [],
   "source": [
    "upperheadxy=list([] for _ in xrange(traj.n_frames)) #[frame][head]\n",
    "for nn in range(traj.n_frames):\n",
    "#    headxy[nn]=list([] for _ in xrange(len(upperheads[nn])))\n",
    "    for i in range(len(upperheads[nn])):\n",
    "        upperheadsi=upperheads[nn][i]\n",
    "        upperheadxy[nn].append(traj.xyz[nn][upperheadsi][0:3:1])\n",
    "\n",
    "lowerheadxy = list([] for _ in xrange(traj.n_frames))\n",
    "for nn in range(traj.n_frames): \n",
    "    for i in range(len(lowerheads[nn])): \n",
    "        lowerheadsi=lowerheads[nn][i]\n",
    "        lowerheadxy[nn].append(traj.xyz[nn][lowerheadsi][0:3:1])\n",
    "        "
   ]
  },
  {
   "cell_type": "markdown",
   "metadata": {},
   "source": [
    "# 2: Find Lipid Opposite Leaflet Neighbors"
   ]
  },
  {
   "cell_type": "code",
   "execution_count": 286,
   "metadata": {},
   "outputs": [],
   "source": [
    "#find closest neighbors between upperheads and lowerheads \n",
    "#lipid_opp_distance = list([] for _ in xrange(traj.n_frames))\n",
    "lipid_opp_neighbors = list([] for _ in xrange(traj.n_frames))\n",
    "\n",
    "for nn in range(traj.n_frames): \n",
    "    for i in range(len(upperheadxy[nn])): \n",
    "        pairs=[]\n",
    "        for j in range(len(lowerheadxy[nn])): \n",
    "            r=(upperheadxy[nn][i][0]-lowerheadxy[nn][j][0])**2 + (upperheadxy[nn][i][1]-lowerheadxy[nn][j][1])**2\n",
    "            if r<5:\n",
    "                pairs.append(lowerheads[nn][j])\n",
    "        lipid_opp_neighbors[nn].append([i,pairs])\n",
    "        "
   ]
  },
  {
   "cell_type": "code",
   "execution_count": 361,
   "metadata": {},
   "outputs": [],
   "source": [
    "#find closest neighbors between upperheads and lowerheads \n",
    "#lipid_opp_distance = list([] for _ in xrange(traj.n_frames))\n",
    "lipid_opp_neighbors_rev = list([] for _ in xrange(traj.n_frames))\n",
    "\n",
    "for nn in range(traj.n_frames): \n",
    "    for i in range(len(lowerheadxy[nn])): \n",
    "        pairs=[]\n",
    "        for j in range(len(upperheadxy[nn])): \n",
    "            r=(upperheadxy[nn][j][0]-lowerheadxy[nn][i][0])**2 + (upperheadxy[nn][j][1]-lowerheadxy[nn][i][1])**2\n",
    "            if r<5:\n",
    "                pairs.append(upperheads[nn][j])\n",
    "        lipid_opp_neighbors_rev[nn].append([i,pairs])\n",
    "        "
   ]
  },
  {
   "cell_type": "code",
   "execution_count": 365,
   "metadata": {},
   "outputs": [],
   "source": [
    "#sort through the list of close neighbors and find closest lipid\n",
    "lipid_pairs = list([] for _ in xrange(traj.n_frames))\n",
    "lipid_distance= list([] for _ in xrange(traj.n_frames))\n",
    "\n",
    "for nn in range(traj.n_frames): \n",
    "    for i in range(len(upperheads[nn])): \n",
    "        lipid_distance[nn].append(10000000)\n",
    "        lipid_pairs[nn].append([i,0])\n",
    "        \n",
    "        \n",
    "for nn in range(traj.n_frames): \n",
    "    for i in range(len(lipid_opp_neighbors[nn])):\n",
    "        for j in range(len(lipid_opp_neighbors[nn][i][1])):\n",
    "            upperindex=lipid_opp_neighbors[nn][i][0]\n",
    "            lowerheadvalue=lipid_opp_neighbors[nn][i][1][j]\n",
    "            lowerindex=lowerheads[nn].index(lowerheadvalue)\n",
    "            d = (upperheadxy[nn][upperindex][0] - lowerheadxy[nn][lowerindex][0])**2 + (upperheadxy[nn][upperindex][1] - lowerheadxy[nn][lowerindex][1])**2 + (upperheadxy[nn][upperindex][2] - lowerheadxy[nn][lowerindex][2])**2\n",
    "           \n",
    "            if d<lipid_distance[nn][i]: \n",
    "                #print('true')\n",
    "                lipid_distance[nn][i] = d \n",
    "                lipid_pairs[nn][i] = [upperindex,lowerindex]"
   ]
  },
  {
   "cell_type": "code",
   "execution_count": 384,
   "metadata": {},
   "outputs": [],
   "source": [
    "#sort through the list of close neighbors and find closest lipid\n",
    "lipid_pairs_rev = list([] for _ in xrange(traj.n_frames))\n",
    "lipid_distance_rev= list([] for _ in xrange(traj.n_frames))\n",
    "\n",
    "for nn in range(traj.n_frames): \n",
    "    for i in range(len(upperheads[nn])): \n",
    "        lipid_distance_rev[nn].append(10000000)\n",
    "        lipid_pairs_rev[nn].append([i,0])\n",
    "        \n",
    "        \n",
    "for nn in range(traj.n_frames): \n",
    "    for i in range(len(lipid_opp_neighbors_rev[nn])):\n",
    "        for j in range(len(lipid_opp_neighbors_rev[nn][i][1])):\n",
    "            lowerindex=lipid_opp_neighbors_rev[nn][i][0]\n",
    "            upperheadvalue=lipid_opp_neighbors_rev[nn][i][1][j]\n",
    "            upperindex=upperheads[nn].index(upperheadvalue)\n",
    "            d = (lowerheadxy[nn][lowerindex][0] - upperheadxy[nn][upperindex][0])**2 + (lowerheadxy[nn][lowerindex][1] - upperheadxy[nn][upperindex][1])**2 + (lowerheadxy[nn][lowerindex][2] - upperheadxy[nn][upperindex][2])**2\n",
    "            if d<lipid_distance_rev[nn][i]: \n",
    "                #print('true')\n",
    "                lipid_distance_rev[nn][i] = d \n",
    "                lipid_pairs_rev[nn][i] = [lowerindex,upperindex]"
   ]
  },
  {
   "cell_type": "markdown",
   "metadata": {},
   "source": [
    "# 3: Assign Water to closest Lipid Head"
   ]
  },
  {
   "cell_type": "markdown",
   "metadata": {},
   "source": [
    "Read Me: Methodology for Reducing Simulation Time of Closest Neighbor Search\n",
    "1. Put all lipid heads in ascending order. \n",
    "2.  Find closest value in headgroup \n",
    "3.  Use that closest value as starting point group\n",
    "4.  Branch out left, and branch out right until\n",
    "5.  You could find the closest value that is 5 greater and 5 less --> those become your end points\n",
    "6. Only look for closest neighbors between -5,+5 bounds"
   ]
  },
  {
   "cell_type": "code",
   "execution_count": 288,
   "metadata": {},
   "outputs": [],
   "source": [
    "#All lipid heads in ascending order\n",
    "def make_ascend(frames,upperheadxy,unit_vector):\n",
    "    lipidhead_ascending_index = list([] for _ in xrange(frames))\n",
    "    lipidhead_ascending_value = list([] for _ in xrange(frames))\n",
    "\n",
    "    for nn in range(frames): \n",
    "        for i in range(len(upperheadxy[nn])): \n",
    "            lipidhead_ascending_value[nn].append(upperheadxy[nn][i][int(unit_vector)]) #copy x upperhead values into array\n",
    "    \n",
    "    for nn in range(frames): \n",
    "        lipidhead_ascending_index[nn] = np.argsort(lipidhead_ascending_value[nn])#find array which takes sorted array and translates to upperhead \n",
    "        lipidhead_ascending_value[nn] = np.sort(lipidhead_ascending_value[nn]) #sort array\n",
    "        \n",
    "    return lipidhead_ascending_index,lipidhead_ascending_value"
   ]
  },
  {
   "cell_type": "code",
   "execution_count": 289,
   "metadata": {},
   "outputs": [],
   "source": [
    "#find starting point, left min, right max \n",
    "def min_max_value(frames,waterheadxy,lipid_ascending_value,radius,index_array):\n",
    "    lipid_closest_water = list([] for _ in xrange(frames))\n",
    "    lipid_leftbound = list([] for _ in xrange(frames))\n",
    "    lipid_rightbound = list([] for _ in xrange(frames))\n",
    "\n",
    "    for nn in range(frames): \n",
    "        for i in range(len(waterheadxy[nn])): \n",
    "            indx = np.abs(lipid_ascending_value[nn]-waterheadxy[nn][i][0]).argmin() #find closest lipid head to waterhead[nn][i]]\n",
    "            lipid_closest_water[nn].append(indx) #save that value\n",
    "\n",
    "    for nn in range(frames): \n",
    "        for i in range(len(waterheadxy[nn])): \n",
    "            low_value=waterheadxy[nn][i][0] - int(radius) #find closest lipid that is -5 away from waterhead[nn][i]\n",
    "            lipid_leftbound[nn].append(abs(lipid_ascending_value[nn]-low_value).argmin())\n",
    "            high_value=waterheadxy[nn][i][0] + int(radius)\n",
    "            lipid_rightbound[nn].append(abs(lipid_ascending_value[nn]-high_value).argmin())#find closest lipid that is +5 away from waterhead[nn][i] \n",
    "    return lipid_leftbound,lipid_closest_water,lipid_rightbound\n"
   ]
  },
  {
   "cell_type": "code",
   "execution_count": 290,
   "metadata": {},
   "outputs": [],
   "source": [
    "def water_searchneigh(frames,waterheadxy,lipid_leftbound,lipid_rightbound,ascending_index):\n",
    "    water_searchneigh = list([] for _ in xrange(frames))\n",
    "\n",
    "    for nn in range(frames): \n",
    "        for i in range(len(waterheadxy[nn])): \n",
    "            leftbound=lipid_leftbound[nn][i]\n",
    "            rightbound=lipid_rightbound[nn][i]\n",
    "            index=leftbound\n",
    "            local=[]\n",
    "            while index<=rightbound:\n",
    "                local.append(ascending_index[nn][index])\n",
    "                index=index+1\n",
    "            water_searchneigh[nn].append(local) #place upperheadlipids  which are close in an array. index corresponds to waterheadxy[nn]\n",
    "    return water_searchneigh\n",
    "    "
   ]
  },
  {
   "cell_type": "code",
   "execution_count": 291,
   "metadata": {},
   "outputs": [],
   "source": [
    "upper_ascending_index,upper_ascending_value=make_ascend(traj.n_frames,upperheadxy,0)\n",
    "lipid_leftbound,lipid_closest_water,lipid_rightbound=min_max_value(traj.n_frames,waterheadxy,upper_ascending_value,5,upper_ascending_index)\n",
    "water_searchneigh_upper=water_searchneigh(traj.n_frames,waterheadxy,lipid_leftbound,lipid_rightbound,upper_ascending_index)"
   ]
  },
  {
   "cell_type": "code",
   "execution_count": 292,
   "metadata": {},
   "outputs": [],
   "source": [
    "lower_ascending_index,lower_ascending_value=make_ascend(traj.n_frames,lowerheadxy,0)\n",
    "lower_lipid_leftbound,lower_lipid_closest_water,lower_lipid_rightbound=min_max_value(traj.n_frames,waterheadxy,lower_ascending_value,5,upper_ascending_index)\n",
    "water_searchneigh_lower=water_searchneigh(traj.n_frames,waterheadxy,lower_lipid_leftbound,lower_lipid_rightbound,lower_ascending_index)"
   ]
  },
  {
   "cell_type": "code",
   "execution_count": 293,
   "metadata": {},
   "outputs": [],
   "source": [
    "def water_closest_lipid(frames,water_searchneigh,upperheadxy,waterheadxy,ascending_index,upperheads):\n",
    "    water_distance = list([] for _ in xrange(frames))\n",
    "    waters_closest=list([] for _ in xrange(frames))\n",
    "    \n",
    "    for nn in range(frames):\n",
    "        for i in range(len(water_searchneigh[nn])): \n",
    "            d=1000\n",
    "            for j in range(len(water_searchneigh[nn][i])):\n",
    "                index=ascending_index[nn][water_searchneigh[nn][i][j]]\n",
    "                a=upperheadxy[nn][index]\n",
    "                b=waterheadxy[nn][i]\n",
    "                if d>(np.linalg.norm(b-a)):\n",
    "                    d=np.linalg.norm(b-a)\n",
    "                    head_closest = upperheads[nn][index]\n",
    "            waters_closest[nn].append([waterhead[nn][i],head_closest,d])\n",
    "    return waters_closest[nn]\n",
    "        "
   ]
  },
  {
   "cell_type": "code",
   "execution_count": 294,
   "metadata": {},
   "outputs": [],
   "source": [
    "waters_upper_closest=water_closest_lipid(traj.n_frames,water_searchneigh_upper,upperheadxy,waterheadxy,upper_ascending_index,upperheads)\n",
    "waters_lower_closest=water_closest_lipid(traj.n_frames,water_searchneigh_lower,lowerheadxy,waterheadxy,lower_ascending_index,lowerheads)"
   ]
  },
  {
   "cell_type": "code",
   "execution_count": 487,
   "metadata": {},
   "outputs": [],
   "source": [
    "water_grouped = []\n",
    "for i in range(len(waters_upper_closest)): \n",
    "    if waters_upper_closest[i][2]<waters_lower_closest[i][2]: #water is closest to upper leaflet \n",
    "        upper_value=upperheads[0].index(waters_upper_closest[i][1])\n",
    "        water_value=waterhead[0].index(waters_upper_closest[i][0])\n",
    "        water_grouped.append([water_value,lipid_pairs[0][upper_value][0],lipid_pairs[0][upper_value][1]])\n",
    "        \n",
    "    if waters_upper_closest[i][2]>waters_lower_closest[i][2]: #water is closest to lower leaflet \n",
    "        lower_value=lowerheads[0].index(waters_lower_closest[i][1])\n",
    "        #print(lipid_pairs_rev[0][lower_value][0])\n",
    "        water_value=waterhead[0].index(waters_lower_closest[i][0])\n",
    "        water_grouped.append([water_value,lipid_pairs_rev[0][lower_value][1],lipid_pairs_rev[0][lower_value][0]])"
   ]
  },
  {
   "cell_type": "markdown",
   "metadata": {},
   "source": [
    "# 4: Compare Z Values and Produce Index File"
   ]
  },
  {
   "cell_type": "code",
   "execution_count": 559,
   "metadata": {},
   "outputs": [],
   "source": [
    "middle_waters=[]\n",
    "outer_waters=[]\n",
    "\n",
    "for i in range(len(water_grouped)): \n",
    "    water_z=waterheadxy[0][water_grouped[i][0]][2]\n",
    "    upper_z=upperheadxy[0][water_grouped[i][1]][2]\n",
    "    lower_z=lowerheadxy[0][water_grouped[i][2]][2]\n",
    "    #print(water_z,upper_z,lower_z)\n",
    "    if water_z<upper_z and water_z>lower_z: #in the middle \n",
    "        middle_waters.append(waterhead[0][water_grouped[i][0]])\n",
    "    else: outer_waters.append(waterhead[0][water_grouped[i][0]])\n"
   ]
  },
  {
   "cell_type": "code",
   "execution_count": 571,
   "metadata": {},
   "outputs": [
    {
     "name": "stdout",
     "output_type": "stream",
     "text": [
      "yes\n"
     ]
    }
   ],
   "source": [
    "file=open(str(name)+'_waters.ndx',\"w\")\n",
    "file.write(\"[Middle_Waters]\\n\")\n",
    "for i in range(len(middle_waters)): \n",
    "    if i%100==0: \n",
    "        file.write(\"\\n\")\n",
    "    file.write(str(middle_waters[i] + 1))\n",
    "    HW1 = str(middle_waters[i]+2)\n",
    "    HW2 = str(middle_waters[i]+3)\n",
    "    file.write(\" \")\n",
    "    file.write(HW1) \n",
    "    file.write(\" \")\n",
    "    file.write(HW2) \n",
    "    file.write(\" \")\n",
    "\n",
    "file.write(\"\\n\\n\\n[Outside_Waters]\\n\")\n",
    "for i in range(len(outer_waters)): \n",
    "    if i%100==0: \n",
    "        file.write(\"\\n\")\n",
    "    file.write(str(outer_waters[i]+1))\n",
    "    if str(outer_waters[i]) == '857859': print('yes')\n",
    "    HW1 = str(outer_waters[i] +2)\n",
    "    HW2 = str(outer_waters[i] +3)\n",
    "    file.write(\" \")\n",
    "    file.write(HW1) \n",
    "    file.write(\" \")\n",
    "    file.write(HW2) \n",
    "    file.write(\" \")\n",
    "    \n",
    "file.write(\"\\n\")\n",
    "\n",
    "    "
   ]
  },
  {
   "cell_type": "code",
   "execution_count": null,
   "metadata": {},
   "outputs": [],
   "source": [
    "topology=traj.topology\n",
    "everyatom=topology.select())\n",
    "#water=topology.select('name O')"
   ]
  }
 ],
 "metadata": {
  "kernelspec": {
   "display_name": "Python 2",
   "language": "python",
   "name": "python2"
  },
  "language_info": {
   "codemirror_mode": {
    "name": "ipython",
    "version": 2
   },
   "file_extension": ".py",
   "mimetype": "text/x-python",
   "name": "python",
   "nbconvert_exporter": "python",
   "pygments_lexer": "ipython2",
   "version": "2.7.15"
  }
 },
 "nbformat": 4,
 "nbformat_minor": 1
}
